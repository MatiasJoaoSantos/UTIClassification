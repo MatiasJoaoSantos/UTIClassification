{
 "cells": [
  {
   "cell_type": "code",
   "execution_count": null,
   "metadata": {},
   "outputs": [],
   "source": [
    "import pandas as pd\n",
    "import matplotlib.pyplot as plt\n",
    "import seaborn as sns\n",
    "import numpy as np\n",
    "from IPython.display import display\n",
    "from sklearn.metrics import accuracy_score,confusion_matrix, ConfusionMatrixDisplay, classification_report\n",
    "import xgboost as xgb\n",
    "from sklearn.model_selection import train_test_split\n",
    "from sklearn.model_selection import GridSearchCV\n",
    "from imblearn.over_sampling import SMOTE\n",
    "from sklearn.metrics import accuracy_score,confusion_matrix, ConfusionMatrixDisplay, classification_report"
   ]
  },
  {
   "cell_type": "code",
   "execution_count": null,
   "metadata": {},
   "outputs": [],
   "source": [
    "def XGBoost(df):\n",
    "    X = df.drop('diagnostico', axis=1)\n",
    "    y = df['diagnostico']\n",
    "    # Substituir valores infinitos por NaN\n",
    "    #X.replace([np.inf, -np.inf], np.nan, inplace=True)\n",
    "\n",
    "    # Tratar valores NaN, preenchendo com a média da coluna\n",
    "    #X.fillna(X.mean(), inplace=True)\n",
    "\n",
    "    # Verificar e tratar valores extremamente grandes (se necessário)\n",
    "    #max_value = np.finfo(np.float64).max\n",
    "    #X = X.clip(lower=-max_value, upper=max_value)\n",
    "    \n",
    "    X_train, X_test, y_train, y_test = train_test_split(X, y, test_size=0.2, random_state=1)\n",
    "    X_train, X_val, y_train, y_val = train_test_split(X_train, y_train, test_size=0.25, random_state=1)\n",
    "\n",
    "    # Aplicar SMOTE ao conjunto de treinamento\n",
    "    smote = SMOTE(random_state=1)\n",
    "    X_train_smote, y_train_smote = smote.fit_resample(X_train, y_train)\n",
    "    \n",
    "    params_grid = {\n",
    "        'learning_rate': [0.01],\n",
    "        'gamma': [0, 0.1],\n",
    "        'n_estimators': [100, 200],\n",
    "        'max_depth': [3, 4, 5],\n",
    "        'min_child_weight': [2, 3, 4],\n",
    "        'subsample': [0.6, 0.8, 1],\n",
    "        'colsample_bytree': [0.5, 0.7],\n",
    "        'scale_pos_weight': [1, 2]\n",
    "    }\n",
    "\n",
    "    classifier = xgb.XGBClassifier()\n",
    "\n",
    "    grid_classifier = GridSearchCV(classifier, params_grid, scoring='accuracy', cv=5)\n",
    "    grid_classifier.fit(X_val, y_val)\n",
    "    best_parameters = grid_classifier.best_params_\n",
    "    \n",
    "    model = xgb.XGBClassifier(**best_parameters)\n",
    "    model.fit(X_train_smote, y_train_smote)\n",
    "    pred = model.predict(X_test)\n",
    "    test_accuracy = accuracy_score(y_test, pred)\n",
    "    print(classification_report(y_test,pred))\n",
    "    print(confusion_matrix(y_test, pred))\n",
    "\n",
    "    plt.figure(figsize=(8, 6))\n",
    "    sns.heatmap(confusion_matrix(y_test, pred), annot=True, fmt='d', cmap='Blues', xticklabels=['Sem Sepse', 'Com Sepse'], yticklabels=['Sem Sepse', 'Com Sepse'])\n",
    "    plt.xlabel('Predito')\n",
    "    plt.ylabel('Verdadeiro')\n",
    "    plt.title('Matriz de Confusão')\n",
    "    plt.show()"
   ]
  },
  {
   "cell_type": "markdown",
   "metadata": {},
   "source": [
    "Valores normais"
   ]
  },
  {
   "cell_type": "code",
   "execution_count": null,
   "metadata": {},
   "outputs": [],
   "source": [
    "df_normal = pd.read_csv('df_normal.csv')\n",
    "XGBoost(df_normal)"
   ]
  },
  {
   "cell_type": "markdown",
   "metadata": {},
   "source": [
    "KNN"
   ]
  },
  {
   "cell_type": "code",
   "execution_count": null,
   "metadata": {},
   "outputs": [],
   "source": [
    "df_knn = pd.read_csv('df_knn.csv')\n",
    "XGBoost(df_knn)"
   ]
  },
  {
   "cell_type": "markdown",
   "metadata": {},
   "source": [
    "Media"
   ]
  },
  {
   "cell_type": "code",
   "execution_count": null,
   "metadata": {},
   "outputs": [],
   "source": [
    "df_media = pd.read_csv('df_media.csv')\n",
    "XGBoost(df_media)"
   ]
  },
  {
   "cell_type": "markdown",
   "metadata": {},
   "source": [
    "Mediana"
   ]
  },
  {
   "cell_type": "code",
   "execution_count": null,
   "metadata": {},
   "outputs": [],
   "source": [
    "df_mediana = pd.read_csv('df_mediana.csv')\n",
    "XGBoost(df_mediana)"
   ]
  },
  {
   "cell_type": "markdown",
   "metadata": {},
   "source": [
    "Moda"
   ]
  },
  {
   "cell_type": "code",
   "execution_count": null,
   "metadata": {},
   "outputs": [],
   "source": [
    "df_moda = pd.read_csv('df_moda.csv')\n",
    "XGBoost(df_moda)"
   ]
  },
  {
   "cell_type": "markdown",
   "metadata": {},
   "source": [
    "Regressão"
   ]
  },
  {
   "cell_type": "code",
   "execution_count": null,
   "metadata": {},
   "outputs": [],
   "source": [
    "df_regressao = pd.read_csv('df_regressao.csv')\n",
    "XGBoost(df_regressao)"
   ]
  }
 ],
 "metadata": {
  "language_info": {
   "name": "python"
  }
 },
 "nbformat": 4,
 "nbformat_minor": 2
}
