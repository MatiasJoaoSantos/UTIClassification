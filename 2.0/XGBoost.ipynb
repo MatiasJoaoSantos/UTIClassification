{
 "cells": [
  {
   "cell_type": "code",
   "execution_count": 1,
   "metadata": {
    "execution": {
     "iopub.execute_input": "2024-07-17T11:02:21.878378Z",
     "iopub.status.busy": "2024-07-17T11:02:21.878208Z",
     "iopub.status.idle": "2024-07-17T11:02:22.785276Z",
     "shell.execute_reply": "2024-07-17T11:02:22.784929Z"
    }
   },
   "outputs": [
    {
     "name": "stderr",
     "output_type": "stream",
     "text": [
      "Matplotlib created a temporary cache directory at /tmp/matplotlib-33ctipct because the default path (/home/grad/ccomp/23/matias.joao/.config/matplotlib) is not a writable directory; it is highly recommended to set the MPLCONFIGDIR environment variable to a writable directory, in particular to speed up the import of Matplotlib and to better support multiprocessing.\n"
     ]
    }
   ],
   "source": [
    "import pandas as pd\n",
    "import matplotlib.pyplot as plt\n",
    "import seaborn as sns\n",
    "import numpy as np\n",
    "from IPython.display import display\n",
    "from sklearn.model_selection import train_test_split\n",
    "from sklearn.model_selection import GridSearchCV, StratifiedKFold\n",
    "import xgboost as xgb\n",
    "from sklearn.utils import resample\n",
    "from sklearn.metrics import accuracy_score,confusion_matrix, ConfusionMatrixDisplay, classification_report"
   ]
  },
  {
   "cell_type": "code",
   "execution_count": null,
   "metadata": {},
   "outputs": [],
   "source": [
    "# XGBoost Normal\n",
    "def XGBoost(df):\n",
    "    # Dividir em treino e teste\n",
    "    X = df.drop('diagnostico', axis=1)\n",
    "    y = df['diagnostico']\n",
    "    \n",
    "    X_train, X_test, y_train, y_test = train_test_split(X, y, test_size=0.2, random_state=42)\n",
    "    X_train, X_val, y_train, y_val = train_test_split(X_train, y_train, test_size=0.25, random_state=42)\n",
    "\n",
    "    # Penaliza erros na classe minoritária\n",
    "    scale_pos_weight = sum(y == 0) / sum(y == 1)\n",
    "\n",
    "    params_grid = {\n",
    "        'n_estimators': [100, 200],\n",
    "        'max_depth': [3,4,5],\n",
    "        'min_child_weight': [2, 3, 4],\n",
    "        'subsample': [0.6, 0.8, 1],\n",
    "        'colsample_bytree': [0.5, 0.7]\n",
    "    }\n",
    "\n",
    "    classifier = xgb.XGBClassifier(scale_pos_weight=scale_pos_weight)\n",
    "\n",
    "    cv = StratifiedKFold(n_splits=5, shuffle=True, random_state=42)\n",
    "\n",
    "    grid_classifier = GridSearchCV(classifier, params_grid, scoring='accuracy', cv=cv)\n",
    "    grid_classifier.fit(X_val, y_val)\n",
    "    \n",
    "    best_parameters = grid_classifier.best_params_\n",
    "\n",
    "    model = xgb.XGBClassifier(**best_parameters)\n",
    "\n",
    "    model.fit(X_train, y_train)\n",
    "    \n",
    "    pred = model.predict(X_test)\n",
    "    test_accuracy = accuracy_score(y_test, pred)\n",
    "    \n",
    "    print(test_accuracy)    \n",
    "    print(classification_report(y_test,pred))\n",
    "    print(confusion_matrix(y_test, pred))\n",
    "\n",
    "    plt.figure(figsize=(8, 6))\n",
    "    sns.heatmap(confusion_matrix(y_test, pred), annot=True, fmt='d', cmap='Blues', xticklabels=['Sem Sepse', 'Com Sepse'], yticklabels=['Sem Sepse', 'Com Sepse'])\n",
    "    plt.xlabel('Predito')\n",
    "    plt.ylabel('Verdadeiro')\n",
    "    plt.title('Matriz de Confusão')\n",
    "    plt.show()"
   ]
  },
  {
   "cell_type": "code",
   "execution_count": null,
   "metadata": {},
   "outputs": [],
   "source": [
    "# XGBoost com OverSampling\n",
    "def XGBoost_Over(df):\n",
    "    # Dividir em treino e teste\n",
    "    X = df.drop('diagnostico', axis=1)\n",
    "    y = df['diagnostico']\n",
    "    \n",
    "    X_train, X_test, y_train, y_test = train_test_split(X, y, test_size=0.2, random_state=42)\n",
    "    X_train, X_val, y_train, y_val = train_test_split(X_train, y_train, test_size=0.25, random_state=42)\n",
    "\n",
    "    X_train = pd.concat([X_train, y_train], axis=1)\n",
    "    \n",
    "    not_diagnostico = X_train[X_train.diagnostico==0]\n",
    "    diagnostico = X_train[X_train.diagnostico==1]\n",
    "    \n",
    "    diagnostico_upsampled = resample(diagnostico, replace=True, n_samples=len(not_diagnostico), random_state=42)\n",
    "    \n",
    "    upsampled = pd.concat([not_diagnostico, diagnostico_upsampled])\n",
    "    \n",
    "    y_train = upsampled.diagnostico\n",
    "    X_train = upsampled.drop('diagnostico', axis=1)\n",
    "\n",
    "    scale_pos_weight = sum(y == 0) / sum(y == 1)\n",
    "\n",
    "    params_grid = {\n",
    "        'n_estimators': [100, 200],\n",
    "        'max_depth': [3, 4, 5],\n",
    "        'min_child_weight': [2, 3, 4],\n",
    "        'subsample': [0.6, 0.8, 1],\n",
    "        'colsample_bytree': [0.5, 0.7]\n",
    "    }\n",
    "\n",
    "    classifier = xgb.XGBClassifier(scale_pos_weight=scale_pos_weight)\n",
    "\n",
    "    cv = StratifiedKFold(n_splits=5, shuffle=True, random_state=42)\n",
    "\n",
    "    grid_classifier = GridSearchCV(classifier, params_grid, scoring='accuracy', cv=cv)\n",
    "    grid_classifier.fit(X_val, y_val)\n",
    "    \n",
    "    best_parameters = grid_classifier.best_params_\n",
    "\n",
    "    model = xgb.XGBClassifier(**best_parameters)\n",
    "\n",
    "    model.fit(X_train, y_train)\n",
    "    \n",
    "    pred = model.predict(X_test)\n",
    "    test_accuracy = accuracy_score(y_test, pred)\n",
    "    \n",
    "    print(test_accuracy)    \n",
    "    print(classification_report(y_test, pred))\n",
    "    print(confusion_matrix(y_test, pred))\n",
    "\n",
    "    plt.figure(figsize=(8, 6))\n",
    "    sns.heatmap(confusion_matrix(y_test, pred), annot=True, fmt='d', cmap='Blues', xticklabels=['Sem Sepse', 'Com Sepse'], yticklabels=['Sem Sepse', 'Com Sepse'])\n",
    "    plt.xlabel('Predito')\n",
    "    plt.ylabel('Verdadeiro')\n",
    "    plt.title('Matriz de Confusão')\n",
    "    plt.show()"
   ]
  },
  {
   "cell_type": "markdown",
   "metadata": {},
   "source": [
    "Sem Tratar Missing"
   ]
  },
  {
   "cell_type": "code",
   "execution_count": null,
   "metadata": {},
   "outputs": [],
   "source": [
    "df_final = pd.read_csv('df_final.csv')"
   ]
  },
  {
   "cell_type": "code",
   "execution_count": null,
   "metadata": {},
   "outputs": [],
   "source": [
    "XGBoost(df_final)"
   ]
  },
  {
   "cell_type": "code",
   "execution_count": null,
   "metadata": {},
   "outputs": [],
   "source": [
    "XGBoost_Over(df_final)"
   ]
  },
  {
   "cell_type": "markdown",
   "metadata": {},
   "source": [
    "Valores Normais"
   ]
  },
  {
   "cell_type": "code",
   "execution_count": null,
   "metadata": {},
   "outputs": [],
   "source": [
    "df_normal = pd.read_csv('df_normal.csv')"
   ]
  },
  {
   "cell_type": "code",
   "execution_count": null,
   "metadata": {},
   "outputs": [],
   "source": [
    "XGBoost(df_normal)"
   ]
  },
  {
   "cell_type": "code",
   "execution_count": null,
   "metadata": {},
   "outputs": [],
   "source": [
    "XGBoost_Over(df_normal)"
   ]
  },
  {
   "cell_type": "markdown",
   "metadata": {},
   "source": [
    "KNN"
   ]
  },
  {
   "cell_type": "code",
   "execution_count": null,
   "metadata": {},
   "outputs": [],
   "source": [
    "df_knn = pd.read_csv('df_knn.csv')"
   ]
  },
  {
   "cell_type": "code",
   "execution_count": null,
   "metadata": {},
   "outputs": [],
   "source": [
    "XGBoost(df_knn)"
   ]
  },
  {
   "cell_type": "code",
   "execution_count": null,
   "metadata": {},
   "outputs": [],
   "source": [
    "XGBoost_Over(df_knn)"
   ]
  },
  {
   "cell_type": "markdown",
   "metadata": {},
   "source": [
    "Media"
   ]
  },
  {
   "cell_type": "code",
   "execution_count": null,
   "metadata": {},
   "outputs": [],
   "source": [
    "df_media = pd.read_csv('df_media.csv')"
   ]
  },
  {
   "cell_type": "code",
   "execution_count": null,
   "metadata": {},
   "outputs": [],
   "source": [
    "XGBoost(df_media)"
   ]
  },
  {
   "cell_type": "code",
   "execution_count": null,
   "metadata": {},
   "outputs": [],
   "source": [
    "XGBoost_Over(df_media)"
   ]
  },
  {
   "cell_type": "markdown",
   "metadata": {},
   "source": [
    "Mediana"
   ]
  },
  {
   "cell_type": "code",
   "execution_count": null,
   "metadata": {},
   "outputs": [],
   "source": [
    "df_mediana = pd.read_csv('df_mediana.csv')"
   ]
  },
  {
   "cell_type": "code",
   "execution_count": null,
   "metadata": {},
   "outputs": [],
   "source": [
    "XGBoost(df_mediana)"
   ]
  },
  {
   "cell_type": "code",
   "execution_count": null,
   "metadata": {},
   "outputs": [],
   "source": [
    "XGBoost_Over(df_mediana)"
   ]
  },
  {
   "cell_type": "markdown",
   "metadata": {},
   "source": [
    "Moda"
   ]
  },
  {
   "cell_type": "code",
   "execution_count": null,
   "metadata": {},
   "outputs": [],
   "source": [
    "df_moda = pd.read_csv('df_moda.csv')"
   ]
  },
  {
   "cell_type": "code",
   "execution_count": null,
   "metadata": {},
   "outputs": [],
   "source": [
    "XGBoost(df_moda)"
   ]
  },
  {
   "cell_type": "code",
   "execution_count": null,
   "metadata": {},
   "outputs": [],
   "source": [
    "XGBoost_Over(df_moda)"
   ]
  },
  {
   "cell_type": "markdown",
   "metadata": {},
   "source": [
    "Regressão"
   ]
  },
  {
   "cell_type": "code",
   "execution_count": null,
   "metadata": {},
   "outputs": [],
   "source": [
    "df_regressao = pd.read_csv('df_regressao.csv')"
   ]
  },
  {
   "cell_type": "code",
   "execution_count": null,
   "metadata": {},
   "outputs": [],
   "source": [
    "XGBoost(df_regressao)"
   ]
  },
  {
   "cell_type": "code",
   "execution_count": null,
   "metadata": {},
   "outputs": [],
   "source": [
    "XGBoost_Over(df_regressao)"
   ]
  }
 ],
 "metadata": {
  "language_info": {
   "codemirror_mode": {
    "name": "ipython",
    "version": 3
   },
   "file_extension": ".py",
   "mimetype": "text/x-python",
   "name": "python",
   "nbconvert_exporter": "python",
   "pygments_lexer": "ipython3",
   "version": "3.10.12"
  }
 },
 "nbformat": 4,
 "nbformat_minor": 2
}
