{
 "cells": [
  {
   "cell_type": "code",
   "execution_count": 27,
   "metadata": {},
   "outputs": [],
   "source": [
    "import pandas as pd\n",
    "import numpy as np\n",
    "\n",
    "from sklearn.ensemble import RandomForestClassifier\n",
    "from sklearn.model_selection import train_test_split\n",
    "\n",
    "from sklearn.feature_selection import chi2\n",
    "from sklearn.feature_selection import SelectKBest"
   ]
  },
  {
   "cell_type": "markdown",
   "metadata": {},
   "source": [
    "Seleção de atributos Random Forest"
   ]
  },
  {
   "cell_type": "code",
   "execution_count": 28,
   "metadata": {},
   "outputs": [],
   "source": [
    "df = pd.read_csv('df_regressao.csv')"
   ]
  },
  {
   "cell_type": "code",
   "execution_count": 35,
   "metadata": {},
   "outputs": [
    {
     "name": "stdout",
     "output_type": "stream",
     "text": [
      "                       Feature  Importance\n",
      "5                         resp    5.017243\n",
      "7                    pao2/fio2    4.258337\n",
      "13                         MAP    4.139177\n",
      "21                         PTT    4.036728\n",
      "3                          WBC    4.009225\n",
      "6                    spo2/fio2    3.988860\n",
      "22                     albumin    3.980641\n",
      "20                   platelets    3.914400\n",
      "9                    heartRate    3.905140\n",
      "11                    systolic    3.716881\n",
      "4                       lymphs    3.630477\n",
      "10                    troponin    3.540674\n",
      "24                     glucose    3.475670\n",
      "12                   diastolic    3.457697\n",
      "2                      lactate    3.373702\n",
      "29                   phosphate    3.286436\n",
      "15                     alanine    3.175965\n",
      "16                   aspartate    3.154982\n",
      "1                          age    3.154468\n",
      "23                    chloride    3.031855\n",
      "18                  hemoglobin    2.990721\n",
      "30                   magnesium    2.931513\n",
      "28                     calcium    2.890514\n",
      "14           bloodUreaNitrogen    2.827086\n",
      "25                      sodium    2.789584\n",
      "27                   potassium    2.747496\n",
      "17                   bilirubin    2.711009\n",
      "19                         iqr    2.661731\n",
      "8                  bicarbonate    2.457297\n",
      "0                       gender    0.484620\n",
      "26                         gcs    0.259871\n",
      "31  ethnicity_African American    0.000000\n",
      "32             ethnicity_Asian    0.000000\n",
      "33         ethnicity_Caucasian    0.000000\n",
      "34          ethnicity_Hispanic    0.000000\n",
      "35   ethnicity_Native American    0.000000\n",
      "36     ethnicity_Other/Unknown    0.000000\n"
     ]
    }
   ],
   "source": [
    "X = df.drop(columns=['patientunitstayid', 'diagnostico'])  # Atributos\n",
    "y = df['diagnostico']  # Alvo\n",
    "\n",
    "# 2. Dividir os dados em treino e teste\n",
    "X_train, X_test, y_train, y_test = train_test_split(X, y, test_size=0.3, random_state=42)\n",
    "\n",
    "# 3. Treinar um modelo de Random Forest\n",
    "rf = RandomForestClassifier(n_estimators=100, random_state=42)\n",
    "rf.fit(X_train, y_train)\n",
    "\n",
    "# 4. Obter as importâncias dos atributos\n",
    "importances = rf.feature_importances_\n",
    "\n",
    "# 5. Criar um DataFrame com as importâncias dos atributos\n",
    "feature_importance_df = pd.DataFrame({\n",
    "    'Feature': X.columns,\n",
    "    'Importance': importances\n",
    "})\n",
    "\n",
    "# Normalizar as importâncias para que somem 100%\n",
    "feature_importance_df['Importance'] = feature_importance_df['Importance'] / feature_importance_df['Importance'].sum() * 100\n",
    "# Ordenar o DataFrame pelas importâncias\n",
    "feature_importance_df = feature_importance_df.sort_values(by='Importance', ascending=False)\n",
    "\n",
    "# Mostrar o ranking dos atributos\n",
    "print(feature_importance_df)\n"
   ]
  },
  {
   "cell_type": "markdown",
   "metadata": {},
   "source": [
    "Seleção de atributos Chi Square"
   ]
  },
  {
   "cell_type": "code",
   "execution_count": 31,
   "metadata": {},
   "outputs": [
    {
     "name": "stdout",
     "output_type": "stream",
     "text": [
      "Existem valores negativos no DataFrame.\n",
      "As seguintes colunas têm valores negativos:\n",
      "['lymphs', 'spo2/fio2', 'troponin']\n",
      "\n",
      "Coluna 'lymphs' com valores negativos:\n",
      "9519    -0.933242\n",
      "9545    -3.135291\n",
      "10865   -0.642891\n",
      "11685   -0.346728\n",
      "14863   -0.454789\n",
      "21550   -0.079818\n",
      "22836   -0.029663\n",
      "24907   -0.926466\n",
      "28352   -0.163585\n",
      "33849   -0.084043\n",
      "36507   -0.113412\n",
      "36510   -1.690140\n",
      "55472   -0.210470\n",
      "57648   -1.417671\n",
      "58685   -0.467083\n",
      "61742   -0.492700\n",
      "65426   -0.080688\n",
      "70141   -0.022720\n",
      "74533   -4.112230\n",
      "78947   -2.587252\n",
      "79871   -0.259566\n",
      "81524   -0.500140\n",
      "81895   -0.675253\n",
      "81896   -3.268997\n",
      "83199   -1.729743\n",
      "86506   -1.499362\n",
      "88306   -0.359653\n",
      "88386   -0.174819\n",
      "88682   -0.904779\n",
      "93374   -0.226488\n",
      "94211   -0.564960\n",
      "Name: lymphs, dtype: float64\n",
      "\n",
      "Coluna 'spo2/fio2' com valores negativos:\n",
      "76289   -0.06\n",
      "Name: spo2/fio2, dtype: float64\n",
      "\n",
      "Coluna 'troponin' com valores negativos:\n",
      "192     -0.032782\n",
      "1526    -0.041203\n",
      "13894   -0.005530\n",
      "14156   -0.044859\n",
      "14806   -0.131484\n",
      "15573   -0.024369\n",
      "19070   -0.065538\n",
      "20478   -0.051600\n",
      "26785   -0.000581\n",
      "29831   -0.041665\n",
      "30644   -0.041446\n",
      "31611   -0.001652\n",
      "35515   -0.058445\n",
      "37505   -0.038693\n",
      "38213   -0.001750\n",
      "45076   -0.042085\n",
      "45794   -0.065876\n",
      "59633   -0.027385\n",
      "62903   -0.053539\n",
      "63277   -0.011905\n",
      "65446   -0.001747\n",
      "66131   -0.111293\n",
      "70793   -0.044873\n",
      "71527   -0.007388\n",
      "79146   -0.024634\n",
      "81122   -0.016281\n",
      "82649   -0.032732\n",
      "83133   -0.019456\n",
      "86219   -0.002706\n",
      "88865   -0.035866\n",
      "89056   -0.025693\n",
      "92160   -0.157151\n",
      "92213   -0.078250\n",
      "Name: troponin, dtype: float64\n"
     ]
    }
   ],
   "source": [
    "X = df.drop(columns='diagnostico')  # Atributos\n",
    "y = df['diagnostico']  # Alvo\n",
    "\n",
    "if (X < 0).any().any():\n",
    "    print(\"Existem valores negativos no DataFrame.\")\n",
    "else:\n",
    "    print(\"Não existem valores negativos no DataFrame.\")\n",
    "    \n",
    "# Verificar quais colunas têm valores negativos\n",
    "cols_with_negatives = (X < 0).any()\n",
    "if cols_with_negatives.any():\n",
    "    print(\"As seguintes colunas têm valores negativos:\")\n",
    "    negative_cols = cols_with_negatives[cols_with_negatives].index.tolist()\n",
    "    print(negative_cols)\n",
    "    \n",
    "    # Exibir as colunas que têm valores negativos\n",
    "    for col in negative_cols:\n",
    "        print(f\"\\nColuna '{col}' com valores negativos:\")\n",
    "        print(X[X[col] < 0][col])\n",
    "else:\n",
    "    print(\"Nenhuma coluna tem valores negativos.\")"
   ]
  },
  {
   "cell_type": "code",
   "execution_count": 30,
   "metadata": {},
   "outputs": [
    {
     "ename": "ValueError",
     "evalue": "Input X must be non-negative.",
     "output_type": "error",
     "traceback": [
      "\u001b[0;31m---------------------------------------------------------------------------\u001b[0m",
      "\u001b[0;31mValueError\u001b[0m                                Traceback (most recent call last)",
      "Cell \u001b[0;32mIn[30], line 5\u001b[0m\n\u001b[1;32m      2\u001b[0m y \u001b[38;5;241m=\u001b[39m df[\u001b[38;5;124m'\u001b[39m\u001b[38;5;124mdiagnostico\u001b[39m\u001b[38;5;124m'\u001b[39m]  \u001b[38;5;66;03m# Alvo\u001b[39;00m\n\u001b[1;32m      4\u001b[0m \u001b[38;5;66;03m# Aplicar o chi2 para calcular os scores de chi-square\u001b[39;00m\n\u001b[0;32m----> 5\u001b[0m chi_scores \u001b[38;5;241m=\u001b[39m chi2(X, y)\n\u001b[1;32m      7\u001b[0m \u001b[38;5;66;03m# Criar um DataFrame com os resultados\u001b[39;00m\n\u001b[1;32m      8\u001b[0m chi2_df \u001b[38;5;241m=\u001b[39m pd\u001b[38;5;241m.\u001b[39mDataFrame({\n\u001b[1;32m      9\u001b[0m     \u001b[38;5;124m'\u001b[39m\u001b[38;5;124mFeature\u001b[39m\u001b[38;5;124m'\u001b[39m: X\u001b[38;5;241m.\u001b[39mcolumns,\n\u001b[1;32m     10\u001b[0m     \u001b[38;5;124m'\u001b[39m\u001b[38;5;124mChi2 Score\u001b[39m\u001b[38;5;124m'\u001b[39m: chi_scores[\u001b[38;5;241m0\u001b[39m],\n\u001b[1;32m     11\u001b[0m     \u001b[38;5;124m'\u001b[39m\u001b[38;5;124mp-value\u001b[39m\u001b[38;5;124m'\u001b[39m: chi_scores[\u001b[38;5;241m1\u001b[39m]\n\u001b[1;32m     12\u001b[0m })\n",
      "File \u001b[0;32m~/miniconda3/envs/uti/lib/python3.12/site-packages/sklearn/utils/_param_validation.py:213\u001b[0m, in \u001b[0;36mvalidate_params.<locals>.decorator.<locals>.wrapper\u001b[0;34m(*args, **kwargs)\u001b[0m\n\u001b[1;32m    207\u001b[0m \u001b[38;5;28;01mtry\u001b[39;00m:\n\u001b[1;32m    208\u001b[0m     \u001b[38;5;28;01mwith\u001b[39;00m config_context(\n\u001b[1;32m    209\u001b[0m         skip_parameter_validation\u001b[38;5;241m=\u001b[39m(\n\u001b[1;32m    210\u001b[0m             prefer_skip_nested_validation \u001b[38;5;129;01mor\u001b[39;00m global_skip_validation\n\u001b[1;32m    211\u001b[0m         )\n\u001b[1;32m    212\u001b[0m     ):\n\u001b[0;32m--> 213\u001b[0m         \u001b[38;5;28;01mreturn\u001b[39;00m func(\u001b[38;5;241m*\u001b[39margs, \u001b[38;5;241m*\u001b[39m\u001b[38;5;241m*\u001b[39mkwargs)\n\u001b[1;32m    214\u001b[0m \u001b[38;5;28;01mexcept\u001b[39;00m InvalidParameterError \u001b[38;5;28;01mas\u001b[39;00m e:\n\u001b[1;32m    215\u001b[0m     \u001b[38;5;66;03m# When the function is just a wrapper around an estimator, we allow\u001b[39;00m\n\u001b[1;32m    216\u001b[0m     \u001b[38;5;66;03m# the function to delegate validation to the estimator, but we replace\u001b[39;00m\n\u001b[1;32m    217\u001b[0m     \u001b[38;5;66;03m# the name of the estimator by the name of the function in the error\u001b[39;00m\n\u001b[1;32m    218\u001b[0m     \u001b[38;5;66;03m# message to avoid confusion.\u001b[39;00m\n\u001b[1;32m    219\u001b[0m     msg \u001b[38;5;241m=\u001b[39m re\u001b[38;5;241m.\u001b[39msub(\n\u001b[1;32m    220\u001b[0m         \u001b[38;5;124mr\u001b[39m\u001b[38;5;124m\"\u001b[39m\u001b[38;5;124mparameter of \u001b[39m\u001b[38;5;124m\\\u001b[39m\u001b[38;5;124mw+ must be\u001b[39m\u001b[38;5;124m\"\u001b[39m,\n\u001b[1;32m    221\u001b[0m         \u001b[38;5;124mf\u001b[39m\u001b[38;5;124m\"\u001b[39m\u001b[38;5;124mparameter of \u001b[39m\u001b[38;5;132;01m{\u001b[39;00mfunc\u001b[38;5;241m.\u001b[39m\u001b[38;5;18m__qualname__\u001b[39m\u001b[38;5;132;01m}\u001b[39;00m\u001b[38;5;124m must be\u001b[39m\u001b[38;5;124m\"\u001b[39m,\n\u001b[1;32m    222\u001b[0m         \u001b[38;5;28mstr\u001b[39m(e),\n\u001b[1;32m    223\u001b[0m     )\n",
      "File \u001b[0;32m~/miniconda3/envs/uti/lib/python3.12/site-packages/sklearn/feature_selection/_univariate_selection.py:266\u001b[0m, in \u001b[0;36mchi2\u001b[0;34m(X, y)\u001b[0m\n\u001b[1;32m    264\u001b[0m X \u001b[38;5;241m=\u001b[39m check_array(X, accept_sparse\u001b[38;5;241m=\u001b[39m\u001b[38;5;124m\"\u001b[39m\u001b[38;5;124mcsr\u001b[39m\u001b[38;5;124m\"\u001b[39m, dtype\u001b[38;5;241m=\u001b[39m(np\u001b[38;5;241m.\u001b[39mfloat64, np\u001b[38;5;241m.\u001b[39mfloat32))\n\u001b[1;32m    265\u001b[0m \u001b[38;5;28;01mif\u001b[39;00m np\u001b[38;5;241m.\u001b[39many((X\u001b[38;5;241m.\u001b[39mdata \u001b[38;5;28;01mif\u001b[39;00m issparse(X) \u001b[38;5;28;01melse\u001b[39;00m X) \u001b[38;5;241m<\u001b[39m \u001b[38;5;241m0\u001b[39m):\n\u001b[0;32m--> 266\u001b[0m     \u001b[38;5;28;01mraise\u001b[39;00m \u001b[38;5;167;01mValueError\u001b[39;00m(\u001b[38;5;124m\"\u001b[39m\u001b[38;5;124mInput X must be non-negative.\u001b[39m\u001b[38;5;124m\"\u001b[39m)\n\u001b[1;32m    268\u001b[0m \u001b[38;5;66;03m# Use a sparse representation for Y by default to reduce memory usage when\u001b[39;00m\n\u001b[1;32m    269\u001b[0m \u001b[38;5;66;03m# y has many unique classes.\u001b[39;00m\n\u001b[1;32m    270\u001b[0m Y \u001b[38;5;241m=\u001b[39m LabelBinarizer(sparse_output\u001b[38;5;241m=\u001b[39m\u001b[38;5;28;01mTrue\u001b[39;00m)\u001b[38;5;241m.\u001b[39mfit_transform(y)\n",
      "\u001b[0;31mValueError\u001b[0m: Input X must be non-negative."
     ]
    }
   ],
   "source": [
    "X = df.drop(columns='diagnostico')  # Atributos\n",
    "y = df['diagnostico']  # Alvo\n",
    "\n",
    "# Aplicar o chi2 para calcular os scores de chi-square\n",
    "chi_scores = chi2(X, y)\n",
    "\n",
    "# Criar um DataFrame com os resultados\n",
    "chi2_df = pd.DataFrame({\n",
    "    'Feature': X.columns,\n",
    "    'Chi2 Score': chi_scores[0],\n",
    "    'p-value': chi_scores[1]\n",
    "})\n",
    "\n",
    "# Ordenar por chi-square score para obter o ranking dos atributos\n",
    "chi2_df = chi2_df.sort_values(by='Chi2 Score', ascending=False)\n",
    "\n",
    "# Exibir o ranking\n",
    "print(chi2_df)"
   ]
  }
 ],
 "metadata": {
  "kernelspec": {
   "display_name": "Python 3",
   "language": "python",
   "name": "python3"
  },
  "language_info": {
   "codemirror_mode": {
    "name": "ipython",
    "version": 3
   },
   "file_extension": ".py",
   "mimetype": "text/x-python",
   "name": "python",
   "nbconvert_exporter": "python",
   "pygments_lexer": "ipython3",
   "version": "3.12.4"
  }
 },
 "nbformat": 4,
 "nbformat_minor": 2
}
