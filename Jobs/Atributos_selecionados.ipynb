{
 "cells": [
  {
   "cell_type": "code",
   "execution_count": 37,
   "metadata": {},
   "outputs": [],
   "source": [
    "import pandas as pd\n",
    "import numpy as np\n",
    "\n",
    "from sklearn.ensemble import RandomForestClassifier\n",
    "from sklearn.model_selection import train_test_split\n",
    "\n",
    "from sklearn.feature_selection import chi2\n",
    "from sklearn.feature_selection import SelectKBest"
   ]
  },
  {
   "cell_type": "markdown",
   "metadata": {},
   "source": [
    "# Seleção de atributos Random Forest"
   ]
  },
  {
   "cell_type": "code",
   "execution_count": 44,
   "metadata": {},
   "outputs": [],
   "source": [
    "def calcular_importancia_atributos(caminho_csv):\n",
    "    # Carregar os dados\n",
    "    df = pd.read_csv(caminho_csv)\n",
    "    \n",
    "    # Definir atributos e alvo\n",
    "    X = df.drop(columns=['patientunitstayid', 'diagnostico'])  # Atributos\n",
    "    y = df['diagnostico']  # Alvo\n",
    "    \n",
    "    # Dividir os dados em treino e teste\n",
    "    X_train, X_test, y_train, y_test = train_test_split(X, y, test_size=0.3, random_state=42)\n",
    "    \n",
    "    # Treinar um modelo de Random Forest\n",
    "    rf = RandomForestClassifier(n_estimators=100, random_state=42)\n",
    "    rf.fit(X_train, y_train)\n",
    "    \n",
    "    # Obter as importâncias dos atributos\n",
    "    importances = rf.feature_importances_\n",
    "    \n",
    "    # Criar um DataFrame com as importâncias dos atributos\n",
    "    feature_importance_df = pd.DataFrame({\n",
    "        'Feature': X.columns,\n",
    "        'Importance': importances\n",
    "    })\n",
    "    \n",
    "    # Normalizar as importâncias para que somem 100%\n",
    "    feature_importance_df['Importance'] = feature_importance_df['Importance'] / feature_importance_df['Importance'].sum() * 100\n",
    "    \n",
    "    # Ordenar o DataFrame pelas importâncias\n",
    "    feature_importance_df = feature_importance_df.sort_values(by='Importance', ascending=False)\n",
    "    \n",
    "    return feature_importance_df"
   ]
  },
  {
   "cell_type": "markdown",
   "metadata": {},
   "source": [
    "Media"
   ]
  },
  {
   "cell_type": "code",
   "execution_count": 46,
   "metadata": {},
   "outputs": [
    {
     "name": "stdout",
     "output_type": "stream",
     "text": [
      "                       Feature  Importance\n",
      "3                          WBC    5.275248\n",
      "24                     glucose    4.882127\n",
      "20                   platelets    4.734107\n",
      "1                          age    4.257838\n",
      "13                         MAP    3.861704\n",
      "18                  hemoglobin    3.813737\n",
      "9                    heartRate    3.589608\n",
      "23                    chloride    3.583465\n",
      "11                    systolic    3.552557\n",
      "28                     calcium    3.548588\n",
      "12                   diastolic    3.542493\n",
      "14           bloodUreaNitrogen    3.527684\n",
      "27                   potassium    3.512560\n",
      "7                    pao2/fio2    3.419482\n",
      "4                       lymphs    3.344197\n",
      "25                      sodium    3.329015\n",
      "8                  bicarbonate    3.215329\n",
      "16                   aspartate    3.212132\n",
      "22                     albumin    3.195020\n",
      "5                         resp    3.112261\n",
      "30                   magnesium    3.042708\n",
      "29                   phosphate    2.945668\n",
      "6                    spo2/fio2    2.920842\n",
      "15                     alanine    2.829236\n",
      "21                         PTT    2.762266\n",
      "2                      lactate    2.758279\n",
      "10                    troponin    2.589948\n",
      "17                   bilirubin    2.372434\n",
      "19                         iqr    2.223411\n",
      "0                       gender    0.745050\n",
      "26                         gcs    0.301005\n",
      "31  ethnicity_African American    0.000000\n",
      "32             ethnicity_Asian    0.000000\n",
      "33         ethnicity_Caucasian    0.000000\n",
      "34          ethnicity_Hispanic    0.000000\n",
      "35   ethnicity_Native American    0.000000\n",
      "36     ethnicity_Other/Unknown    0.000000\n"
     ]
    }
   ],
   "source": [
    "resultado_media = calcular_importancia_atributos('df_media.csv')\n",
    "print(resultado_media)"
   ]
  },
  {
   "cell_type": "markdown",
   "metadata": {},
   "source": [
    "Valor Normal"
   ]
  },
  {
   "cell_type": "code",
   "execution_count": 49,
   "metadata": {},
   "outputs": [
    {
     "name": "stdout",
     "output_type": "stream",
     "text": [
      "                       Feature  Importance\n",
      "3                          WBC    5.263414\n",
      "24                     glucose    4.903594\n",
      "20                   platelets    4.893969\n",
      "1                          age    4.520996\n",
      "13                         MAP    4.046478\n",
      "18                  hemoglobin    3.897737\n",
      "12                   diastolic    3.891620\n",
      "14           bloodUreaNitrogen    3.838085\n",
      "9                    heartRate    3.789451\n",
      "23                    chloride    3.690391\n",
      "27                   potassium    3.657954\n",
      "28                     calcium    3.557157\n",
      "25                      sodium    3.428083\n",
      "11                    systolic    3.241221\n",
      "5                         resp    3.220572\n",
      "22                     albumin    3.178299\n",
      "16                   aspartate    3.173694\n",
      "30                   magnesium    3.168415\n",
      "4                       lymphs    3.163739\n",
      "8                  bicarbonate    3.142442\n",
      "7                    pao2/fio2    3.079086\n",
      "29                   phosphate    3.066413\n",
      "15                     alanine    2.880445\n",
      "2                      lactate    2.658201\n",
      "6                    spo2/fio2    2.539949\n",
      "19                         iqr    2.445030\n",
      "21                         PTT    2.248219\n",
      "17                   bilirubin    2.214471\n",
      "10                    troponin    2.099156\n",
      "0                       gender    0.799417\n",
      "26                         gcs    0.302304\n",
      "31  ethnicity_African American    0.000000\n",
      "32             ethnicity_Asian    0.000000\n",
      "33         ethnicity_Caucasian    0.000000\n",
      "34          ethnicity_Hispanic    0.000000\n",
      "35   ethnicity_Native American    0.000000\n",
      "36     ethnicity_Other/Unknown    0.000000\n"
     ]
    }
   ],
   "source": [
    "resultado_normal = calcular_importancia_atributos('df_normal.csv')\n",
    "print(resultado_normal)"
   ]
  },
  {
   "cell_type": "markdown",
   "metadata": {},
   "source": [
    "KNN"
   ]
  },
  {
   "cell_type": "code",
   "execution_count": null,
   "metadata": {},
   "outputs": [],
   "source": [
    "resultado_knn = calcular_importancia_atributos('df_knn.csv')\n",
    "print(resultado_knn)"
   ]
  },
  {
   "cell_type": "markdown",
   "metadata": {},
   "source": [
    "Mediana"
   ]
  },
  {
   "cell_type": "code",
   "execution_count": 50,
   "metadata": {},
   "outputs": [
    {
     "name": "stdout",
     "output_type": "stream",
     "text": [
      "                       Feature  Importance\n",
      "3                          WBC    5.358714\n",
      "24                     glucose    5.026595\n",
      "20                   platelets    4.633613\n",
      "1                          age    4.510492\n",
      "13                         MAP    3.975287\n",
      "18                  hemoglobin    3.856686\n",
      "12                   diastolic    3.710093\n",
      "14           bloodUreaNitrogen    3.696965\n",
      "9                    heartRate    3.561785\n",
      "23                    chloride    3.560826\n",
      "28                     calcium    3.548872\n",
      "27                   potassium    3.409911\n",
      "11                    systolic    3.405850\n",
      "25                      sodium    3.375326\n",
      "7                    pao2/fio2    3.372208\n",
      "8                  bicarbonate    3.363864\n",
      "4                       lymphs    3.302560\n",
      "22                     albumin    3.134210\n",
      "5                         resp    3.080153\n",
      "29                   phosphate    3.015761\n",
      "30                   magnesium    2.997232\n",
      "16                   aspartate    2.991264\n",
      "6                    spo2/fio2    2.961449\n",
      "2                      lactate    2.823901\n",
      "10                    troponin    2.681621\n",
      "15                     alanine    2.675127\n",
      "21                         PTT    2.563093\n",
      "17                   bilirubin    2.148862\n",
      "19                         iqr    2.142771\n",
      "0                       gender    0.748736\n",
      "26                         gcs    0.366173\n",
      "31  ethnicity_African American    0.000000\n",
      "32             ethnicity_Asian    0.000000\n",
      "33         ethnicity_Caucasian    0.000000\n",
      "34          ethnicity_Hispanic    0.000000\n",
      "35   ethnicity_Native American    0.000000\n",
      "36     ethnicity_Other/Unknown    0.000000\n"
     ]
    }
   ],
   "source": [
    "resultado_mediana = calcular_importancia_atributos('df_mediana.csv')\n",
    "print(resultado_mediana)"
   ]
  },
  {
   "cell_type": "markdown",
   "metadata": {},
   "source": [
    "Moda"
   ]
  },
  {
   "cell_type": "code",
   "execution_count": 51,
   "metadata": {},
   "outputs": [
    {
     "name": "stdout",
     "output_type": "stream",
     "text": [
      "                       Feature  Importance\n",
      "3                          WBC    5.144613\n",
      "24                     glucose    4.962525\n",
      "20                   platelets    4.822587\n",
      "1                          age    4.424613\n",
      "13                         MAP    3.905742\n",
      "12                   diastolic    3.808302\n",
      "18                  hemoglobin    3.749839\n",
      "9                    heartRate    3.712127\n",
      "14           bloodUreaNitrogen    3.700973\n",
      "28                     calcium    3.615421\n",
      "23                    chloride    3.590564\n",
      "11                    systolic    3.569384\n",
      "25                      sodium    3.532090\n",
      "27                   potassium    3.455954\n",
      "4                       lymphs    3.426686\n",
      "7                    pao2/fio2    3.418186\n",
      "8                  bicarbonate    3.212435\n",
      "30                   magnesium    3.031362\n",
      "22                     albumin    3.031052\n",
      "16                   aspartate    3.025758\n",
      "2                      lactate    2.903939\n",
      "6                    spo2/fio2    2.894039\n",
      "5                         resp    2.883794\n",
      "29                   phosphate    2.876677\n",
      "15                     alanine    2.687836\n",
      "10                    troponin    2.619429\n",
      "21                         PTT    2.543636\n",
      "17                   bilirubin    2.186053\n",
      "19                         iqr    2.177919\n",
      "0                       gender    0.749017\n",
      "26                         gcs    0.337446\n",
      "31  ethnicity_African American    0.000000\n",
      "32             ethnicity_Asian    0.000000\n",
      "33         ethnicity_Caucasian    0.000000\n",
      "34          ethnicity_Hispanic    0.000000\n",
      "35   ethnicity_Native American    0.000000\n",
      "36     ethnicity_Other/Unknown    0.000000\n"
     ]
    }
   ],
   "source": [
    "resultado_moda = calcular_importancia_atributos('df_moda.csv')\n",
    "print(resultado_moda)"
   ]
  },
  {
   "cell_type": "markdown",
   "metadata": {},
   "source": [
    "Regressao"
   ]
  },
  {
   "cell_type": "code",
   "execution_count": 47,
   "metadata": {},
   "outputs": [
    {
     "name": "stdout",
     "output_type": "stream",
     "text": [
      "                       Feature  Importance\n",
      "5                         resp    5.073191\n",
      "7                    pao2/fio2    4.212976\n",
      "22                     albumin    4.040771\n",
      "13                         MAP    4.033488\n",
      "6                    spo2/fio2    4.022785\n",
      "3                          WBC    3.970918\n",
      "9                    heartRate    3.956352\n",
      "20                   platelets    3.915517\n",
      "21                         PTT    3.893423\n",
      "11                    systolic    3.838784\n",
      "10                    troponin    3.614136\n",
      "24                     glucose    3.471149\n",
      "12                   diastolic    3.458119\n",
      "4                       lymphs    3.426243\n",
      "2                      lactate    3.417517\n",
      "16                   aspartate    3.239417\n",
      "29                   phosphate    3.200868\n",
      "1                          age    3.139938\n",
      "15                     alanine    3.134407\n",
      "23                    chloride    3.060657\n",
      "30                   magnesium    3.026018\n",
      "18                  hemoglobin    2.973013\n",
      "28                     calcium    2.931314\n",
      "14           bloodUreaNitrogen    2.877369\n",
      "25                      sodium    2.783738\n",
      "27                   potassium    2.716398\n",
      "17                   bilirubin    2.696556\n",
      "19                         iqr    2.688727\n",
      "8                  bicarbonate    2.515815\n",
      "0                       gender    0.414546\n",
      "26                         gcs    0.255848\n",
      "31  ethnicity_African American    0.000000\n",
      "32             ethnicity_Asian    0.000000\n",
      "33         ethnicity_Caucasian    0.000000\n",
      "34          ethnicity_Hispanic    0.000000\n",
      "35   ethnicity_Native American    0.000000\n",
      "36     ethnicity_Other/Unknown    0.000000\n"
     ]
    }
   ],
   "source": [
    "resultado_regressao = calcular_importancia_atributos('df_regressao.csv')\n",
    "print(resultado_regressao)"
   ]
  },
  {
   "cell_type": "markdown",
   "metadata": {},
   "source": [
    "Seleção de atributos Chi Square"
   ]
  },
  {
   "cell_type": "code",
   "execution_count": 42,
   "metadata": {},
   "outputs": [
    {
     "name": "stdout",
     "output_type": "stream",
     "text": [
      "                       Feature    Chi2 Score        p-value\n",
      "9                    heartRate  7.419040e+02  2.310822e-163\n",
      "14           bloodUreaNitrogen  7.348758e+02  7.798212e-162\n",
      "4                       lymphs  7.320303e+02  3.241363e-161\n",
      "13                         MAP  6.304400e+02  4.009892e-139\n",
      "11                    systolic  4.647851e+02  4.371047e-103\n",
      "5                         resp  2.417823e+02   1.607287e-54\n",
      "16                   aspartate  2.362084e+02   2.639210e-53\n",
      "24                     glucose  2.335921e+02   9.817249e-53\n",
      "20                   platelets  1.453978e+02   1.757863e-33\n",
      "12                   diastolic  1.270146e+02   1.844087e-29\n",
      "21                         PTT  8.277258e+01   9.205825e-20\n",
      "7                    pao2/fio2  5.671726e+01   5.032001e-14\n",
      "22                     albumin  4.737237e+01   5.870441e-12\n",
      "1                          age  3.746776e+01   9.293649e-10\n",
      "15                     alanine  3.367098e+01   6.526703e-09\n",
      "8                  bicarbonate  2.905469e+01   7.036354e-08\n",
      "18                  hemoglobin  2.425043e+01   8.458801e-07\n",
      "6                    spo2/fio2  2.293587e+01   1.674966e-06\n",
      "2                      lactate  1.921714e+01   1.166610e-05\n",
      "3                          WBC  1.759593e+01   2.731724e-05\n",
      "28                     calcium  7.587351e+00   5.877927e-03\n",
      "17                   bilirubin  4.354314e+00   3.691533e-02\n",
      "19                         iqr  4.147763e+00   4.168957e-02\n",
      "29                   phosphate  3.441682e+00   6.357095e-02\n",
      "25                      sodium  8.591591e-01   3.539741e-01\n",
      "30                   magnesium  6.771440e-01   4.105719e-01\n",
      "23                    chloride  2.427262e-01   6.222440e-01\n",
      "27                   potassium  7.194598e-02   7.885242e-01\n",
      "0                       gender  5.613572e-02   8.127113e-01\n",
      "26                         gcs  4.239042e-03   9.480881e-01\n",
      "10                    troponin  2.029618e-04   9.886333e-01\n",
      "33         ethnicity_Caucasian  1.669858e-29   1.000000e+00\n",
      "31  ethnicity_African American           NaN            NaN\n",
      "32             ethnicity_Asian           NaN            NaN\n",
      "34          ethnicity_Hispanic           NaN            NaN\n",
      "35   ethnicity_Native American           NaN            NaN\n",
      "36     ethnicity_Other/Unknown           NaN            NaN\n"
     ]
    }
   ],
   "source": [
    "X = df.drop(columns=['patientunitstayid', 'diagnostico'])  # Atributos\n",
    "y = df['diagnostico']  # Alvo\n",
    "\n",
    "# Aplicar o chi2 para calcular os scores de chi-square\n",
    "chi_scores = chi2(X, y)\n",
    "\n",
    "# Criar um DataFrame com os resultados\n",
    "chi2_df = pd.DataFrame({\n",
    "    'Feature': X.columns,\n",
    "    'Chi2 Score': chi_scores[0],\n",
    "    'p-value': chi_scores[1]\n",
    "})\n",
    "\n",
    "# Ordenar por chi-square score para obter o ranking dos atributos\n",
    "chi2_df = chi2_df.sort_values(by='Chi2 Score', ascending=False)\n",
    "\n",
    "# Exibir o ranking\n",
    "print(chi2_df)"
   ]
  }
 ],
 "metadata": {
  "kernelspec": {
   "display_name": "Python 3",
   "language": "python",
   "name": "python3"
  },
  "language_info": {
   "codemirror_mode": {
    "name": "ipython",
    "version": 3
   },
   "file_extension": ".py",
   "mimetype": "text/x-python",
   "name": "python",
   "nbconvert_exporter": "python",
   "pygments_lexer": "ipython3",
   "version": "3.12.4"
  }
 },
 "nbformat": 4,
 "nbformat_minor": 2
}
