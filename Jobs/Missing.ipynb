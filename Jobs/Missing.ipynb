{
 "cells": [
  {
   "cell_type": "code",
   "execution_count": 3,
   "metadata": {},
   "outputs": [],
   "source": [
    "import pandas as pd\n",
    "import matplotlib.pyplot as plt\n",
    "import seaborn as sns\n",
    "import numpy as np\n",
    "from IPython.display import display"
   ]
  },
  {
   "cell_type": "markdown",
   "metadata": {},
   "source": [
    "Media"
   ]
  },
  {
   "cell_type": "code",
   "execution_count": 2,
   "metadata": {},
   "outputs": [
    {
     "ename": "FileNotFoundError",
     "evalue": "[Errno 2] No such file or directory: 'df_og.csv'",
     "output_type": "error",
     "traceback": [
      "\u001b[0;31m---------------------------------------------------------------------------\u001b[0m",
      "\u001b[0;31mFileNotFoundError\u001b[0m                         Traceback (most recent call last)",
      "Cell \u001b[0;32mIn[2], line 3\u001b[0m\n\u001b[1;32m      1\u001b[0m \u001b[38;5;28;01mfrom\u001b[39;00m \u001b[38;5;21;01msklearn\u001b[39;00m\u001b[38;5;21;01m.\u001b[39;00m\u001b[38;5;21;01mimpute\u001b[39;00m \u001b[38;5;28;01mimport\u001b[39;00m SimpleImputer\n\u001b[0;32m----> 3\u001b[0m df_copia_media \u001b[38;5;241m=\u001b[39m pd\u001b[38;5;241m.\u001b[39mread_csv(\u001b[38;5;124m'\u001b[39m\u001b[38;5;124mdf_og.csv\u001b[39m\u001b[38;5;124m'\u001b[39m)\n\u001b[1;32m      5\u001b[0m \u001b[38;5;66;03m#df_copia_media.replace([np.inf, -np.inf], np.nan, inplace=True)\u001b[39;00m\n\u001b[1;32m      6\u001b[0m \n\u001b[1;32m      7\u001b[0m \u001b[38;5;66;03m#max_value = np.finfo(np.float64).max\u001b[39;00m\n\u001b[1;32m      8\u001b[0m \u001b[38;5;66;03m#df_copia_media = df_copia_media.applymap(lambda x: max_value if x > max_value else x)\u001b[39;00m\n\u001b[1;32m     10\u001b[0m imputer \u001b[38;5;241m=\u001b[39m SimpleImputer(strategy\u001b[38;5;241m=\u001b[39m\u001b[38;5;124m'\u001b[39m\u001b[38;5;124mmean\u001b[39m\u001b[38;5;124m'\u001b[39m)  \u001b[38;5;66;03m# ou 'median', 'most_frequent'\u001b[39;00m\n",
      "File \u001b[0;32m~/miniconda3/envs/uti/lib/python3.12/site-packages/pandas/io/parsers/readers.py:1026\u001b[0m, in \u001b[0;36mread_csv\u001b[0;34m(filepath_or_buffer, sep, delimiter, header, names, index_col, usecols, dtype, engine, converters, true_values, false_values, skipinitialspace, skiprows, skipfooter, nrows, na_values, keep_default_na, na_filter, verbose, skip_blank_lines, parse_dates, infer_datetime_format, keep_date_col, date_parser, date_format, dayfirst, cache_dates, iterator, chunksize, compression, thousands, decimal, lineterminator, quotechar, quoting, doublequote, escapechar, comment, encoding, encoding_errors, dialect, on_bad_lines, delim_whitespace, low_memory, memory_map, float_precision, storage_options, dtype_backend)\u001b[0m\n\u001b[1;32m   1013\u001b[0m kwds_defaults \u001b[38;5;241m=\u001b[39m _refine_defaults_read(\n\u001b[1;32m   1014\u001b[0m     dialect,\n\u001b[1;32m   1015\u001b[0m     delimiter,\n\u001b[0;32m   (...)\u001b[0m\n\u001b[1;32m   1022\u001b[0m     dtype_backend\u001b[38;5;241m=\u001b[39mdtype_backend,\n\u001b[1;32m   1023\u001b[0m )\n\u001b[1;32m   1024\u001b[0m kwds\u001b[38;5;241m.\u001b[39mupdate(kwds_defaults)\n\u001b[0;32m-> 1026\u001b[0m \u001b[38;5;28;01mreturn\u001b[39;00m _read(filepath_or_buffer, kwds)\n",
      "File \u001b[0;32m~/miniconda3/envs/uti/lib/python3.12/site-packages/pandas/io/parsers/readers.py:620\u001b[0m, in \u001b[0;36m_read\u001b[0;34m(filepath_or_buffer, kwds)\u001b[0m\n\u001b[1;32m    617\u001b[0m _validate_names(kwds\u001b[38;5;241m.\u001b[39mget(\u001b[38;5;124m\"\u001b[39m\u001b[38;5;124mnames\u001b[39m\u001b[38;5;124m\"\u001b[39m, \u001b[38;5;28;01mNone\u001b[39;00m))\n\u001b[1;32m    619\u001b[0m \u001b[38;5;66;03m# Create the parser.\u001b[39;00m\n\u001b[0;32m--> 620\u001b[0m parser \u001b[38;5;241m=\u001b[39m TextFileReader(filepath_or_buffer, \u001b[38;5;241m*\u001b[39m\u001b[38;5;241m*\u001b[39mkwds)\n\u001b[1;32m    622\u001b[0m \u001b[38;5;28;01mif\u001b[39;00m chunksize \u001b[38;5;129;01mor\u001b[39;00m iterator:\n\u001b[1;32m    623\u001b[0m     \u001b[38;5;28;01mreturn\u001b[39;00m parser\n",
      "File \u001b[0;32m~/miniconda3/envs/uti/lib/python3.12/site-packages/pandas/io/parsers/readers.py:1620\u001b[0m, in \u001b[0;36mTextFileReader.__init__\u001b[0;34m(self, f, engine, **kwds)\u001b[0m\n\u001b[1;32m   1617\u001b[0m     \u001b[38;5;28mself\u001b[39m\u001b[38;5;241m.\u001b[39moptions[\u001b[38;5;124m\"\u001b[39m\u001b[38;5;124mhas_index_names\u001b[39m\u001b[38;5;124m\"\u001b[39m] \u001b[38;5;241m=\u001b[39m kwds[\u001b[38;5;124m\"\u001b[39m\u001b[38;5;124mhas_index_names\u001b[39m\u001b[38;5;124m\"\u001b[39m]\n\u001b[1;32m   1619\u001b[0m \u001b[38;5;28mself\u001b[39m\u001b[38;5;241m.\u001b[39mhandles: IOHandles \u001b[38;5;241m|\u001b[39m \u001b[38;5;28;01mNone\u001b[39;00m \u001b[38;5;241m=\u001b[39m \u001b[38;5;28;01mNone\u001b[39;00m\n\u001b[0;32m-> 1620\u001b[0m \u001b[38;5;28mself\u001b[39m\u001b[38;5;241m.\u001b[39m_engine \u001b[38;5;241m=\u001b[39m \u001b[38;5;28mself\u001b[39m\u001b[38;5;241m.\u001b[39m_make_engine(f, \u001b[38;5;28mself\u001b[39m\u001b[38;5;241m.\u001b[39mengine)\n",
      "File \u001b[0;32m~/miniconda3/envs/uti/lib/python3.12/site-packages/pandas/io/parsers/readers.py:1880\u001b[0m, in \u001b[0;36mTextFileReader._make_engine\u001b[0;34m(self, f, engine)\u001b[0m\n\u001b[1;32m   1878\u001b[0m     \u001b[38;5;28;01mif\u001b[39;00m \u001b[38;5;124m\"\u001b[39m\u001b[38;5;124mb\u001b[39m\u001b[38;5;124m\"\u001b[39m \u001b[38;5;129;01mnot\u001b[39;00m \u001b[38;5;129;01min\u001b[39;00m mode:\n\u001b[1;32m   1879\u001b[0m         mode \u001b[38;5;241m+\u001b[39m\u001b[38;5;241m=\u001b[39m \u001b[38;5;124m\"\u001b[39m\u001b[38;5;124mb\u001b[39m\u001b[38;5;124m\"\u001b[39m\n\u001b[0;32m-> 1880\u001b[0m \u001b[38;5;28mself\u001b[39m\u001b[38;5;241m.\u001b[39mhandles \u001b[38;5;241m=\u001b[39m get_handle(\n\u001b[1;32m   1881\u001b[0m     f,\n\u001b[1;32m   1882\u001b[0m     mode,\n\u001b[1;32m   1883\u001b[0m     encoding\u001b[38;5;241m=\u001b[39m\u001b[38;5;28mself\u001b[39m\u001b[38;5;241m.\u001b[39moptions\u001b[38;5;241m.\u001b[39mget(\u001b[38;5;124m\"\u001b[39m\u001b[38;5;124mencoding\u001b[39m\u001b[38;5;124m\"\u001b[39m, \u001b[38;5;28;01mNone\u001b[39;00m),\n\u001b[1;32m   1884\u001b[0m     compression\u001b[38;5;241m=\u001b[39m\u001b[38;5;28mself\u001b[39m\u001b[38;5;241m.\u001b[39moptions\u001b[38;5;241m.\u001b[39mget(\u001b[38;5;124m\"\u001b[39m\u001b[38;5;124mcompression\u001b[39m\u001b[38;5;124m\"\u001b[39m, \u001b[38;5;28;01mNone\u001b[39;00m),\n\u001b[1;32m   1885\u001b[0m     memory_map\u001b[38;5;241m=\u001b[39m\u001b[38;5;28mself\u001b[39m\u001b[38;5;241m.\u001b[39moptions\u001b[38;5;241m.\u001b[39mget(\u001b[38;5;124m\"\u001b[39m\u001b[38;5;124mmemory_map\u001b[39m\u001b[38;5;124m\"\u001b[39m, \u001b[38;5;28;01mFalse\u001b[39;00m),\n\u001b[1;32m   1886\u001b[0m     is_text\u001b[38;5;241m=\u001b[39mis_text,\n\u001b[1;32m   1887\u001b[0m     errors\u001b[38;5;241m=\u001b[39m\u001b[38;5;28mself\u001b[39m\u001b[38;5;241m.\u001b[39moptions\u001b[38;5;241m.\u001b[39mget(\u001b[38;5;124m\"\u001b[39m\u001b[38;5;124mencoding_errors\u001b[39m\u001b[38;5;124m\"\u001b[39m, \u001b[38;5;124m\"\u001b[39m\u001b[38;5;124mstrict\u001b[39m\u001b[38;5;124m\"\u001b[39m),\n\u001b[1;32m   1888\u001b[0m     storage_options\u001b[38;5;241m=\u001b[39m\u001b[38;5;28mself\u001b[39m\u001b[38;5;241m.\u001b[39moptions\u001b[38;5;241m.\u001b[39mget(\u001b[38;5;124m\"\u001b[39m\u001b[38;5;124mstorage_options\u001b[39m\u001b[38;5;124m\"\u001b[39m, \u001b[38;5;28;01mNone\u001b[39;00m),\n\u001b[1;32m   1889\u001b[0m )\n\u001b[1;32m   1890\u001b[0m \u001b[38;5;28;01massert\u001b[39;00m \u001b[38;5;28mself\u001b[39m\u001b[38;5;241m.\u001b[39mhandles \u001b[38;5;129;01mis\u001b[39;00m \u001b[38;5;129;01mnot\u001b[39;00m \u001b[38;5;28;01mNone\u001b[39;00m\n\u001b[1;32m   1891\u001b[0m f \u001b[38;5;241m=\u001b[39m \u001b[38;5;28mself\u001b[39m\u001b[38;5;241m.\u001b[39mhandles\u001b[38;5;241m.\u001b[39mhandle\n",
      "File \u001b[0;32m~/miniconda3/envs/uti/lib/python3.12/site-packages/pandas/io/common.py:873\u001b[0m, in \u001b[0;36mget_handle\u001b[0;34m(path_or_buf, mode, encoding, compression, memory_map, is_text, errors, storage_options)\u001b[0m\n\u001b[1;32m    868\u001b[0m \u001b[38;5;28;01melif\u001b[39;00m \u001b[38;5;28misinstance\u001b[39m(handle, \u001b[38;5;28mstr\u001b[39m):\n\u001b[1;32m    869\u001b[0m     \u001b[38;5;66;03m# Check whether the filename is to be opened in binary mode.\u001b[39;00m\n\u001b[1;32m    870\u001b[0m     \u001b[38;5;66;03m# Binary mode does not support 'encoding' and 'newline'.\u001b[39;00m\n\u001b[1;32m    871\u001b[0m     \u001b[38;5;28;01mif\u001b[39;00m ioargs\u001b[38;5;241m.\u001b[39mencoding \u001b[38;5;129;01mand\u001b[39;00m \u001b[38;5;124m\"\u001b[39m\u001b[38;5;124mb\u001b[39m\u001b[38;5;124m\"\u001b[39m \u001b[38;5;129;01mnot\u001b[39;00m \u001b[38;5;129;01min\u001b[39;00m ioargs\u001b[38;5;241m.\u001b[39mmode:\n\u001b[1;32m    872\u001b[0m         \u001b[38;5;66;03m# Encoding\u001b[39;00m\n\u001b[0;32m--> 873\u001b[0m         handle \u001b[38;5;241m=\u001b[39m \u001b[38;5;28mopen\u001b[39m(\n\u001b[1;32m    874\u001b[0m             handle,\n\u001b[1;32m    875\u001b[0m             ioargs\u001b[38;5;241m.\u001b[39mmode,\n\u001b[1;32m    876\u001b[0m             encoding\u001b[38;5;241m=\u001b[39mioargs\u001b[38;5;241m.\u001b[39mencoding,\n\u001b[1;32m    877\u001b[0m             errors\u001b[38;5;241m=\u001b[39merrors,\n\u001b[1;32m    878\u001b[0m             newline\u001b[38;5;241m=\u001b[39m\u001b[38;5;124m\"\u001b[39m\u001b[38;5;124m\"\u001b[39m,\n\u001b[1;32m    879\u001b[0m         )\n\u001b[1;32m    880\u001b[0m     \u001b[38;5;28;01melse\u001b[39;00m:\n\u001b[1;32m    881\u001b[0m         \u001b[38;5;66;03m# Binary mode\u001b[39;00m\n\u001b[1;32m    882\u001b[0m         handle \u001b[38;5;241m=\u001b[39m \u001b[38;5;28mopen\u001b[39m(handle, ioargs\u001b[38;5;241m.\u001b[39mmode)\n",
      "\u001b[0;31mFileNotFoundError\u001b[0m: [Errno 2] No such file or directory: 'df_og.csv'"
     ]
    }
   ],
   "source": [
    "from sklearn.impute import SimpleImputer\n",
    "\n",
    "df_copia_media = pd.read_csv('df_og.csv')\n",
    "\n",
    "#df_copia_media.replace([np.inf, -np.inf], np.nan, inplace=True)\n",
    "\n",
    "#max_value = np.finfo(np.float64).max\n",
    "#df_copia_media = df_copia_media.applymap(lambda x: max_value if x > max_value else x)\n",
    "\n",
    "imputer = SimpleImputer(strategy='mean')  # ou 'median', 'most_frequent'\n",
    "df_media = imputer.fit_transform(df_copia_media)\n",
    "\n",
    "df_media = pd.DataFrame(df_media, columns=df_copia_media.columns)"
   ]
  },
  {
   "cell_type": "code",
   "execution_count": null,
   "metadata": {},
   "outputs": [],
   "source": [
    "df_media.to_csv(\"df_media.csv\", index=False)"
   ]
  },
  {
   "cell_type": "markdown",
   "metadata": {},
   "source": [
    "Valor Normal"
   ]
  },
  {
   "cell_type": "code",
   "execution_count": null,
   "metadata": {},
   "outputs": [],
   "source": [
    "df_copia_normal = pd.read_csv('df_og.csv')\n",
    "\n",
    "age_n = df_copia_normal['age'].mean(axis=0)\n",
    "df_copia_normal['gender'] = df_copia_normal['gender'].fillna(0)\n",
    "df_copia_normal['age'] = df_copia_normal['age'].fillna(age_n)\n",
    "\n",
    "#Inflammation\n",
    "df_copia_normal['bands'] = df_copia_normal['bands'].fillna(250)\n",
    "df_copia_normal['CRP'] = df_copia_normal['CRP'].fillna(5)\n",
    "\n",
    "df_copia_normal['ESR'] = df_copia_normal['ESR'].fillna(10)\n",
    "df_copia_normal['temp'] = df_copia_normal['temp'].fillna(36.85)\n",
    "df_copia_normal['lactate'] = df_copia_normal['lactate'].fillna(1)\n",
    "df_copia_normal['WBC'] = df_copia_normal['WBC'].fillna(7500)\n",
    "df_copia_normal['lymphs'] = df_copia_normal['lymphs'].fillna(2000)\n",
    "\n",
    "#Pulmonary\n",
    "df_copia_normal['resp'] = df_copia_normal['resp'].fillna(16)\n",
    "df_copia_normal['spo2/fio2'] = df_copia_normal['spo2/fio2'].fillna(450)\n",
    "df_copia_normal['pao2/fio2'] = df_copia_normal['pao2/fio2'].fillna(600)\n",
    "\n",
    "#Cardiovascular\n",
    "df_copia_normal['bicarbonate'] = df_copia_normal['bicarbonate'].fillna(23)\n",
    "df_copia_normal['heartRate'] = df_copia_normal['heartRate'].fillna(75)\n",
    "df_copia_normal['troponin'] = df_copia_normal['troponin'].fillna(115)\n",
    "df_copia_normal['systolic'] = df_copia_normal['systolic'].fillna(0.01)\n",
    "df_copia_normal['diastolic'] = df_copia_normal['diastolic'].fillna(62.5)\n",
    "df_copia_normal['MAP'] = df_copia_normal['MAP'].fillna(85)\n",
    "\n",
    "#Renal\n",
    "df_copia_normal['bloodUreaNitrogen'] = df_copia_normal['bloodUreaNitrogen'].fillna(10)\n",
    "\n",
    "#Hepatic\n",
    "df_copia_normal['alanine'] = df_copia_normal['alanine'].fillna(24)\n",
    "df_copia_normal['aspartate'] = df_copia_normal['aspartate'].fillna(22.5)\n",
    "df_copia_normal['bilirubin'] = df_copia_normal['bilirubin'].fillna(0.6)\n",
    "\n",
    "#Hematologic\n",
    "df_copia_normal['hemoglobin'] = df_copia_normal['hemoglobin'].fillna(18)\n",
    "df_copia_normal['iqr'] = df_copia_normal['iqr'].fillna(0.6)\n",
    "df_copia_normal['platelets'] = df_copia_normal['platelets'].fillna(275)\n",
    "df_copia_normal['PTT'] = df_copia_normal['PTT'].fillna(0.8)\n",
    "df_copia_normal['fibrinogen'] = df_copia_normal['fibrinogen'].fillna(300)\n",
    "\n",
    "#Bioquimica\n",
    "df_copia_normal['albumin'] = df_copia_normal['albumin'].fillna(4.35)\n",
    "df_copia_normal['chloride'] = df_copia_normal['chloride'].fillna(102.5)\n",
    "df_copia_normal['glucose'] = df_copia_normal['glucose'].fillna(125)\n",
    "df_copia_normal['sodium'] = df_copia_normal['sodium'].fillna(140)\n",
    "df_copia_normal['Total'] = df_copia_normal['Total'].fillna(15)\n",
    "df_copia_normal['potassium'] = df_copia_normal['potassium'].fillna(4.5)\n",
    "df_copia_normal['calcium'] = df_copia_normal['calcium'].fillna(9.6)\n",
    "df_copia_normal['phosphate'] = df_copia_normal['phosphate'].fillna(3.5)\n",
    "df_copia_normal['magnesium'] = df_copia_normal['magnesium'].fillna(2.1)\n",
    "\n",
    "\n",
    "#Diagnostico\n",
    "df_copia_normal['diagnostico'] = df_copia_normal['diagnostico'].fillna(0)\n",
    "\n",
    "#Antibiotico\n",
    "df_copia_normal['antibiotico'] = df_copia_normal['antibiotico'].fillna(0)\n",
    "#Cultura\n",
    "df_copia_normal['cultura'] = df_copia_normal['cultura'].fillna(0)"
   ]
  },
  {
   "cell_type": "code",
   "execution_count": null,
   "metadata": {},
   "outputs": [],
   "source": [
    "df_copia_normal.to_csv(\"df_normal.csv\", index=False)"
   ]
  },
  {
   "cell_type": "markdown",
   "metadata": {},
   "source": [
    "Knn"
   ]
  },
  {
   "cell_type": "code",
   "execution_count": null,
   "metadata": {},
   "outputs": [],
   "source": [
    "from sklearn.impute import KNNImputer\n",
    "\n",
    "df_copia_knn = pd.read_csv('df_og.csv')\n",
    "num_cols_before = df_copia_knn.shape[1]\n",
    "print (num_cols_before)"
   ]
  },
  {
   "cell_type": "code",
   "execution_count": null,
   "metadata": {},
   "outputs": [],
   "source": [
    "cols_all_nan = df_copia_knn.columns[df_copia_knn.isnull().all()]\n",
    "print (cols_all_nan)"
   ]
  },
  {
   "cell_type": "code",
   "execution_count": null,
   "metadata": {},
   "outputs": [],
   "source": [
    "#Caso tivesse colunas todas vazias\n",
    "#df_copia_knn['systolic'] = df_copia_knn['systolic'].fillna(0.01)\n",
    "#df_copia_knn['diastolic'] = df_copia_knn['diastolic'].fillna(62.5)"
   ]
  },
  {
   "cell_type": "code",
   "execution_count": null,
   "metadata": {},
   "outputs": [],
   "source": [
    "# Nome da coluna que não será imputada\n",
    "diagnostico = 'diagnostico'\n",
    "\n",
    "# Separar a coluna que não será imputada\n",
    "diagnostico_data = df_copia_knn[[diagnostico]]\n",
    "\n",
    "# Remover a coluna que não será imputada do DataFrame\n",
    "df_para_imputar = df_copia_knn.drop(columns=[diagnostico])\n",
    "\n",
    "# Convertendo todas as colunas para tipo float\n",
    "df_para_imputar = df_para_imputar.astype(float)\n",
    "\n",
    "# Criando um objeto KNNImputer\n",
    "knn_imputer = KNNImputer(n_neighbors=5)\n",
    "\n",
    "# Imputando os dados\n",
    "data_imputed_knn = knn_imputer.fit_transform(df_para_imputar)"
   ]
  },
  {
   "cell_type": "code",
   "execution_count": null,
   "metadata": {},
   "outputs": [],
   "source": [
    "# Transformando os dados imputados de volta em um DataFrame\n",
    "df_imputado = pd.DataFrame(data_imputed_knn, columns=df_para_imputar.columns)\n",
    "\n",
    "# Adicionando de volta a coluna que não foi imputada\n",
    "df_knn = pd.concat([df_imputado, diagnostico_data], axis=1)\n",
    "\n",
    "# Verificando o resultado final\n",
    "df_knn['diagnostico'] = df_knn['diagnostico'].fillna(0)\n",
    "\n",
    "# Verifica o número de colunas após a imputação\n",
    "num_cols_after = df_knn.shape[1]\n",
    "print(num_cols_after)\n",
    "\n",
    "df_knn.to_csv(\"df_knn.csv\", index=False)"
   ]
  },
  {
   "cell_type": "markdown",
   "metadata": {},
   "source": [
    "Mediana"
   ]
  },
  {
   "cell_type": "code",
   "execution_count": null,
   "metadata": {},
   "outputs": [],
   "source": [
    "from sklearn.impute import SimpleImputer\n",
    "\n",
    "df_copia_mediana = pd.read_csv('df_og.csv')\n",
    "\n",
    "#df_copia_mediana.replace([np.inf, -np.inf], np.nan, inplace=True)\n",
    "\n",
    "#max_value = np.finfo(np.float64).max\n",
    "#df_copia_mediana = df_copia_mediana.applymap(lambda x: max_value if x > max_value else x)\n",
    "\n",
    "imputer = SimpleImputer(strategy='median')\n",
    "df_mediana = imputer.fit_transform(df_copia_mediana)\n",
    "\n",
    "df_mediana = pd.DataFrame(df_mediana, columns=df_copia_mediana.columns)"
   ]
  },
  {
   "cell_type": "code",
   "execution_count": null,
   "metadata": {},
   "outputs": [],
   "source": [
    "df_mediana.to_csv(\"df_mediana.csv\", index=False)"
   ]
  },
  {
   "cell_type": "markdown",
   "metadata": {},
   "source": [
    "Moda"
   ]
  },
  {
   "cell_type": "code",
   "execution_count": null,
   "metadata": {},
   "outputs": [],
   "source": [
    "from sklearn.impute import SimpleImputer\n",
    "\n",
    "df_copia_moda = pd.read_csv('df_og.csv')\n",
    "\n",
    "#df_copia_moda.replace([np.inf, -np.inf], np.nan, inplace=True)\n",
    "\n",
    "#max_value = np.finfo(np.float64).max\n",
    "#df_copia_moda = df_copia_moda.applymap(lambda x: max_value if x > max_value else x)\n",
    "\n",
    "imputer = SimpleImputer(strategy='most_frequent') \n",
    "df_moda = imputer.fit_transform(df_copia_moda)\n",
    "\n",
    "df_moda = pd.DataFrame(df_moda, columns=df_copia_moda.columns)"
   ]
  },
  {
   "cell_type": "code",
   "execution_count": null,
   "metadata": {},
   "outputs": [],
   "source": [
    "df_moda.to_csv(\"df_moda.csv\", index=False)"
   ]
  },
  {
   "cell_type": "markdown",
   "metadata": {},
   "source": [
    "Regressão"
   ]
  },
  {
   "cell_type": "code",
   "execution_count": 4,
   "metadata": {},
   "outputs": [],
   "source": [
    "from sklearn.linear_model import LinearRegression\n",
    "from sklearn.experimental import enable_iterative_imputer \n",
    "from sklearn.impute import IterativeImputer\n",
    "\n",
    "df_copia_regressao = pd.read_csv('df_final.csv')\n",
    "\n",
    "#df_copia_regressao.replace([np.inf, -np.inf], np.nan, inplace=True)\n",
    "#max_value = np.finfo(np.float64).max\n",
    "#df_copia_regressao = df_copia_regressao.applymap(lambda x: max_value if x > max_value else x)\n",
    "\n",
    "imputer = IterativeImputer(estimator=LinearRegression(), max_iter=10, random_state=42)\n",
    "df_regressao = imputer.fit_transform(df_copia_regressao)\n",
    "\n",
    "df_regressao = pd.DataFrame(df_regressao, columns=df_copia_regressao.columns)"
   ]
  },
  {
   "cell_type": "code",
   "execution_count": 5,
   "metadata": {},
   "outputs": [],
   "source": [
    "df_regressao.to_csv(\"df_regressao.csv\", index=False)"
   ]
  }
 ],
 "metadata": {
  "kernelspec": {
   "display_name": "uti",
   "language": "python",
   "name": "python3"
  },
  "language_info": {
   "codemirror_mode": {
    "name": "ipython",
    "version": 3
   },
   "file_extension": ".py",
   "mimetype": "text/x-python",
   "name": "python",
   "nbconvert_exporter": "python",
   "pygments_lexer": "ipython3",
   "version": "3.12.4"
  }
 },
 "nbformat": 4,
 "nbformat_minor": 2
}
