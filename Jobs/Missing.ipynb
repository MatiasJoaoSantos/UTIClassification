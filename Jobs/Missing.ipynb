{
 "cells": [
  {
   "cell_type": "code",
   "execution_count": 3,
   "metadata": {},
   "outputs": [],
   "source": [
    "import pandas as pd\n",
    "import matplotlib.pyplot as plt\n",
    "import seaborn as sns\n",
    "import numpy as np\n",
    "from IPython.display import display"
   ]
  },
  {
   "cell_type": "markdown",
   "metadata": {},
   "source": [
    "Media"
   ]
  },
  {
   "cell_type": "code",
   "execution_count": 9,
   "metadata": {},
   "outputs": [],
   "source": [
    "from sklearn.impute import SimpleImputer\n",
    "\n",
    "df_copia_media = pd.read_csv('df_final.csv')\n",
    "\n",
    "#df_copia_media.replace([np.inf, -np.inf], np.nan, inplace=True)\n",
    "\n",
    "#max_value = np.finfo(np.float64).max\n",
    "#df_copia_media = df_copia_media.applymap(lambda x: max_value if x > max_value else x)\n",
    "\n",
    "imputer = SimpleImputer(strategy='mean')  # ou 'median', 'most_frequent'\n",
    "df_media = imputer.fit_transform(df_copia_media)\n",
    "\n",
    "df_media = pd.DataFrame(df_media, columns=df_copia_media.columns)"
   ]
  },
  {
   "cell_type": "code",
   "execution_count": 10,
   "metadata": {},
   "outputs": [],
   "source": [
    "df_media.to_csv(\"df_media.csv\", index=False)"
   ]
  },
  {
   "cell_type": "markdown",
   "metadata": {},
   "source": [
    "Valor Normal"
   ]
  },
  {
   "cell_type": "code",
   "execution_count": 16,
   "metadata": {},
   "outputs": [
    {
     "data": {
      "text/plain": [
       "Index(['patientunitstayid', 'gender', 'age', 'lactate', 'WBC', 'lymphs',\n",
       "       'resp', 'spo2/fio2', 'pao2/fio2', 'bicarbonate', 'heartRate',\n",
       "       'troponin', 'systolic', 'diastolic', 'MAP', 'bloodUreaNitrogen',\n",
       "       'alanine', 'aspartate', 'bilirubin', 'hemoglobin', 'iqr', 'platelets',\n",
       "       'PTT', 'albumin', 'chloride', 'glucose', 'sodium', 'gcs', 'potassium',\n",
       "       'calcium', 'phosphate', 'magnesium', 'ethnicity_African American',\n",
       "       'ethnicity_Asian', 'ethnicity_Caucasian', 'ethnicity_Hispanic',\n",
       "       'ethnicity_Native American', 'ethnicity_Other/Unknown', 'diagnostico'],\n",
       "      dtype='object')"
      ]
     },
     "execution_count": 16,
     "metadata": {},
     "output_type": "execute_result"
    }
   ],
   "source": [
    "df = pd.read_csv('df_final.csv')\n",
    "df.columns"
   ]
  },
  {
   "cell_type": "code",
   "execution_count": 20,
   "metadata": {},
   "outputs": [],
   "source": [
    "df_copia_normal = pd.read_csv('df_final.csv')\n",
    "\n",
    "age_n = df_copia_normal['age'].mean(axis=0)\n",
    "df_copia_normal['gender'] = df_copia_normal['gender'].fillna(0)\n",
    "df_copia_normal['age'] = df_copia_normal['age'].fillna(age_n)\n",
    "\n",
    "#Inflammation\n",
    "#df_copia_normal['bands'] = df_copia_normal['bands'].fillna(250)\n",
    "#df_copia_normal['CRP'] = df_copia_normal['CRP'].fillna(5)\n",
    "\n",
    "#df_copia_normal['ESR'] = df_copia_normal['ESR'].fillna(10)\n",
    "#df_copia_normal['temp'] = df_copia_normal['temp'].fillna(36.85)\n",
    "df_copia_normal['lactate'] = df_copia_normal['lactate'].fillna(1)\n",
    "df_copia_normal['WBC'] = df_copia_normal['WBC'].fillna(7500)\n",
    "df_copia_normal['lymphs'] = df_copia_normal['lymphs'].fillna(2000)\n",
    "\n",
    "#Pulmonary\n",
    "df_copia_normal['resp'] = df_copia_normal['resp'].fillna(16)\n",
    "df_copia_normal['spo2/fio2'] = df_copia_normal['spo2/fio2'].fillna(450)\n",
    "df_copia_normal['pao2/fio2'] = df_copia_normal['pao2/fio2'].fillna(600)\n",
    "\n",
    "#Cardiovascular\n",
    "df_copia_normal['bicarbonate'] = df_copia_normal['bicarbonate'].fillna(23)\n",
    "df_copia_normal['heartRate'] = df_copia_normal['heartRate'].fillna(75)\n",
    "df_copia_normal['troponin'] = df_copia_normal['troponin'].fillna(115)\n",
    "df_copia_normal['systolic'] = df_copia_normal['systolic'].fillna(0.01)\n",
    "df_copia_normal['diastolic'] = df_copia_normal['diastolic'].fillna(62.5)\n",
    "df_copia_normal['MAP'] = df_copia_normal['MAP'].fillna(85)\n",
    "\n",
    "#Renal\n",
    "df_copia_normal['bloodUreaNitrogen'] = df_copia_normal['bloodUreaNitrogen'].fillna(10)\n",
    "\n",
    "#Hepatic\n",
    "df_copia_normal['alanine'] = df_copia_normal['alanine'].fillna(24)\n",
    "df_copia_normal['aspartate'] = df_copia_normal['aspartate'].fillna(22.5)\n",
    "df_copia_normal['bilirubin'] = df_copia_normal['bilirubin'].fillna(0.6)\n",
    "\n",
    "#Hematologic\n",
    "df_copia_normal['hemoglobin'] = df_copia_normal['hemoglobin'].fillna(18)\n",
    "df_copia_normal['iqr'] = df_copia_normal['iqr'].fillna(0.6)\n",
    "df_copia_normal['platelets'] = df_copia_normal['platelets'].fillna(275)\n",
    "df_copia_normal['PTT'] = df_copia_normal['PTT'].fillna(0.8)\n",
    "#df_copia_normal['fibrinogen'] = df_copia_normal['fibrinogen'].fillna(300)\n",
    "\n",
    "#Bioquimica\n",
    "df_copia_normal['albumin'] = df_copia_normal['albumin'].fillna(4.35)\n",
    "df_copia_normal['chloride'] = df_copia_normal['chloride'].fillna(102.5)\n",
    "df_copia_normal['glucose'] = df_copia_normal['glucose'].fillna(125)\n",
    "df_copia_normal['sodium'] = df_copia_normal['sodium'].fillna(140)\n",
    "df_copia_normal['gcs'] = df_copia_normal['gcs'].fillna(15)\n",
    "df_copia_normal['potassium'] = df_copia_normal['potassium'].fillna(4.5)\n",
    "df_copia_normal['calcium'] = df_copia_normal['calcium'].fillna(9.6)\n",
    "df_copia_normal['phosphate'] = df_copia_normal['phosphate'].fillna(3.5)\n",
    "df_copia_normal['magnesium'] = df_copia_normal['magnesium'].fillna(2.1)\n",
    "\n",
    "\n",
    "#Diagnostico\n",
    "df_copia_normal['diagnostico'] = df_copia_normal['diagnostico'].fillna(0)\n",
    "\n",
    "#Antibiotico\n",
    "#df_copia_normal['antibiotico'] = df_copia_normal['antibiotico'].fillna(0)\n",
    "#Cultura\n",
    "#df_copia_normal['cultura'] = df_copia_normal['cultura'].fillna(0)"
   ]
  },
  {
   "cell_type": "code",
   "execution_count": 21,
   "metadata": {},
   "outputs": [],
   "source": [
    "df_copia_normal.to_csv(\"df_normal.csv\", index=False)"
   ]
  },
  {
   "cell_type": "markdown",
   "metadata": {},
   "source": [
    "Knn"
   ]
  },
  {
   "cell_type": "code",
   "execution_count": 23,
   "metadata": {},
   "outputs": [
    {
     "name": "stdout",
     "output_type": "stream",
     "text": [
      "39\n"
     ]
    }
   ],
   "source": [
    "from sklearn.impute import KNNImputer\n",
    "\n",
    "df_copia_knn = pd.read_csv('df_final.csv')\n",
    "num_cols_before = df_copia_knn.shape[1]\n",
    "print (num_cols_before)"
   ]
  },
  {
   "cell_type": "code",
   "execution_count": 24,
   "metadata": {},
   "outputs": [
    {
     "name": "stdout",
     "output_type": "stream",
     "text": [
      "Index([], dtype='object')\n"
     ]
    }
   ],
   "source": [
    "cols_all_nan = df_copia_knn.columns[df_copia_knn.isnull().all()]\n",
    "print (cols_all_nan)"
   ]
  },
  {
   "cell_type": "code",
   "execution_count": null,
   "metadata": {},
   "outputs": [],
   "source": [
    "#Caso tivesse colunas todas vazias\n",
    "#df_copia_knn['systolic'] = df_copia_knn['systolic'].fillna(0.01)\n",
    "#df_copia_knn['diastolic'] = df_copia_knn['diastolic'].fillna(62.5)"
   ]
  },
  {
   "cell_type": "code",
   "execution_count": 25,
   "metadata": {},
   "outputs": [
    {
     "ename": "KeyboardInterrupt",
     "evalue": "",
     "output_type": "error",
     "traceback": [
      "\u001b[0;31m---------------------------------------------------------------------------\u001b[0m",
      "\u001b[0;31mKeyboardInterrupt\u001b[0m                         Traceback (most recent call last)",
      "Cell \u001b[0;32mIn[25], line 17\u001b[0m\n\u001b[1;32m     14\u001b[0m knn_imputer \u001b[38;5;241m=\u001b[39m KNNImputer(n_neighbors\u001b[38;5;241m=\u001b[39m\u001b[38;5;241m5\u001b[39m)\n\u001b[1;32m     16\u001b[0m \u001b[38;5;66;03m# Imputando os dados\u001b[39;00m\n\u001b[0;32m---> 17\u001b[0m data_imputed_knn \u001b[38;5;241m=\u001b[39m knn_imputer\u001b[38;5;241m.\u001b[39mfit_transform(df_para_imputar)\n",
      "File \u001b[0;32m~/miniconda3/envs/uti/lib/python3.12/site-packages/sklearn/utils/_set_output.py:313\u001b[0m, in \u001b[0;36m_wrap_method_output.<locals>.wrapped\u001b[0;34m(self, X, *args, **kwargs)\u001b[0m\n\u001b[1;32m    311\u001b[0m \u001b[38;5;129m@wraps\u001b[39m(f)\n\u001b[1;32m    312\u001b[0m \u001b[38;5;28;01mdef\u001b[39;00m \u001b[38;5;21mwrapped\u001b[39m(\u001b[38;5;28mself\u001b[39m, X, \u001b[38;5;241m*\u001b[39margs, \u001b[38;5;241m*\u001b[39m\u001b[38;5;241m*\u001b[39mkwargs):\n\u001b[0;32m--> 313\u001b[0m     data_to_wrap \u001b[38;5;241m=\u001b[39m f(\u001b[38;5;28mself\u001b[39m, X, \u001b[38;5;241m*\u001b[39margs, \u001b[38;5;241m*\u001b[39m\u001b[38;5;241m*\u001b[39mkwargs)\n\u001b[1;32m    314\u001b[0m     \u001b[38;5;28;01mif\u001b[39;00m \u001b[38;5;28misinstance\u001b[39m(data_to_wrap, \u001b[38;5;28mtuple\u001b[39m):\n\u001b[1;32m    315\u001b[0m         \u001b[38;5;66;03m# only wrap the first output for cross decomposition\u001b[39;00m\n\u001b[1;32m    316\u001b[0m         return_tuple \u001b[38;5;241m=\u001b[39m (\n\u001b[1;32m    317\u001b[0m             _wrap_data_with_container(method, data_to_wrap[\u001b[38;5;241m0\u001b[39m], X, \u001b[38;5;28mself\u001b[39m),\n\u001b[1;32m    318\u001b[0m             \u001b[38;5;241m*\u001b[39mdata_to_wrap[\u001b[38;5;241m1\u001b[39m:],\n\u001b[1;32m    319\u001b[0m         )\n",
      "File \u001b[0;32m~/miniconda3/envs/uti/lib/python3.12/site-packages/sklearn/base.py:1098\u001b[0m, in \u001b[0;36mTransformerMixin.fit_transform\u001b[0;34m(self, X, y, **fit_params)\u001b[0m\n\u001b[1;32m   1083\u001b[0m         warnings\u001b[38;5;241m.\u001b[39mwarn(\n\u001b[1;32m   1084\u001b[0m             (\n\u001b[1;32m   1085\u001b[0m                 \u001b[38;5;124mf\u001b[39m\u001b[38;5;124m\"\u001b[39m\u001b[38;5;124mThis object (\u001b[39m\u001b[38;5;132;01m{\u001b[39;00m\u001b[38;5;28mself\u001b[39m\u001b[38;5;241m.\u001b[39m\u001b[38;5;18m__class__\u001b[39m\u001b[38;5;241m.\u001b[39m\u001b[38;5;18m__name__\u001b[39m\u001b[38;5;132;01m}\u001b[39;00m\u001b[38;5;124m) has a `transform`\u001b[39m\u001b[38;5;124m\"\u001b[39m\n\u001b[0;32m   (...)\u001b[0m\n\u001b[1;32m   1093\u001b[0m             \u001b[38;5;167;01mUserWarning\u001b[39;00m,\n\u001b[1;32m   1094\u001b[0m         )\n\u001b[1;32m   1096\u001b[0m \u001b[38;5;28;01mif\u001b[39;00m y \u001b[38;5;129;01mis\u001b[39;00m \u001b[38;5;28;01mNone\u001b[39;00m:\n\u001b[1;32m   1097\u001b[0m     \u001b[38;5;66;03m# fit method of arity 1 (unsupervised transformation)\u001b[39;00m\n\u001b[0;32m-> 1098\u001b[0m     \u001b[38;5;28;01mreturn\u001b[39;00m \u001b[38;5;28mself\u001b[39m\u001b[38;5;241m.\u001b[39mfit(X, \u001b[38;5;241m*\u001b[39m\u001b[38;5;241m*\u001b[39mfit_params)\u001b[38;5;241m.\u001b[39mtransform(X)\n\u001b[1;32m   1099\u001b[0m \u001b[38;5;28;01melse\u001b[39;00m:\n\u001b[1;32m   1100\u001b[0m     \u001b[38;5;66;03m# fit method of arity 2 (supervised transformation)\u001b[39;00m\n\u001b[1;32m   1101\u001b[0m     \u001b[38;5;28;01mreturn\u001b[39;00m \u001b[38;5;28mself\u001b[39m\u001b[38;5;241m.\u001b[39mfit(X, y, \u001b[38;5;241m*\u001b[39m\u001b[38;5;241m*\u001b[39mfit_params)\u001b[38;5;241m.\u001b[39mtransform(X)\n",
      "File \u001b[0;32m~/miniconda3/envs/uti/lib/python3.12/site-packages/sklearn/utils/_set_output.py:313\u001b[0m, in \u001b[0;36m_wrap_method_output.<locals>.wrapped\u001b[0;34m(self, X, *args, **kwargs)\u001b[0m\n\u001b[1;32m    311\u001b[0m \u001b[38;5;129m@wraps\u001b[39m(f)\n\u001b[1;32m    312\u001b[0m \u001b[38;5;28;01mdef\u001b[39;00m \u001b[38;5;21mwrapped\u001b[39m(\u001b[38;5;28mself\u001b[39m, X, \u001b[38;5;241m*\u001b[39margs, \u001b[38;5;241m*\u001b[39m\u001b[38;5;241m*\u001b[39mkwargs):\n\u001b[0;32m--> 313\u001b[0m     data_to_wrap \u001b[38;5;241m=\u001b[39m f(\u001b[38;5;28mself\u001b[39m, X, \u001b[38;5;241m*\u001b[39margs, \u001b[38;5;241m*\u001b[39m\u001b[38;5;241m*\u001b[39mkwargs)\n\u001b[1;32m    314\u001b[0m     \u001b[38;5;28;01mif\u001b[39;00m \u001b[38;5;28misinstance\u001b[39m(data_to_wrap, \u001b[38;5;28mtuple\u001b[39m):\n\u001b[1;32m    315\u001b[0m         \u001b[38;5;66;03m# only wrap the first output for cross decomposition\u001b[39;00m\n\u001b[1;32m    316\u001b[0m         return_tuple \u001b[38;5;241m=\u001b[39m (\n\u001b[1;32m    317\u001b[0m             _wrap_data_with_container(method, data_to_wrap[\u001b[38;5;241m0\u001b[39m], X, \u001b[38;5;28mself\u001b[39m),\n\u001b[1;32m    318\u001b[0m             \u001b[38;5;241m*\u001b[39mdata_to_wrap[\u001b[38;5;241m1\u001b[39m:],\n\u001b[1;32m    319\u001b[0m         )\n",
      "File \u001b[0;32m~/miniconda3/envs/uti/lib/python3.12/site-packages/sklearn/impute/_knn.py:367\u001b[0m, in \u001b[0;36mKNNImputer.transform\u001b[0;34m(self, X)\u001b[0m\n\u001b[1;32m    358\u001b[0m \u001b[38;5;66;03m# process in fixed-memory chunks\u001b[39;00m\n\u001b[1;32m    359\u001b[0m gen \u001b[38;5;241m=\u001b[39m pairwise_distances_chunked(\n\u001b[1;32m    360\u001b[0m     X[row_missing_idx, :],\n\u001b[1;32m    361\u001b[0m     \u001b[38;5;28mself\u001b[39m\u001b[38;5;241m.\u001b[39m_fit_X,\n\u001b[0;32m   (...)\u001b[0m\n\u001b[1;32m    365\u001b[0m     reduce_func\u001b[38;5;241m=\u001b[39mprocess_chunk,\n\u001b[1;32m    366\u001b[0m )\n\u001b[0;32m--> 367\u001b[0m \u001b[38;5;28;01mfor\u001b[39;00m chunk \u001b[38;5;129;01min\u001b[39;00m gen:\n\u001b[1;32m    368\u001b[0m     \u001b[38;5;66;03m# process_chunk modifies X in place. No return value.\u001b[39;00m\n\u001b[1;32m    369\u001b[0m     \u001b[38;5;28;01mpass\u001b[39;00m\n\u001b[1;32m    371\u001b[0m \u001b[38;5;28;01mif\u001b[39;00m \u001b[38;5;28mself\u001b[39m\u001b[38;5;241m.\u001b[39mkeep_empty_features:\n",
      "File \u001b[0;32m~/miniconda3/envs/uti/lib/python3.12/site-packages/sklearn/metrics/pairwise.py:2181\u001b[0m, in \u001b[0;36mpairwise_distances_chunked\u001b[0;34m(X, Y, reduce_func, metric, n_jobs, working_memory, **kwds)\u001b[0m\n\u001b[1;32m   2179\u001b[0m \u001b[38;5;28;01mif\u001b[39;00m reduce_func \u001b[38;5;129;01mis\u001b[39;00m \u001b[38;5;129;01mnot\u001b[39;00m \u001b[38;5;28;01mNone\u001b[39;00m:\n\u001b[1;32m   2180\u001b[0m     chunk_size \u001b[38;5;241m=\u001b[39m D_chunk\u001b[38;5;241m.\u001b[39mshape[\u001b[38;5;241m0\u001b[39m]\n\u001b[0;32m-> 2181\u001b[0m     D_chunk \u001b[38;5;241m=\u001b[39m reduce_func(D_chunk, sl\u001b[38;5;241m.\u001b[39mstart)\n\u001b[1;32m   2182\u001b[0m     _check_chunk_size(D_chunk, chunk_size)\n\u001b[1;32m   2183\u001b[0m \u001b[38;5;28;01myield\u001b[39;00m D_chunk\n",
      "File \u001b[0;32m~/miniconda3/envs/uti/lib/python3.12/site-packages/sklearn/impute/_knn.py:330\u001b[0m, in \u001b[0;36mKNNImputer.transform.<locals>.process_chunk\u001b[0;34m(dist_chunk, start)\u001b[0m\n\u001b[1;32m    325\u001b[0m dist_subset \u001b[38;5;241m=\u001b[39m dist_chunk[dist_idx_map[receivers_idx] \u001b[38;5;241m-\u001b[39m start][\n\u001b[1;32m    326\u001b[0m     :, potential_donors_idx\n\u001b[1;32m    327\u001b[0m ]\n\u001b[1;32m    329\u001b[0m \u001b[38;5;66;03m# receivers with all nan distances impute with mean\u001b[39;00m\n\u001b[0;32m--> 330\u001b[0m all_nan_dist_mask \u001b[38;5;241m=\u001b[39m np\u001b[38;5;241m.\u001b[39misnan(dist_subset)\u001b[38;5;241m.\u001b[39mall(axis\u001b[38;5;241m=\u001b[39m\u001b[38;5;241m1\u001b[39m)\n\u001b[1;32m    331\u001b[0m all_nan_receivers_idx \u001b[38;5;241m=\u001b[39m receivers_idx[all_nan_dist_mask]\n\u001b[1;32m    333\u001b[0m \u001b[38;5;28;01mif\u001b[39;00m all_nan_receivers_idx\u001b[38;5;241m.\u001b[39msize:\n",
      "\u001b[0;31mKeyboardInterrupt\u001b[0m: "
     ]
    }
   ],
   "source": [
    "# Nome da coluna que não será imputada\n",
    "diagnostico = 'diagnostico'\n",
    "\n",
    "# Separar a coluna que não será imputada\n",
    "diagnostico_data = df_copia_knn[[diagnostico]]\n",
    "\n",
    "# Remover a coluna que não será imputada do DataFrame\n",
    "df_para_imputar = df_copia_knn.drop(columns=[diagnostico])\n",
    "\n",
    "# Convertendo todas as colunas para tipo float\n",
    "df_para_imputar = df_para_imputar.astype(float)\n",
    "\n",
    "# Criando um objeto KNNImputer\n",
    "knn_imputer = KNNImputer(n_neighbors=5)\n",
    "\n",
    "# Imputando os dados\n",
    "data_imputed_knn = knn_imputer.fit_transform(df_para_imputar)"
   ]
  },
  {
   "cell_type": "code",
   "execution_count": null,
   "metadata": {},
   "outputs": [],
   "source": [
    "# Transformando os dados imputados de volta em um DataFrame\n",
    "df_imputado = pd.DataFrame(data_imputed_knn, columns=df_para_imputar.columns)\n",
    "\n",
    "# Adicionando de volta a coluna que não foi imputada\n",
    "df_knn = pd.concat([df_imputado, diagnostico_data], axis=1)\n",
    "\n",
    "# Verificando o resultado final\n",
    "df_knn['diagnostico'] = df_knn['diagnostico'].fillna(0)\n",
    "\n",
    "# Verifica o número de colunas após a imputação\n",
    "num_cols_after = df_knn.shape[1]\n",
    "print(num_cols_after)\n",
    "\n",
    "df_knn.to_csv(\"df_knn.csv\", index=False)"
   ]
  },
  {
   "cell_type": "markdown",
   "metadata": {},
   "source": [
    "Mediana"
   ]
  },
  {
   "cell_type": "code",
   "execution_count": null,
   "metadata": {},
   "outputs": [],
   "source": [
    "from sklearn.impute import SimpleImputer\n",
    "\n",
    "df_copia_mediana = pd.read_csv('df_final.csv')\n",
    "\n",
    "#df_copia_mediana.replace([np.inf, -np.inf], np.nan, inplace=True)\n",
    "\n",
    "#max_value = np.finfo(np.float64).max\n",
    "#df_copia_mediana = df_copia_mediana.applymap(lambda x: max_value if x > max_value else x)\n",
    "\n",
    "imputer = SimpleImputer(strategy='median')\n",
    "df_mediana = imputer.fit_transform(df_copia_mediana)\n",
    "\n",
    "df_mediana = pd.DataFrame(df_mediana, columns=df_copia_mediana.columns)"
   ]
  },
  {
   "cell_type": "code",
   "execution_count": null,
   "metadata": {},
   "outputs": [],
   "source": [
    "df_mediana.to_csv(\"df_mediana.csv\", index=False)"
   ]
  },
  {
   "cell_type": "markdown",
   "metadata": {},
   "source": [
    "Moda"
   ]
  },
  {
   "cell_type": "code",
   "execution_count": null,
   "metadata": {},
   "outputs": [],
   "source": [
    "from sklearn.impute import SimpleImputer\n",
    "\n",
    "df_copia_moda = pd.read_csv('df_final.csv')\n",
    "\n",
    "#df_copia_moda.replace([np.inf, -np.inf], np.nan, inplace=True)\n",
    "\n",
    "#max_value = np.finfo(np.float64).max\n",
    "#df_copia_moda = df_copia_moda.applymap(lambda x: max_value if x > max_value else x)\n",
    "\n",
    "imputer = SimpleImputer(strategy='most_frequent') \n",
    "df_moda = imputer.fit_transform(df_copia_moda)\n",
    "\n",
    "df_moda = pd.DataFrame(df_moda, columns=df_copia_moda.columns)"
   ]
  },
  {
   "cell_type": "code",
   "execution_count": null,
   "metadata": {},
   "outputs": [],
   "source": [
    "df_moda.to_csv(\"df_moda.csv\", index=False)"
   ]
  },
  {
   "cell_type": "markdown",
   "metadata": {},
   "source": [
    "Regressão"
   ]
  },
  {
   "cell_type": "code",
   "execution_count": 14,
   "metadata": {},
   "outputs": [],
   "source": [
    "from sklearn.linear_model import LinearRegression\n",
    "from sklearn.experimental import enable_iterative_imputer  # Habilitar IterativeImputer\n",
    "from sklearn.impute import IterativeImputer\n",
    "\n",
    "# Carregar o DataFrame\n",
    "df_copia_regressao = pd.read_csv('df_final.csv')\n",
    "\n",
    "# Configurar o imputador\n",
    "imputer = IterativeImputer(estimator=LinearRegression(), max_iter=10, random_state=42)\n",
    "\n",
    "# Imputar os dados\n",
    "df_regressao = imputer.fit_transform(df_copia_regressao)\n",
    "\n",
    "# Criar um novo DataFrame com os dados imputados\n",
    "df_regressao = pd.DataFrame(df_regressao, columns=df_copia_regressao.columns)\n",
    "\n",
    "# Garantir que os valores imputados não excedam os limites mínimos e máximos de cada coluna\n",
    "min_values = df_copia_regressao.min()\n",
    "max_values = df_copia_regressao.max()\n",
    "df_regressao = df_regressao.clip(lower=min_values, upper=max_values, axis=1)\n",
    "\n",
    "# Se necessário, garantir que todos os valores sejam positivos\n",
    "df_regressao = df_regressao.clip(lower=0)"
   ]
  },
  {
   "cell_type": "code",
   "execution_count": 15,
   "metadata": {},
   "outputs": [],
   "source": [
    "df_regressao.to_csv(\"df_regressao.csv\", index=False)"
   ]
  }
 ],
 "metadata": {
  "kernelspec": {
   "display_name": "uti",
   "language": "python",
   "name": "python3"
  },
  "language_info": {
   "codemirror_mode": {
    "name": "ipython",
    "version": 3
   },
   "file_extension": ".py",
   "mimetype": "text/x-python",
   "name": "python",
   "nbconvert_exporter": "python",
   "pygments_lexer": "ipython3",
   "version": "3.12.4"
  }
 },
 "nbformat": 4,
 "nbformat_minor": 2
}
