{
 "cells": [
  {
   "cell_type": "code",
   "execution_count": 1,
   "metadata": {},
   "outputs": [],
   "source": [
    "import pandas as pd\n",
    "import matplotlib.pyplot as plt\n",
    "import seaborn as sns\n",
    "import numpy as np\n",
    "from IPython.display import display"
   ]
  },
  {
   "cell_type": "code",
   "execution_count": null,
   "metadata": {},
   "outputs": [],
   "source": [
    "df_final = pd.read_csv('df_final.csv')\n",
    "\n",
    "for column in df_final:\n",
    "    plt.figure()\n",
    "    df_final.boxplot([column])"
   ]
  },
  {
   "cell_type": "markdown",
   "metadata": {},
   "source": [
    "Media"
   ]
  },
  {
   "cell_type": "code",
   "execution_count": null,
   "metadata": {},
   "outputs": [],
   "source": [
    "from sklearn.impute import SimpleImputer\n",
    "\n",
    "df_copia_media = pd.read_csv('df_final.csv')\n",
    "\n",
    "imputer = SimpleImputer(strategy='mean')  # ou 'median', 'most_frequent'\n",
    "df_media = imputer.fit_transform(df_copia_media)\n",
    "\n",
    "df_media = pd.DataFrame(df_media, columns=df_copia_media.columns)"
   ]
  },
  {
   "cell_type": "code",
   "execution_count": null,
   "metadata": {},
   "outputs": [],
   "source": [
    "df_media.to_csv(\"df_media.csv\", index=False)"
   ]
  },
  {
   "cell_type": "markdown",
   "metadata": {},
   "source": [
    "Valor Normal"
   ]
  },
  {
   "cell_type": "code",
   "execution_count": null,
   "metadata": {},
   "outputs": [],
   "source": [
    "df_copia_normal = pd.read_csv('df_final.csv')\n",
    "\n",
    "age_n = df_copia_normal['age'].mean(axis=0)\n",
    "df_copia_normal['gender'] = df_copia_normal['gender'].fillna(0)\n",
    "df_copia_normal['age'] = df_copia_normal['age'].fillna(age_n)\n",
    "\n",
    "#Inflammation\n",
    "df_copia_normal['bands'] = df_copia_normal['bands'].fillna(250)\n",
    "df_copia_normal['CRP'] = df_copia_normal['CRP'].fillna(5)\n",
    "\n",
    "df_copia_normal['ESR'] = df_copia_normal['ESR'].fillna(10)\n",
    "df_copia_normal['temp'] = df_copia_normal['temp'].fillna(36.85)\n",
    "df_copia_normal['lactate'] = df_copia_normal['lactate'].fillna(1)\n",
    "df_copia_normal['WBC'] = df_copia_normal['WBC'].fillna(7500)\n",
    "df_copia_normal['lymphs'] = df_copia_normal['lymphs'].fillna(2000)\n",
    "\n",
    "#Pulmonary\n",
    "df_copia_normal['resp'] = df_copia_normal['resp'].fillna(16)\n",
    "df_copia_normal['spo2/fio2'] = df_copia_normal['spo2/fio2'].fillna(450)\n",
    "df_copia_normal['pao2/fio2'] = df_copia_normal['pao2/fio2'].fillna(600)\n",
    "\n",
    "#Cardiovascular\n",
    "df_copia_normal['bicarbonate'] = df_copia_normal['bicarbonate'].fillna(23)\n",
    "df_copia_normal['heartRate'] = df_copia_normal['heartRate'].fillna(75)\n",
    "df_copia_normal['troponin'] = df_copia_normal['troponin'].fillna(115)\n",
    "df_copia_normal['systolic'] = df_copia_normal['systolic'].fillna(0.01)\n",
    "df_copia_normal['diastolic'] = df_copia_normal['diastolic'].fillna(62.5)\n",
    "df_copia_normal['MAP'] = df_copia_normal['MAP'].fillna(85)\n",
    "\n",
    "#Renal\n",
    "df_copia_normal['bloodUreaNitrogen'] = df_copia_normal['bloodUreaNitrogen'].fillna(10)\n",
    "\n",
    "#Hepatic\n",
    "df_copia_normal['alanine'] = df_copia_normal['alanine'].fillna(24)\n",
    "df_copia_normal['aspartate'] = df_copia_normal['aspartate'].fillna(22.5)\n",
    "df_copia_normal['bilirubin'] = df_copia_normal['bilirubin'].fillna(0.6)\n",
    "\n",
    "#Hematologic\n",
    "df_copia_normal['hemoglobin'] = df_copia_normal['hemoglobin'].fillna(18)\n",
    "df_copia_normal['iqr'] = df_copia_normal['iqr'].fillna(0.6)\n",
    "df_copia_normal['platelets'] = df_copia_normal['platelets'].fillna(275)\n",
    "df_copia_normal['PTT'] = df_copia_normal['PTT'].fillna(0.8)\n",
    "df_copia_normal['fibrinogen'] = df_copia_normal['fibrinogen'].fillna(300)\n",
    "\n",
    "#Bioquimica\n",
    "df_copia_normal['albumin'] = df_copia_normal['albumin'].fillna(4.35)\n",
    "df_copia_normal['chloride'] = df_copia_normal['chloride'].fillna(102.5)\n",
    "df_copia_normal['glucose'] = df_copia_normal['glucose'].fillna(125)\n",
    "df_copia_normal['sodium'] = df_copia_normal['sodium'].fillna(140)\n",
    "df_copia_normal['gcs'] = df_copia_normal['gcs'].fillna(15)\n",
    "df_copia_normal['potassium'] = df_copia_normal['potassium'].fillna(4.5)\n",
    "df_copia_normal['calcium'] = df_copia_normal['calcium'].fillna(9.6)\n",
    "df_copia_normal['phosphate'] = df_copia_normal['phosphate'].fillna(3.5)\n",
    "df_copia_normal['magnesium'] = df_copia_normal['magnesium'].fillna(2.1)\n",
    "\n",
    "\n",
    "#Diagnostico\n",
    "df_copia_normal['diagnostico'] = df_copia_normal['diagnostico'].fillna(0)\n"
   ]
  },
  {
   "cell_type": "code",
   "execution_count": null,
   "metadata": {},
   "outputs": [],
   "source": [
    "df_copia_normal.to_csv(\"df_normal.csv\", index=False)"
   ]
  },
  {
   "cell_type": "markdown",
   "metadata": {},
   "source": [
    "Knn"
   ]
  },
  {
   "cell_type": "code",
   "execution_count": null,
   "metadata": {},
   "outputs": [],
   "source": [
    "from sklearn.impute import KNNImputer\n",
    "\n",
    "df_copia_knn = pd.read_csv('df_final.csv')\n",
    "num_cols_before = df_copia_knn.shape[1]\n",
    "print (num_cols_before)"
   ]
  },
  {
   "cell_type": "code",
   "execution_count": null,
   "metadata": {},
   "outputs": [],
   "source": [
    "cols_all_nan = df_copia_knn.columns[df_copia_knn.isnull().all()]\n",
    "print (cols_all_nan)"
   ]
  },
  {
   "cell_type": "code",
   "execution_count": null,
   "metadata": {},
   "outputs": [],
   "source": [
    "# Nome da coluna que não será imputada\n",
    "diagnostico = 'diagnostico'\n",
    "\n",
    "# Separar a coluna que não será imputada\n",
    "diagnostico_data = df_copia_knn[[diagnostico]]\n",
    "\n",
    "# Remover a coluna que não será imputada do DataFrame\n",
    "df_para_imputar = df_copia_knn.drop(columns=[diagnostico])\n",
    "\n",
    "# Convertendo todas as colunas para tipo float\n",
    "df_para_imputar = df_para_imputar.astype(float)\n",
    "\n",
    "# Dividir o dataset em partes (opcional, se o dataset for muito grande)\n",
    "# Chunk size (ajustar conforme necessário)\n",
    "chunk_size = 10000\n",
    "chunks = [df_para_imputar[i:i + chunk_size] for i in range(0, df_para_imputar.shape[0], chunk_size)]\n",
    "\n",
    "# Criando um objeto KNNImputer\n",
    "knn_imputer = KNNImputer(n_neighbors=5, weights='uniform')\n",
    "\n",
    "# Imputando os dados\n",
    "data_imputed_knn_list = []\n",
    "for chunk in chunks:\n",
    "    data_imputed_chunk = knn_imputer.fit_transform(chunk)\n",
    "    data_imputed_knn_list.append(pd.DataFrame(data_imputed_chunk, columns=chunk.columns))"
   ]
  },
  {
   "cell_type": "code",
   "execution_count": null,
   "metadata": {},
   "outputs": [],
   "source": [
    "# Concatenar os chunks imputados\n",
    "data_imputed_knn = pd.concat(data_imputed_knn_list, ignore_index=True)\n",
    "\n",
    "# Transformando os dados imputados de volta em um DataFrame\n",
    "df_imputado = pd.DataFrame(data_imputed_knn, columns=df_para_imputar.columns)\n",
    "\n",
    "# Adicionando de volta a coluna que não foi imputada\n",
    "df_knn = pd.concat([df_imputado, diagnostico_data], axis=1)\n",
    "\n",
    "# Verificando e preenchendo a coluna 'diagnostico' (se necessário)\n",
    "df_knn['diagnostico'] = df_knn['diagnostico'].fillna(0)"
   ]
  },
  {
   "cell_type": "code",
   "execution_count": null,
   "metadata": {},
   "outputs": [],
   "source": [
    "# Salvar o DataFrame imputado em um novo arquivo CSV\n",
    "df_knn.to_csv(\"df_knn.csv\", index=False)"
   ]
  },
  {
   "cell_type": "markdown",
   "metadata": {},
   "source": [
    "Mediana"
   ]
  },
  {
   "cell_type": "code",
   "execution_count": null,
   "metadata": {},
   "outputs": [],
   "source": [
    "from sklearn.impute import SimpleImputer\n",
    "\n",
    "df_copia_mediana = pd.read_csv('df_final.csv')\n",
    "\n",
    "#df_copia_mediana.replace([np.inf, -np.inf], np.nan, inplace=True)\n",
    "\n",
    "#max_value = np.finfo(np.float64).max\n",
    "#df_copia_mediana = df_copia_mediana.applymap(lambda x: max_value if x > max_value else x)\n",
    "\n",
    "imputer = SimpleImputer(strategy='median')\n",
    "df_mediana = imputer.fit_transform(df_copia_mediana)\n",
    "\n",
    "df_mediana = pd.DataFrame(df_mediana, columns=df_copia_mediana.columns)"
   ]
  },
  {
   "cell_type": "code",
   "execution_count": null,
   "metadata": {},
   "outputs": [],
   "source": [
    "df_mediana.to_csv(\"df_mediana.csv\", index=False)"
   ]
  },
  {
   "cell_type": "markdown",
   "metadata": {},
   "source": [
    "Moda"
   ]
  },
  {
   "cell_type": "code",
   "execution_count": null,
   "metadata": {},
   "outputs": [],
   "source": [
    "from sklearn.impute import SimpleImputer\n",
    "\n",
    "df_copia_moda = pd.read_csv('df_final.csv')\n",
    "\n",
    "#df_copia_moda.replace([np.inf, -np.inf], np.nan, inplace=True)\n",
    "\n",
    "#max_value = np.finfo(np.float64).max\n",
    "#df_copia_moda = df_copia_moda.applymap(lambda x: max_value if x > max_value else x)\n",
    "\n",
    "imputer = SimpleImputer(strategy='most_frequent') \n",
    "df_moda = imputer.fit_transform(df_copia_moda)\n",
    "\n",
    "df_moda = pd.DataFrame(df_moda, columns=df_copia_moda.columns)"
   ]
  },
  {
   "cell_type": "code",
   "execution_count": null,
   "metadata": {},
   "outputs": [],
   "source": [
    "df_moda.to_csv(\"df_moda.csv\", index=False)"
   ]
  },
  {
   "cell_type": "markdown",
   "metadata": {},
   "source": [
    "Regressão"
   ]
  },
  {
   "cell_type": "code",
<<<<<<< HEAD
   "execution_count": 56,
=======
   "execution_count": 3,
>>>>>>> origin/main
   "metadata": {},
   "outputs": [],
   "source": [
    "import pandas as pd\n",
    "from sklearn.linear_model import LinearRegression\n",
    "from sklearn.impute import IterativeImputer\n",
    "\n",
<<<<<<< HEAD
    "# Carregar o DataFrame\n",
    "df_copia_regressao = pd.read_csv('df_final.csv')\n",
=======
    "df_copia_regressao = pd.read_csv('df_final.csv')\n",
    "\n",
    "#df_copia_regressao.replace([np.inf, -np.inf], np.nan, inplace=True)\n",
    "#max_value = np.finfo(np.float64).max\n",
    "#df_copia_regressao = df_copia_regressao.applymap(lambda x: max_value if x > max_value else x)\n",
>>>>>>> origin/main
    "\n",
    "# Configurar o imputador\n",
    "imputer = IterativeImputer(estimator=LinearRegression(), max_iter=10, random_state=42)\n",
    "\n",
    "# Imputar os dados\n",
    "df_regressao = imputer.fit_transform(df_copia_regressao)\n",
    "\n",
    "# Criar um novo DataFrame com os dados imputados\n",
    "df_regressao = pd.DataFrame(df_regressao, columns=df_copia_regressao.columns)\n",
    "\n",
    "# Garantir que os valores imputados não excedam os limites mínimos e máximos de cada coluna\n",
    "min_values = df_copia_regressao.min()\n",
    "max_values = df_copia_regressao.max()\n",
    "df_regressao = df_regressao.clip(lower=min_values, upper=max_values, axis=1)\n",
    "\n",
    "# Se necessário, garantir que todos os valores sejam positivos\n",
    "df_regressao = df_regressao.clip(lower=0)\n"
   ]
  },
  {
   "cell_type": "code",
   "execution_count": 4,
   "metadata": {},
   "outputs": [],
   "source": [
    "for column in df_regressao:\n",
    "    plt.figure()\n",
    "    df_regressao.boxplot([column])"
   ]
  },
  {
   "cell_type": "code",
   "execution_count": 57,
   "metadata": {},
   "outputs": [],
   "source": [
    "df_regressao.to_csv(\"df_regressao.csv\", index=False)"
   ]
  }
 ],
 "metadata": {
  "kernelspec": {
   "display_name": "uti",
   "language": "python",
   "name": "python3"
  },
  "language_info": {
   "codemirror_mode": {
    "name": "ipython",
    "version": 3
   },
   "file_extension": ".py",
   "mimetype": "text/x-python",
   "name": "python",
   "nbconvert_exporter": "python",
   "pygments_lexer": "ipython3",
<<<<<<< HEAD
   "version": "3.10.12"
=======
   "version": "3.12.4"
>>>>>>> origin/main
  }
 },
 "nbformat": 4,
 "nbformat_minor": 2
}
