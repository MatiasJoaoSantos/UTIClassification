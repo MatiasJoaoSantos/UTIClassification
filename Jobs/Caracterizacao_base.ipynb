{
 "cells": [
  {
   "cell_type": "code",
   "execution_count": 1,
   "metadata": {},
   "outputs": [],
   "source": [
    "import pandas as pd\n",
    "import matplotlib.pyplot as plt\n",
    "import seaborn as sns\n",
    "import numpy as np\n",
    "from IPython.display import display\n",
    "import os"
   ]
  },
  {
   "cell_type": "code",
   "execution_count": 2,
   "metadata": {},
   "outputs": [],
   "source": [
    "faixas_tempo = [-5000, -1440, 0, 720, 1440, 2880, 4320, 5760, 7200]  # Exemplos de intervalos de tempo em horas\n",
    "time_labels = ['<-24h', '-24-0h', '0-12h', '12-24h', '24-48h', '48-72h', '72-96h', '>96h']  # Rótulos para cada intervalo\n"
   ]
  },
  {
   "cell_type": "code",
   "execution_count": null,
   "metadata": {},
   "outputs": [],
   "source": [
    "df_vars = pd.read_csv(\"TabelaVars.csv\")\n",
    "\n",
    "tables = df_vars['table'].unique()\n",
    "\n",
    "for table in tables:\n",
    "  df = pd.read_csv(table + \".csv\")\n",
    "  df_filtered = df_vars[df_vars['table'] == table]\n",
    "\n",
    "  totalpatients = df['patientunitstayid'].nunique()\n",
    "\n",
    "  for index, row in df_filtered.iterrows():\n",
    "    var_procurada = row['var']\n",
    "    column_time = row['col_time']\n",
    "    column_var_name = row['col_var']\n",
    "\n",
    "    df_filtrado = df[df[column_var_name].str.contains(var_procurada)].copy()\n",
    "    df_time = df_filtrado[['patientunitstayid', column_time]].copy()\n",
    "\n",
    "    numPatientSpec = df_filtrado['patientunitstayid'].nunique()\n",
    "\n",
    "    counting = df_filtrado['patientunitstayid'].value_counts()\n",
    "\n",
    "    cincMostFreq = counting.value_counts().sort_values(ascending=False).head(5)\n",
    "    sum = cincMostFreq.sum()\n",
    "    percentModal = round(((sum/numPatientSpec) * 100), 2)\n",
    "\n",
    "    df_time = df_time.sort_values(by=['patientunitstayid', column_time])\n",
    "    df_time['previous'] = df_time.groupby('patientunitstayid')[column_time].shift(1)\n",
    "    df_time['timedif'] = df_time[row['col_time']] - df_time['previous']\n",
    "\n",
    "    valid_dif = df_time['timedif'].dropna()\n",
    "    timemean = valid_dif.mean()\n",
    "\n",
    "    maiorfreq = cincMostFreq.iloc[0]\n",
    "\n",
    "    df_vars.at[index, 'totalpatients'] = round(totalpatients, 2)\n",
    "    df_vars.at[index, 'totalexampatients'] = round(numPatientSpec, 2)\n",
    "    df_vars.at[index, '%exampatients'] = round(((numPatientSpec/totalpatients)*100), 2)\n",
    "    df_vars.at[index, 'modal_colect'] = round(sum, 2)\n",
    "    df_vars.at[index, 'percent_modal'] = round(percentModal, 2)\n",
    "    df_vars.at[index, 'mean_time'] = round(timemean, 2)\n",
    "\n",
    "    df_filtrado['faixas'] = pd.cut(df_filtrado[column_time], bins=faixas_tempo, labels=time_labels, right=False)\n",
    "\n",
    "    contagem_faixas = df_filtrado['faixas'].value_counts().sort_index()\n",
    "    cores = plt.cm.viridis(np.linspace(0, 1, len(contagem_faixas)))\n",
    "\n",
    "    plt.figure(figsize=(10, 6))\n",
    "    plt.bar(contagem_faixas.index, contagem_faixas.values, color= cores)\n",
    "\n",
    "    for i, valor in enumerate(contagem_faixas):se\n",
    "    plt.xticks(rotation=45, ha='right')\n",
    "\n",
    "    plt.xlabel('Tempo')\n",
    "    plt.ylabel('Número de Pacientes')\n",
    "    plt.title(f'Distribuição de Pacientes por Faixas para {var_procurada}')\n",
    "\n",
    "    file_path = os.path.join('graficos', f'distribuicao_pacientes_{var_procurada}.png')\n",
    "    plt.savefig(file_path)\n",
    "    \n",
    "    plt.show()\n",
    "    \n",
    "\n",
    "df_vars.to_csv(\"TabelaVars.csv\", index=False)\n",
    "\n"
   ]
  },
  {
   "cell_type": "code",
   "execution_count": null,
   "metadata": {},
   "outputs": [],
   "source": [
    "df_diagnosis = pd.read_csv(\"diagnosis.csv\")\n",
    "column_time = 'diagnosisoffset'\n",
    "\n",
    "counting = df_diagnosis['patientunitstayid'].value_counts()\n",
    "cincMostFreq = counting.value_counts().sort_values(ascending=False).head(5)\n",
    "\n",
    "plt.figure(figsize=(12, 6))\n",
    "cincMostFreq.plot(kind='bar', color='skyblue')\n",
    "plt.title(var_procurada)\n",
    "plt.xlabel('vezes coletadas')\n",
    "plt.ylabel('numero de pacientes')\n",
    "plt.xticks(rotation=45)\n",
    "plt.grid(axis='y', linestyle='--', alpha=0.7)\n",
    "\n",
    "for i, val in enumerate(cincMostFreq.values):\n",
    "    plt.text(i, val + 0.05 * val, f'{val}', ha='center', va='bottom')\n"
   ]
  },
  {
   "cell_type": "code",
   "execution_count": null,
   "metadata": {},
   "outputs": [],
   "source": [
    "df_vars = pd.read_csv(\"TabelaVars.csv\")\n",
    "\n",
    "tables = df_vars['table'].unique()\n",
    "\n",
    "for table in tables:\n",
    "  df = pd.read_csv(table + \".csv\")\n",
    "  df_filtered = df_vars[df_vars['table'] == table]\n",
    "\n",
    "  totalpatients = df['patientunitstayid'].nunique()\n",
    "\n",
    "  for index, row in df_filtered.iterrows():\n",
    "    var_procurada = row['var']\n",
    "    column_time = row['col_time']\n",
    "    column_var_name = row['col_var']\n",
    "\n",
    "    df_filtrado = df[df[column_var_name].str.contains(var_procurada)].copy()\n",
    "\n",
    "    counting = df_filtrado['patientunitstayid'].value_counts()\n",
    "\n",
    "    cincMostFreq = counting.value_counts().sort_values(ascending=False).head(5)\n",
    "\n",
    "\n",
    "    # Plotar o histograma\n",
    "    plt.figure(figsize=(8, 6))\n",
    "    cincMostFreq.plot(kind='bar', color='skyblue')\n",
    "    plt.title(var_procurada)\n",
    "    plt.xlabel('vezes coletadas')\n",
    "    plt.ylabel('numero de pacientes')\n",
    "    plt.xticks(rotation=45)\n",
    "    plt.grid(axis='y', linestyle='--', alpha=0.7)\n",
    "\n",
    "    maiorfreq = cincMostFreq.iloc[0]\n",
    "\n",
    "    plt.text(3.6, maiorfreq - 0*(maiorfreq/20), f\"a: {df_vars.at[index, 'totalpatients']}\", fontsize=12, color='black')\n",
    "    plt.text(3.6, maiorfreq - 1*(maiorfreq/20), f\"b: {df_vars.at[index, 'totalexampatients']}\", fontsize=12, color='black')\n",
    "    plt.text(3.6, maiorfreq - 2*(maiorfreq/20), f\"c: {df_vars.at[index, '%exampatients']}\", fontsize=12, color='black')\n",
    "    plt.text(3.6, maiorfreq - 3*(maiorfreq/20), f\"d: {df_vars.at[index, 'modal_colect']}\", fontsize=12, color='black')\n",
    "    plt.text(3.6, maiorfreq - 4*(maiorfreq/20), f\"e: {df_vars.at[index, 'percent_modal']}\", fontsize=12, color='black')\n",
    "    plt.text(3.6, maiorfreq - 5*(maiorfreq/20), f\"f: {df_vars.at[index, 'mean_time']}\", fontsize=12, color='black')\n",
    "\n",
    "    file_path = os.path.join('graficos', f'frequencias_{var_procurada}.png')\n",
    "    plt.savefig(file_path)\n",
    "\n",
    "    plt.show()\n",
    "\n",
    "    "
   ]
  },
  {
   "cell_type": "code",
   "execution_count": 3,
   "metadata": {},
   "outputs": [
    {
     "ename": "ConversionError",
     "evalue": "Failed to convert value(s) to axis units: array(['fibrinogen', 'PT - INR', 'magnesium', ..., '-monos', 'WBC x 1000',\n       'MCH'], dtype=object)",
     "output_type": "error",
     "traceback": [
      "\u001b[0;31m---------------------------------------------------------------------------\u001b[0m",
      "\u001b[0;31mValueError\u001b[0m                                Traceback (most recent call last)",
      "File \u001b[0;32m/home/phocus4/anaconda3/lib/python3.11/site-packages/matplotlib/axis.py:1523\u001b[0m, in \u001b[0;36mAxis.convert_units\u001b[0;34m(self, x)\u001b[0m\n\u001b[1;32m   1522\u001b[0m \u001b[39mtry\u001b[39;00m:\n\u001b[0;32m-> 1523\u001b[0m     ret \u001b[39m=\u001b[39m \u001b[39mself\u001b[39m\u001b[39m.\u001b[39mconverter\u001b[39m.\u001b[39mconvert(x, \u001b[39mself\u001b[39m\u001b[39m.\u001b[39munits, \u001b[39mself\u001b[39m)\n\u001b[1;32m   1524\u001b[0m \u001b[39mexcept\u001b[39;00m \u001b[39mException\u001b[39;00m \u001b[39mas\u001b[39;00m e:\n",
      "File \u001b[0;32m/home/phocus4/anaconda3/lib/python3.11/site-packages/matplotlib/category.py:49\u001b[0m, in \u001b[0;36mStrCategoryConverter.convert\u001b[0;34m(value, unit, axis)\u001b[0m\n\u001b[1;32m     48\u001b[0m \u001b[39mif\u001b[39;00m unit \u001b[39mis\u001b[39;00m \u001b[39mNone\u001b[39;00m:\n\u001b[0;32m---> 49\u001b[0m     \u001b[39mraise\u001b[39;00m \u001b[39mValueError\u001b[39;00m(\n\u001b[1;32m     50\u001b[0m         \u001b[39m'\u001b[39m\u001b[39mMissing category information for StrCategoryConverter; \u001b[39m\u001b[39m'\u001b[39m\n\u001b[1;32m     51\u001b[0m         \u001b[39m'\u001b[39m\u001b[39mthis might be caused by unintendedly mixing categorical and \u001b[39m\u001b[39m'\u001b[39m\n\u001b[1;32m     52\u001b[0m         \u001b[39m'\u001b[39m\u001b[39mnumeric data\u001b[39m\u001b[39m'\u001b[39m)\n\u001b[1;32m     53\u001b[0m \u001b[39m# dtype = object preserves numerical pass throughs\u001b[39;00m\n",
      "\u001b[0;31mValueError\u001b[0m: Missing category information for StrCategoryConverter; this might be caused by unintendedly mixing categorical and numeric data",
      "\nThe above exception was the direct cause of the following exception:\n",
      "\u001b[0;31mConversionError\u001b[0m                           Traceback (most recent call last)",
      "\u001b[1;32m/home_cerberus/speed/haniel.botelho/uploads/Downloads/physionet.org/files/eicu-crd/2.0/Caracterizacao_base.ipynb Célula 5\u001b[0m line \u001b[0;36m1\n\u001b[1;32m     <a href='vscode-notebook-cell://ssh-remote%2Bphocus4/home_cerberus/speed/haniel.botelho/uploads/Downloads/physionet.org/files/eicu-crd/2.0/Caracterizacao_base.ipynb#X10sdnNjb2RlLXJlbW90ZQ%3D%3D?line=13'>14</a>\u001b[0m column_var_name \u001b[39m=\u001b[39m row[\u001b[39m'\u001b[39m\u001b[39mcol_var\u001b[39m\u001b[39m'\u001b[39m]\n\u001b[1;32m     <a href='vscode-notebook-cell://ssh-remote%2Bphocus4/home_cerberus/speed/haniel.botelho/uploads/Downloads/physionet.org/files/eicu-crd/2.0/Caracterizacao_base.ipynb#X10sdnNjb2RlLXJlbW90ZQ%3D%3D?line=15'>16</a>\u001b[0m df_filtrado \u001b[39m=\u001b[39m df[df[column_var_name]\u001b[39m.\u001b[39mstr\u001b[39m.\u001b[39mcontains(var_procurada)]\u001b[39m.\u001b[39mcopy()\n\u001b[0;32m---> <a href='vscode-notebook-cell://ssh-remote%2Bphocus4/home_cerberus/speed/haniel.botelho/uploads/Downloads/physionet.org/files/eicu-crd/2.0/Caracterizacao_base.ipynb#X10sdnNjb2RlLXJlbW90ZQ%3D%3D?line=17'>18</a>\u001b[0m plt\u001b[39m.\u001b[39mhist(df, edgecolor\u001b[39m=\u001b[39m\u001b[39m'\u001b[39m\u001b[39mk\u001b[39m\u001b[39m'\u001b[39m, bins\u001b[39m=\u001b[39m\u001b[39m20\u001b[39m)\n\u001b[1;32m     <a href='vscode-notebook-cell://ssh-remote%2Bphocus4/home_cerberus/speed/haniel.botelho/uploads/Downloads/physionet.org/files/eicu-crd/2.0/Caracterizacao_base.ipynb#X10sdnNjb2RlLXJlbW90ZQ%3D%3D?line=18'>19</a>\u001b[0m counts, bins, _ \u001b[39m=\u001b[39m plt\u001b[39m.\u001b[39mhist(df_filtrado[column_var_name], edgecolor\u001b[39m=\u001b[39m\u001b[39m'\u001b[39m\u001b[39mk\u001b[39m\u001b[39m'\u001b[39m, bins\u001b[39m=\u001b[39m\u001b[39m20\u001b[39m)\n\u001b[1;32m     <a href='vscode-notebook-cell://ssh-remote%2Bphocus4/home_cerberus/speed/haniel.botelho/uploads/Downloads/physionet.org/files/eicu-crd/2.0/Caracterizacao_base.ipynb#X10sdnNjb2RlLXJlbW90ZQ%3D%3D?line=19'>20</a>\u001b[0m \u001b[39mfor\u001b[39;00m i, freq \u001b[39min\u001b[39;00m \u001b[39menumerate\u001b[39m(counts):\n",
      "File \u001b[0;32m/home/phocus4/anaconda3/lib/python3.11/site-packages/matplotlib/pyplot.py:2685\u001b[0m, in \u001b[0;36mhist\u001b[0;34m(x, bins, range, density, weights, cumulative, bottom, histtype, align, orientation, rwidth, log, color, label, stacked, data, **kwargs)\u001b[0m\n\u001b[1;32m   2679\u001b[0m \u001b[39m@_copy_docstring_and_deprecators\u001b[39m(Axes\u001b[39m.\u001b[39mhist)\n\u001b[1;32m   2680\u001b[0m \u001b[39mdef\u001b[39;00m \u001b[39mhist\u001b[39m(\n\u001b[1;32m   2681\u001b[0m         x, bins\u001b[39m=\u001b[39m\u001b[39mNone\u001b[39;00m, \u001b[39mrange\u001b[39m\u001b[39m=\u001b[39m\u001b[39mNone\u001b[39;00m, density\u001b[39m=\u001b[39m\u001b[39mFalse\u001b[39;00m, weights\u001b[39m=\u001b[39m\u001b[39mNone\u001b[39;00m,\n\u001b[1;32m   2682\u001b[0m         cumulative\u001b[39m=\u001b[39m\u001b[39mFalse\u001b[39;00m, bottom\u001b[39m=\u001b[39m\u001b[39mNone\u001b[39;00m, histtype\u001b[39m=\u001b[39m\u001b[39m'\u001b[39m\u001b[39mbar\u001b[39m\u001b[39m'\u001b[39m, align\u001b[39m=\u001b[39m\u001b[39m'\u001b[39m\u001b[39mmid\u001b[39m\u001b[39m'\u001b[39m,\n\u001b[1;32m   2683\u001b[0m         orientation\u001b[39m=\u001b[39m\u001b[39m'\u001b[39m\u001b[39mvertical\u001b[39m\u001b[39m'\u001b[39m, rwidth\u001b[39m=\u001b[39m\u001b[39mNone\u001b[39;00m, log\u001b[39m=\u001b[39m\u001b[39mFalse\u001b[39;00m, color\u001b[39m=\u001b[39m\u001b[39mNone\u001b[39;00m,\n\u001b[1;32m   2684\u001b[0m         label\u001b[39m=\u001b[39m\u001b[39mNone\u001b[39;00m, stacked\u001b[39m=\u001b[39m\u001b[39mFalse\u001b[39;00m, \u001b[39m*\u001b[39m, data\u001b[39m=\u001b[39m\u001b[39mNone\u001b[39;00m, \u001b[39m*\u001b[39m\u001b[39m*\u001b[39mkwargs):\n\u001b[0;32m-> 2685\u001b[0m     \u001b[39mreturn\u001b[39;00m gca()\u001b[39m.\u001b[39mhist(\n\u001b[1;32m   2686\u001b[0m         x, bins\u001b[39m=\u001b[39mbins, \u001b[39mrange\u001b[39m\u001b[39m=\u001b[39m\u001b[39mrange\u001b[39m, density\u001b[39m=\u001b[39mdensity, weights\u001b[39m=\u001b[39mweights,\n\u001b[1;32m   2687\u001b[0m         cumulative\u001b[39m=\u001b[39mcumulative, bottom\u001b[39m=\u001b[39mbottom, histtype\u001b[39m=\u001b[39mhisttype,\n\u001b[1;32m   2688\u001b[0m         align\u001b[39m=\u001b[39malign, orientation\u001b[39m=\u001b[39morientation, rwidth\u001b[39m=\u001b[39mrwidth, log\u001b[39m=\u001b[39mlog,\n\u001b[1;32m   2689\u001b[0m         color\u001b[39m=\u001b[39mcolor, label\u001b[39m=\u001b[39mlabel, stacked\u001b[39m=\u001b[39mstacked,\n\u001b[1;32m   2690\u001b[0m         \u001b[39m*\u001b[39m\u001b[39m*\u001b[39m({\u001b[39m\"\u001b[39m\u001b[39mdata\u001b[39m\u001b[39m\"\u001b[39m: data} \u001b[39mif\u001b[39;00m data \u001b[39mis\u001b[39;00m \u001b[39mnot\u001b[39;00m \u001b[39mNone\u001b[39;00m \u001b[39melse\u001b[39;00m {}), \u001b[39m*\u001b[39m\u001b[39m*\u001b[39mkwargs)\n",
      "File \u001b[0;32m/home/phocus4/anaconda3/lib/python3.11/site-packages/matplotlib/__init__.py:1447\u001b[0m, in \u001b[0;36m_preprocess_data.<locals>.inner\u001b[0;34m(ax, data, *args, **kwargs)\u001b[0m\n\u001b[1;32m   1444\u001b[0m \u001b[39m@functools\u001b[39m\u001b[39m.\u001b[39mwraps(func)\n\u001b[1;32m   1445\u001b[0m \u001b[39mdef\u001b[39;00m \u001b[39minner\u001b[39m(ax, \u001b[39m*\u001b[39margs, data\u001b[39m=\u001b[39m\u001b[39mNone\u001b[39;00m, \u001b[39m*\u001b[39m\u001b[39m*\u001b[39mkwargs):\n\u001b[1;32m   1446\u001b[0m     \u001b[39mif\u001b[39;00m data \u001b[39mis\u001b[39;00m \u001b[39mNone\u001b[39;00m:\n\u001b[0;32m-> 1447\u001b[0m         \u001b[39mreturn\u001b[39;00m func(ax, \u001b[39m*\u001b[39m\u001b[39mmap\u001b[39m(sanitize_sequence, args), \u001b[39m*\u001b[39m\u001b[39m*\u001b[39mkwargs)\n\u001b[1;32m   1449\u001b[0m     bound \u001b[39m=\u001b[39m new_sig\u001b[39m.\u001b[39mbind(ax, \u001b[39m*\u001b[39margs, \u001b[39m*\u001b[39m\u001b[39m*\u001b[39mkwargs)\n\u001b[1;32m   1450\u001b[0m     auto_label \u001b[39m=\u001b[39m (bound\u001b[39m.\u001b[39marguments\u001b[39m.\u001b[39mget(label_namer)\n\u001b[1;32m   1451\u001b[0m                   \u001b[39mor\u001b[39;00m bound\u001b[39m.\u001b[39mkwargs\u001b[39m.\u001b[39mget(label_namer))\n",
      "File \u001b[0;32m/home/phocus4/anaconda3/lib/python3.11/site-packages/matplotlib/axes/_axes.py:6577\u001b[0m, in \u001b[0;36mAxes.hist\u001b[0;34m(self, x, bins, range, density, weights, cumulative, bottom, histtype, align, orientation, rwidth, log, color, label, stacked, **kwargs)\u001b[0m\n\u001b[1;32m   6574\u001b[0m \u001b[39m# Process unit information\u001b[39;00m\n\u001b[1;32m   6575\u001b[0m \u001b[39m# Unit conversion is done individually on each dataset\u001b[39;00m\n\u001b[1;32m   6576\u001b[0m \u001b[39mself\u001b[39m\u001b[39m.\u001b[39m_process_unit_info(xdata\u001b[39m=\u001b[39mx[\u001b[39m0\u001b[39m], kwargs\u001b[39m=\u001b[39mkwargs)\n\u001b[0;32m-> 6577\u001b[0m x \u001b[39m=\u001b[39m [\u001b[39mself\u001b[39m\u001b[39m.\u001b[39mconvert_xunits(xi) \u001b[39mfor\u001b[39;00m xi \u001b[39min\u001b[39;00m x]\n\u001b[1;32m   6579\u001b[0m \u001b[39mif\u001b[39;00m bin_range \u001b[39mis\u001b[39;00m \u001b[39mnot\u001b[39;00m \u001b[39mNone\u001b[39;00m:\n\u001b[1;32m   6580\u001b[0m     bin_range \u001b[39m=\u001b[39m \u001b[39mself\u001b[39m\u001b[39m.\u001b[39mconvert_xunits(bin_range)\n",
      "File \u001b[0;32m/home/phocus4/anaconda3/lib/python3.11/site-packages/matplotlib/axes/_axes.py:6577\u001b[0m, in \u001b[0;36m<listcomp>\u001b[0;34m(.0)\u001b[0m\n\u001b[1;32m   6574\u001b[0m \u001b[39m# Process unit information\u001b[39;00m\n\u001b[1;32m   6575\u001b[0m \u001b[39m# Unit conversion is done individually on each dataset\u001b[39;00m\n\u001b[1;32m   6576\u001b[0m \u001b[39mself\u001b[39m\u001b[39m.\u001b[39m_process_unit_info(xdata\u001b[39m=\u001b[39mx[\u001b[39m0\u001b[39m], kwargs\u001b[39m=\u001b[39mkwargs)\n\u001b[0;32m-> 6577\u001b[0m x \u001b[39m=\u001b[39m [\u001b[39mself\u001b[39m\u001b[39m.\u001b[39mconvert_xunits(xi) \u001b[39mfor\u001b[39;00m xi \u001b[39min\u001b[39;00m x]\n\u001b[1;32m   6579\u001b[0m \u001b[39mif\u001b[39;00m bin_range \u001b[39mis\u001b[39;00m \u001b[39mnot\u001b[39;00m \u001b[39mNone\u001b[39;00m:\n\u001b[1;32m   6580\u001b[0m     bin_range \u001b[39m=\u001b[39m \u001b[39mself\u001b[39m\u001b[39m.\u001b[39mconvert_xunits(bin_range)\n",
      "File \u001b[0;32m/home/phocus4/anaconda3/lib/python3.11/site-packages/matplotlib/artist.py:175\u001b[0m, in \u001b[0;36mArtist.convert_xunits\u001b[0;34m(self, x)\u001b[0m\n\u001b[1;32m    173\u001b[0m \u001b[39mif\u001b[39;00m ax \u001b[39mis\u001b[39;00m \u001b[39mNone\u001b[39;00m \u001b[39mor\u001b[39;00m ax\u001b[39m.\u001b[39mxaxis \u001b[39mis\u001b[39;00m \u001b[39mNone\u001b[39;00m:\n\u001b[1;32m    174\u001b[0m     \u001b[39mreturn\u001b[39;00m x\n\u001b[0;32m--> 175\u001b[0m \u001b[39mreturn\u001b[39;00m ax\u001b[39m.\u001b[39mxaxis\u001b[39m.\u001b[39mconvert_units(x)\n",
      "File \u001b[0;32m/home/phocus4/anaconda3/lib/python3.11/site-packages/matplotlib/axis.py:1525\u001b[0m, in \u001b[0;36mAxis.convert_units\u001b[0;34m(self, x)\u001b[0m\n\u001b[1;32m   1523\u001b[0m     ret \u001b[39m=\u001b[39m \u001b[39mself\u001b[39m\u001b[39m.\u001b[39mconverter\u001b[39m.\u001b[39mconvert(x, \u001b[39mself\u001b[39m\u001b[39m.\u001b[39munits, \u001b[39mself\u001b[39m)\n\u001b[1;32m   1524\u001b[0m \u001b[39mexcept\u001b[39;00m \u001b[39mException\u001b[39;00m \u001b[39mas\u001b[39;00m e:\n\u001b[0;32m-> 1525\u001b[0m     \u001b[39mraise\u001b[39;00m munits\u001b[39m.\u001b[39mConversionError(\u001b[39m'\u001b[39m\u001b[39mFailed to convert value(s) to axis \u001b[39m\u001b[39m'\u001b[39m\n\u001b[1;32m   1526\u001b[0m                                  \u001b[39mf\u001b[39m\u001b[39m'\u001b[39m\u001b[39munits: \u001b[39m\u001b[39m{\u001b[39;00mx\u001b[39m!r}\u001b[39;00m\u001b[39m'\u001b[39m) \u001b[39mfrom\u001b[39;00m \u001b[39me\u001b[39;00m\n\u001b[1;32m   1527\u001b[0m \u001b[39mreturn\u001b[39;00m ret\n",
      "\u001b[0;31mConversionError\u001b[0m: Failed to convert value(s) to axis units: array(['fibrinogen', 'PT - INR', 'magnesium', ..., '-monos', 'WBC x 1000',\n       'MCH'], dtype=object)"
     ]
    },
    {
     "name": "stderr",
     "output_type": "stream",
     "text": [
      "/home/phocus4/anaconda3/lib/python3.11/site-packages/IPython/core/pylabtools.py:152: MatplotlibDeprecationWarning: savefig() got unexpected keyword argument \"orientation\" which is no longer supported as of 3.3 and will become an error two minor releases later\n",
      "  fig.canvas.print_figure(bytes_io, **kw)\n",
      "/home/phocus4/anaconda3/lib/python3.11/site-packages/IPython/core/pylabtools.py:152: MatplotlibDeprecationWarning: savefig() got unexpected keyword argument \"dpi\" which is no longer supported as of 3.3 and will become an error two minor releases later\n",
      "  fig.canvas.print_figure(bytes_io, **kw)\n",
      "/home/phocus4/anaconda3/lib/python3.11/site-packages/IPython/core/pylabtools.py:152: MatplotlibDeprecationWarning: savefig() got unexpected keyword argument \"facecolor\" which is no longer supported as of 3.3 and will become an error two minor releases later\n",
      "  fig.canvas.print_figure(bytes_io, **kw)\n",
      "/home/phocus4/anaconda3/lib/python3.11/site-packages/IPython/core/pylabtools.py:152: MatplotlibDeprecationWarning: savefig() got unexpected keyword argument \"edgecolor\" which is no longer supported as of 3.3 and will become an error two minor releases later\n",
      "  fig.canvas.print_figure(bytes_io, **kw)\n",
      "/home/phocus4/anaconda3/lib/python3.11/site-packages/IPython/core/pylabtools.py:152: MatplotlibDeprecationWarning: savefig() got unexpected keyword argument \"bbox_inches_restore\" which is no longer supported as of 3.3 and will become an error two minor releases later\n",
      "  fig.canvas.print_figure(bytes_io, **kw)\n"
     ]
    },
    {
     "data": {
      "image/png": "[encoded data removed]",
      "text/plain": [
       "<Figure size 640x480 with 1 Axes>"
      ]
     },
     "metadata": {},
     "output_type": "display_data"
    }
   ],
   "source": [
    "df_vars = pd.read_csv('TabelaVars.csv')\n",
    "tables = df_vars['table'].unique()\n",
    "\n",
    "start_time = -1440\n",
    "end_time = 7200\n",
    "interval = 360\n",
    "\n",
    "for table in tables:\n",
    "    df = pd.read_csv(table + \".csv\")\n",
    "    df_filtered = df_vars[df_vars['table'] == table]\n",
    "    totalpatients = df['patientunitstayid'].nunique()\n",
    "\n",
    "    for index, row in df_filtered.iterrows():\n",
    "        var_procurada = row['var']\n",
    "        column_time = row['col_time']\n",
    "        column_var_name = row['col_var']\n",
    "\n",
    "        df_filtrado = df[df[column_var_name].str.contains(var_procurada, na=False)].copy()\n",
    "\n",
    "        bins = list(range(start_time, end_time + interval, interval))\n",
    "\n",
    "        # Crie o histograma\n",
    "        plt.figure()\n",
    "        counts, _ = plt.hist(df_filtrado[column_time], edgecolor='k', bins=10)\n",
    "        for i, freq in enumerate(counts):\n",
    "            plt.text(bins[i] + (bins[i+1] - bins[i]) / 2, freq + 1, str(int(freq)), fontsize=9, ha='center', va='bottom')\n",
    "        plt.xlabel('contagem') \n",
    "        plt.ylabel('Frequência')\n",
    "        plt.title(f'Histograma de {var_procurada}')\n",
    "\n",
    "        # Salve o gráficodg_column = 'diagnosisstring'\n",
    "\n",
    "        file_path = os.path.join('graficos', f'histograma_{var_procurada}.png')\n",
    "        plt.savefig(file_path)\n",
    "\n",
    "        plt.show()\n"
   ]
  },
  {
   "cell_type": "code",
   "execution_count": 3,
   "metadata": {},
   "outputs": [],
   "source": [
    "patient_csv = \"patient.csv\"\n",
    "apacheApsVar = \"apacheApsVar.csv\"\n",
    "infusiondrug = \"infusiondrug.csv\"\n",
    "physicalExam = \"physicalExam.csv\"\n",
    "lab = \"lab.csv\"\n",
    "hospital = \"hospital.csv\"\n",
    "diagnosis = \"diagnosis.csv\"\n",
    "respiratoryCare = \"respiratoryCare.csv\""
   ]
  },
  {
   "cell_type": "code",
   "execution_count": 6,
   "metadata": {},
   "outputs": [],
   "source": [
    "df = pd.read_csv(patient_csv)\n",
    "df_diagnosis = pd.read_csv(diagnosis)\n",
    "\n",
    "df_nosepsis = df[~df.apply(lambda row: any(row.astypequero salvar a(str).str.contains('Sepsis', case=False, na=False)), axis=1)].copy()\n",
    "\n",
    "ids_nosepsis = df_nosepsis[['patientunitstayid', 'apacheadmissiondx']].copy()\n",
    "\n",
    "diagnosis_nosepsis = pd.merge(ids_nosepsis, df_diagnosis, on='patientunitstayid', how='inner')\n",
    "\n",
    "dev_sepsis = diagnosis_nosepsis[diagnosis_nosepsis.apply(lambda row: any(row.astype(str).str.contains('sepsis')), axis=1)].copy()\n",
    "\n",
    "id_septicos = dev_sepsis.query('diagnosisoffset < 360').copy()\n",
    "id_septicos = id_septicos['patientunitstayid'].copy().unique()\n",
    "\n",
    "dev_sepsis = dev_sepsis[~dev_sepsis['patientunitstayid'].isin(id_septicos)].copy()\n",
    "dev_sepsis_ids = dev_sepsis['patientunitstayid'].copy()"
   ]
  },
  {
   "cell_type": "code",
   "execution_count": 7,
   "metadata": {},
   "outputs": [
    {
     "data": {
      "text/plain": [
       "2738"
      ]
     },
     "execution_count": 7,
     "metadata": {},
     "output_type": "execute_result"
    }
   ],
   "source": [
    "dgn_sepsis12h = pd.merge(dev_sepsis_ids, df_diagnosis, on='patientunitstayid', how='inner')\n",
    "dgn_sepsis12h['patientunitstayid'].nunique()"
   ]
  }
 ],
 "metadata": {
  "kernelspec": {
   "display_name": "Python 3",
   "language": "python",
   "name": "python3"
  },
  "language_info": {
   "codemirror_mode": {
    "name": "ipython",
    "version": 3
   },
   "file_extension": ".py",
   "mimetype": "text/x-python",
   "name": "python",
   "nbconvert_exporter": "python",
   "pygments_lexer": "ipython3",
   "version": "3.11.5"
  }
 },
 "nbformat": 4,
 "nbformat_minor": 2
}
