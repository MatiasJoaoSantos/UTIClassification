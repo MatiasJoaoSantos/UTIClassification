{
 "cells": [
  {
   "cell_type": "code",
   "execution_count": 3,
   "metadata": {},
   "outputs": [],
   "source": [
    "import pandas as pd\n",
    "import matplotlib.pyplot as plt\n",
    "%matplotlib inline\n",
    "import seaborn as sns\n",
    "import numpy as np\n",
    "\n",
    "from IPython.display import display\n",
    "from sklearn.model_selection import train_test_split\n",
    "from sklearn.ensemble import RandomForestClassifier\n",
    "from sklearn.model_selection import RandomizedSearchCV\n",
    "from imblearn.over_sampling import RandomOverSampler\n",
    "\n",
    "from sklearn.model_selection import GridSearchCV, StratifiedKFold\n",
    "from sklearn.metrics import accuracy_score,confusion_matrix, ConfusionMatrixDisplay, classification_report\n",
    "from sklearn.metrics import roc_auc_score, precision_score, recall_score, accuracy_score, classification_report, confusion_matrix, roc_curve, auc, f1_score"
   ]
  },
  {
   "cell_type": "code",
   "execution_count": 24,
   "metadata": {},
   "outputs": [],
   "source": [
    "def RandomForest(df):\n",
    "    X = df.drop('diagnostico', axis=1)\n",
    "    y = df['diagnostico']\n",
    "    X_train, X_test, y_train, y_test = train_test_split(X, y, test_size=0.2)\n",
    "    X_train, X_val, y_train, y_val = train_test_split(X_train, y_train, test_size=0.25)\n",
    "    \n",
    "    params_grid = {'bootstrap': [True, False],\n",
    "                    'max_depth': [20, 40, 60, 80],\n",
    "                    'max_features': [None, 'sqrt', 'log2'],\n",
    "                    'min_samples_leaf': [1, 2, 4],\n",
    "                    'min_samples_split': [2, 5, 10],\n",
    "                    'n_estimators': [100, 200]}\n",
    "    \n",
    "    rf = RandomForestClassifier()\n",
    "    grid_classifier = RandomizedSearchCV(estimator = rf, param_distributions = params_grid, n_iter = 100, cv = 5, verbose=0, n_jobs = -1)\n",
    "    grid_classifier.fit(X_val, y_val)\n",
    "    \n",
    "    best_parameters = grid_classifier.best_params_\n",
    "    \n",
    "    model = RandomForestClassifier(**best_parameters)\n",
    "    model.fit(X_train, y_train)\n",
    "    \n",
    "    pred = model.predict(X_test)\n",
    "    \n",
    "    test_accuracy = accuracy_score(y_test, pred)\n",
    "    cm = confusion_matrix(y_test, pred)\n",
    "    ppv = precision_score(y_test, pred)\n",
    "    sensit = recall_score(y_test, pred)\n",
    "    specificity = cm[0,0] / (cm[0,0] + cm[0,1])\n",
    "    \n",
    "    y_pred_proba = model.predict_proba(X_test)[:, 1]\n",
    "    auc_score = roc_auc_score(y_test, y_pred_proba)\n",
    "    f1 = f1_score(y_test, pred)\n",
    "    print(f\"F1-Score: {f1:.4f}\")\n",
    "    print(f\"Acurácia: {test_accuracy:.4f}\")\n",
    "    print(f\"PPV (Precision): {ppv:.4f}\")\n",
    "    print(f\"Sensibilidade (Recall): {sensit:.4f}\")\n",
    "    print(f\"Especificidade: {specificity:.4f}\")\n",
    "    print(f\"AUC: {auc_score:.4f}\")    \n",
    "    print(classification_report(y_test,pred))\n",
    "    print(confusion_matrix(y_test, pred))\n",
    "    \n",
    "    plt.figure(figsize=(8, 6))\n",
    "    sns.heatmap(confusion_matrix(y_test, pred), annot=True, fmt='d', cmap='Blues', xticklabels=['Sem Sepse', 'Com Sepse'], yticklabels=['Sem Sepse', 'Com Sepse'])\n",
    "    plt.xlabel('Predito')\n",
    "    plt.ylabel('Verdadeiro')\n",
    "    plt.title('Matriz de Confusão')\n",
    "    plt.show()"
   ]
  },
  {
   "cell_type": "code",
   "execution_count": 26,
   "metadata": {},
   "outputs": [],
   "source": [
    "def RandomForest_Over(df):\n",
    "    X = df.drop('diagnostico', axis=1)\n",
    "    y = df['diagnostico']\n",
    "    X_train, X_test, y_train, y_test = train_test_split(X, y, test_size=0.2)\n",
    "    X_train, X_val, y_train, y_val = train_test_split(X_train, y_train, test_size=0.25)\n",
    "    \n",
    "    # Aplicar oversampling aleatório apenas nos dados de treino\n",
    "    ros = RandomOverSampler(random_state=42)\n",
    "    X_train_res, y_train_res = ros.fit_resample(X_train, y_train)\n",
    "    \n",
    "    params_grid = {'bootstrap': [True, False],\n",
    "                    'max_depth': [20, 40, 60, 80],\n",
    "                    'max_features': [None, 'sqrt', 'log2'],\n",
    "                    'min_samples_leaf': [1, 2, 4],\n",
    "                    'min_samples_split': [2, 5, 10],\n",
    "                    'n_estimators': [100, 200]}\n",
    "    \n",
    "    rf = RandomForestClassifier()\n",
    "    grid_classifier = RandomizedSearchCV(estimator=rf, param_distributions=params_grid, n_iter=100, cv=5, verbose=0, random_state=42, n_jobs=-1)\n",
    "    grid_classifier.fit(X_val, y_val)\n",
    "    \n",
    "    best_parameters = grid_classifier.best_params_\n",
    "    \n",
    "    model = RandomForestClassifier(**best_parameters)\n",
    "    # Treinar o modelo com os dados balanceados\n",
    "    model.fit(X_train_res, y_train_res)\n",
    "    \n",
    "    pred = model.predict(X_test)\n",
    "    \n",
    "    test_accuracy = accuracy_score(y_test, pred)\n",
    "    cm = confusion_matrix(y_test, pred)\n",
    "    ppv = precision_score(y_test, pred)\n",
    "    sensit = recall_score(y_test, pred)\n",
    "    specificity = cm[0,0] / (cm[0,0] + cm[0,1])\n",
    "    \n",
    "    y_pred_proba = model.predict_proba(X_test)[:, 1]\n",
    "    auc_score = roc_auc_score(y_test, y_pred_proba)\n",
    "    f1 = f1_score(y_test, pred)\n",
    "    print(f\"F1-Score: {f1:.4f}\")\n",
    "    print(f\"Acurácia: {test_accuracy:.4f}\")\n",
    "    print(f\"PPV (Precision): {ppv:.4f}\")\n",
    "    print(f\"Sensibilidade (Recall): {sensit:.4f}\")\n",
    "    print(f\"Especificidade: {specificity:.4f}\")\n",
    "    print(f\"AUC: {auc_score:.4f}\")  \n",
    "        \n",
    "    print(classification_report(y_test, pred))\n",
    "    print(confusion_matrix(y_test, pred))\n",
    "    \n",
    "    plt.figure(figsize=(8, 6))\n",
    "    sns.heatmap(confusion_matrix(y_test, pred), annot=True, fmt='d', cmap='Blues', xticklabels=['Sem Sepse', 'Com Sepse'], yticklabels=['Sem Sepse', 'Com Sepse'])\n",
    "    plt.xlabel('Predito')\n",
    "    plt.ylabel('Verdadeiro')\n",
    "    plt.title('Matriz de Confusão')\n",
    "    plt.show()"
   ]
  },
  {
   "cell_type": "code",
   "execution_count": 22,
   "metadata": {},
   "outputs": [
    {
     "data": {
      "text/plain": [
       "Index(['patientunitstayid', 'gender', 'age', 'bands', 'CRP', 'ESR', 'temp',\n",
       "       'lactate', 'WBC', 'lymphs', 'resp', 'spo2/fio2', 'pao2/fio2',\n",
       "       'bicarbonate', 'heartRate', 'troponin', 'systolic', 'diastolic', 'MAP',\n",
       "       'bloodUreaNitrogen', 'alanine', 'aspartate', 'bilirubin', 'hemoglobin',\n",
       "       'iqr', 'platelets', 'PTT', 'fibrinogen', 'albumin', 'chloride',\n",
       "       'glucose', 'sodium', 'gcs', 'potassium', 'calcium', 'phosphate',\n",
       "       'magnesium', 'ethnicity_African American', 'ethnicity_Asian',\n",
       "       'ethnicity_Caucasian', 'ethnicity_Hispanic',\n",
       "       'ethnicity_Native American', 'ethnicity_Other/Unknown', 'diagnostico'],\n",
       "      dtype='object')"
      ]
     },
     "execution_count": 22,
     "metadata": {},
     "output_type": "execute_result"
    }
   ],
   "source": [
    "df_reg = pd.read_csv('df_regressao.csv')\n",
    "df_reg.columns"
   ]
  },
  {
   "cell_type": "code",
   "execution_count": 19,
   "metadata": {},
   "outputs": [],
   "source": [
    "#df_reg = df_reg.drop(columns=['iqr','bands', 'fibrinogen', 'temp', 'CRP', 'ESR', 'gender', 'ethnicity_African American', 'ethnicity_Asian', 'ethnicity_Caucasian', 'ethnicity_Hispanic', 'ethnicity_Native American', 'ethnicity_Other/Unknown'])"
   ]
  },
  {
   "cell_type": "code",
   "execution_count": null,
   "metadata": {},
   "outputs": [],
   "source": [
    "RandomForest(df_reg)"
   ]
  },
  {
   "cell_type": "code",
   "execution_count": 27,
   "metadata": {},
   "outputs": [
    {
     "name": "stdout",
     "output_type": "stream",
     "text": [
      "F1-Score: 0.3704\n",
      "Acurácia: 0.9910\n",
      "PPV (Precision): 0.3597\n",
      "Sensibilidade (Recall): 0.3817\n",
      "Especificidade: 0.9952\n",
      "AUC: 0.8752\n",
      "              precision    recall  f1-score   support\n",
      "\n",
      "         0.0       1.00      1.00      1.00     18728\n",
      "         1.0       0.36      0.38      0.37       131\n",
      "\n",
      "    accuracy                           0.99     18859\n",
      "   macro avg       0.68      0.69      0.68     18859\n",
      "weighted avg       0.99      0.99      0.99     18859\n",
      "\n",
      "[[18639    89]\n",
      " [   81    50]]\n"
     ]
    },
    {
     "data": {
      "image/png": "[encoded data removed]",
      "text/plain": [
       "<Figure size 800x600 with 2 Axes>"
      ]
     },
     "metadata": {},
     "output_type": "display_data"
    }
   ],
   "source": [
    "RandomForest_Over(df_reg)"
   ]
  }
 ],
 "metadata": {
  "kernelspec": {
   "display_name": "uti",
   "language": "python",
   "name": "python3"
  },
  "language_info": {
   "codemirror_mode": {
    "name": "ipython",
    "version": 3
   },
   "file_extension": ".py",
   "mimetype": "text/x-python",
   "name": "python",
   "nbconvert_exporter": "python",
   "pygments_lexer": "ipython3",
   "version": "3.12.4"
  }
 },
 "nbformat": 4,
 "nbformat_minor": 2
}
