{
 "cells": [
  {
   "cell_type": "code",
   "execution_count": null,
   "metadata": {},
   "outputs": [],
   "source": [
    "import pandas as pd\n",
    "import matplotlib.pyplot as plt\n",
    "%matplotlib inline\n",
    "import seaborn as sns\n",
    "import numpy as np\n",
    "\n",
    "from sklearn.linear_model import LogisticRegression\n",
    "\n",
    "from IPython.display import display\n",
    "from sklearn.model_selection import train_test_split\n",
    "from sklearn.model_selection import GridSearchCV, StratifiedKFold\n",
    "from imblearn.over_sampling import RandomOverSampler\n",
    "from sklearn.metrics import accuracy_score,confusion_matrix, ConfusionMatrixDisplay, classification_report\n",
    "from sklearn.metrics import roc_auc_score, precision_score, recall_score, accuracy_score, classification_report, confusion_matrix, roc_curve, auc, f1_score\n"
   ]
  },
  {
   "cell_type": "markdown",
   "metadata": {},
   "source": [
    "### Funções Regressão Logística"
   ]
  },
  {
   "cell_type": "code",
   "execution_count": null,
   "metadata": {},
   "outputs": [],
   "source": [
    "def LReg(df):\n",
    "    X = df.drop('diagnostico', axis=1)\n",
    "    y = df['diagnostico']\n",
    "    \n",
    "    X_train, X_test, y_train, y_test = train_test_split(X, y, test_size=0.2, random_state=42)\n",
    "    X_train, X_val, y_train, y_val = train_test_split(X_train, y_train, test_size=0.25, random_state=42)\n",
    "\n",
    "    class_weight = {0: sum(y == 1) / len(y), 1: sum(y == 0) / len(y)}\n",
    "\n",
    "    params_grid = {\n",
    "        'penalty': ['l2'],  \n",
    "        'C': np.logspace(-3, 3, 7),  \n",
    "        'solver': ['lbfgs'],  \n",
    "        'max_iter': [100, 1000] \n",
    "    }\n",
    "\n",
    "    classifier = LogisticRegression(class_weight=class_weight, random_state=42)\n",
    "\n",
    "    cv = StratifiedKFold(n_splits=5, shuffle=True, random_state=42)\n",
    "\n",
    "    grid_classifier = GridSearchCV(classifier, params_grid, scoring='accuracy', cv=cv, n_jobs=-1)\n",
    "    grid_classifier.fit(X_val, y_val)\n",
    "    \n",
    "    best_parameters = grid_classifier.best_params_\n",
    "\n",
    "    model = LogisticRegression(**best_parameters, class_weight=class_weight, random_state=42)\n",
    "\n",
    "    model.fit(X_train, y_train)\n",
    "    \n",
    "    pred = model.predict(X_test)\n",
    "    \n",
    "    test_accuracy = accuracy_score(y_test, pred)\n",
    "    cm = confusion_matrix(y_test, pred)\n",
    "    ppv = precision_score(y_test, pred)\n",
    "    sensit = recall_score(y_test, pred)\n",
    "    specificity = cm[0,0] / (cm[0,0] + cm[0,1])\n",
    "    \n",
    "    y_pred_proba = model.predict_proba(X_test)[:, 1]\n",
    "    auc_score = roc_auc_score(y_test, y_pred_proba)\n",
    "    f1 = f1_score(y_test, pred)\n",
    "    print(f\"F1-Score: {f1:.4f}\")\n",
    "    print(f\"Acurácia: {test_accuracy:.4f}\")\n",
    "    print(f\"PPV (Precision): {ppv:.4f}\")\n",
    "    print(f\"Sensibilidade (Recall): {sensit:.4f}\")\n",
    "    print(f\"Especificidade: {specificity:.4f}\")\n",
    "    print(f\"AUC: {auc_score:.4f}\")   \n",
    "\n",
    "    \n",
    "    print(classification_report(y_test, pred))\n",
    "    print(confusion_matrix(y_test, pred))\n",
    "\n",
    "    plt.figure(figsize=(8, 6))\n",
    "    sns.heatmap(confusion_matrix(y_test, pred), annot=True, fmt='d', cmap='Blues', xticklabels=['Sem Sepse', 'Com Sepse'], yticklabels=['Sem Sepse', 'Com Sepse'])\n",
    "    plt.xlabel('Predito')\n",
    "    plt.ylabel('Verdadeiro')\n",
    "    plt.title('Matriz de Confusão')\n",
    "    plt.show()\n"
   ]
  },
  {
   "cell_type": "code",
   "execution_count": null,
   "metadata": {},
   "outputs": [],
   "source": [
    "from imblearn.pipeline import make_pipeline\n",
    "from imblearn.over_sampling import RandomOverSampler\n",
    "\n",
    "def LReg_Over(df):\n",
    "    X = df.drop('diagnostico', axis=1)\n",
    "    y = df['diagnostico']\n",
    "    \n",
    "    X_train, X_test, y_train, y_test = train_test_split(X, y, test_size=0.2, random_state=42)\n",
    "    X_train, X_val, y_train, y_val = train_test_split(X_train, y_train, test_size=0.25, random_state=42)\n",
    "\n",
    "    # Definindo a grade de parâmetros\n",
    "    params_grid = {\n",
    "        'logisticregression__penalty': ['l2'],  \n",
    "        'logisticregression__C': np.logspace(-3, 3, 7),  \n",
    "        'logisticregression__solver': ['lbfgs'],  \n",
    "        'logisticregression__max_iter': [100, 1000] \n",
    "    }\n",
    "\n",
    "    # Criando o pipeline com oversampling e logistic regression\n",
    "    pipeline = make_pipeline(RandomOverSampler(random_state=42), LogisticRegression(random_state=42))\n",
    "\n",
    "    # Validação cruzada estratificada\n",
    "    cv = StratifiedKFold(n_splits=5, shuffle=True, random_state=42)\n",
    "\n",
    "    # Grid search dentro da pipeline\n",
    "    grid_classifier = GridSearchCV(pipeline, params_grid, scoring='accuracy', cv=cv)\n",
    "    grid_classifier.fit(X_train, y_train)\n",
    "    \n",
    "    # Obtendo os melhores parâmetros\n",
    "    best_parameters = grid_classifier.best_params_\n",
    "\n",
    "    # Ajustando o modelo final com os melhores parâmetros\n",
    "    model = grid_classifier.best_estimator_\n",
    "    model.fit(X_train, y_train)\n",
    "    \n",
    "    # Fazendo previsões no conjunto de teste\n",
    "    pred = model.predict(X_test)\n",
    "    \n",
    "    test_accuracy = accuracy_score(y_test, pred)\n",
    "    cm = confusion_matrix(y_test, pred)\n",
    "    ppv = precision_score(y_test, pred)\n",
    "    sensit = recall_score(y_test, pred)\n",
    "    specificity = cm[0,0] / (cm[0,0] + cm[0,1])\n",
    "    \n",
    "    y_pred_proba = model.predict_proba(X_test)[:, 1]\n",
    "    auc_score = roc_auc_score(y_test, y_pred_proba)\n",
    "    f1 = f1_score(y_test, pred)\n",
    "    print(f\"F1-Score: {f1:.4f}\")\n",
    "    print(f\"Acurácia: {test_accuracy:.4f}\")\n",
    "    print(f\"PPV (Precision): {ppv:.4f}\")\n",
    "    print(f\"Sensibilidade (Recall): {sensit:.4f}\")\n",
    "    print(f\"Especificidade: {specificity:.4f}\")\n",
    "    print(f\"AUC: {auc_score:.4f}\")  \n",
    "        \n",
    "    print(classification_report(y_test, pred))\n",
    "    print(confusion_matrix(y_test, pred))\n",
    "\n",
    "    # Plotando a matriz de confusão\n",
    "    plt.figure(figsize=(8, 6))\n",
    "    sns.heatmap(confusion_matrix(y_test, pred), annot=True, fmt='d', cmap='Blues', xticklabels=['Sem Sepse', 'Com Sepse'], yticklabels=['Sem Sepse', 'Com Sepse'])\n",
    "    plt.xlabel('Predito')\n",
    "    plt.ylabel('Verdadeiro')\n",
    "    plt.title('Matriz de Confusão')\n",
    "    plt.show()\n"
   ]
  },
  {
   "cell_type": "markdown",
   "metadata": {},
   "source": [
    "### Valores Normais"
   ]
  },
  {
   "cell_type": "code",
   "execution_count": null,
   "metadata": {},
   "outputs": [],
   "source": [
    "df_normal = pd.read_csv('df_normal.csv')"
   ]
  },
  {
   "cell_type": "code",
   "execution_count": null,
   "metadata": {},
   "outputs": [],
   "source": [
    "LReg(df_normal)"
   ]
  },
  {
   "cell_type": "code",
   "execution_count": null,
   "metadata": {},
   "outputs": [],
   "source": [
    "LReg_Over(df_normal)"
   ]
  },
  {
   "cell_type": "markdown",
   "metadata": {},
   "source": [
    "### KNN"
   ]
  },
  {
   "cell_type": "code",
   "execution_count": null,
   "metadata": {},
   "outputs": [],
   "source": [
    "df_knn = pd.read_csv('df_knn.csv')"
   ]
  },
  {
   "cell_type": "code",
   "execution_count": null,
   "metadata": {},
   "outputs": [],
   "source": [
    "LReg(df_knn)"
   ]
  },
  {
   "cell_type": "code",
   "execution_count": null,
   "metadata": {},
   "outputs": [],
   "source": [
    "LReg_Over(df_knn)"
   ]
  },
  {
   "cell_type": "markdown",
   "metadata": {},
   "source": [
    "### Media"
   ]
  },
  {
   "cell_type": "code",
   "execution_count": null,
   "metadata": {},
   "outputs": [],
   "source": [
    "df_media = pd.read_csv('df_media.csv')"
   ]
  },
  {
   "cell_type": "code",
   "execution_count": null,
   "metadata": {},
   "outputs": [],
   "source": [
    "LReg(df_media)"
   ]
  },
  {
   "cell_type": "code",
   "execution_count": null,
   "metadata": {},
   "outputs": [],
   "source": [
    "LReg_Over(df_media)"
   ]
  },
  {
   "cell_type": "markdown",
   "metadata": {},
   "source": [
    "### Mediana"
   ]
  },
  {
   "cell_type": "code",
   "execution_count": null,
   "metadata": {},
   "outputs": [],
   "source": [
    "df_mediana = pd.read_csv('df_mediana.csv')"
   ]
  },
  {
   "cell_type": "code",
   "execution_count": null,
   "metadata": {},
   "outputs": [],
   "source": [
    "LReg(df_mediana)"
   ]
  },
  {
   "cell_type": "code",
   "execution_count": null,
   "metadata": {},
   "outputs": [],
   "source": [
    "LReg_Over(df_mediana)"
   ]
  },
  {
   "cell_type": "markdown",
   "metadata": {},
   "source": [
    "### Moda"
   ]
  },
  {
   "cell_type": "code",
   "execution_count": null,
   "metadata": {},
   "outputs": [],
   "source": [
    "df_moda = pd.read_csv('df_moda.csv')"
   ]
  },
  {
   "cell_type": "code",
   "execution_count": null,
   "metadata": {},
   "outputs": [],
   "source": [
    "LReg(df_moda)"
   ]
  },
  {
   "cell_type": "code",
   "execution_count": null,
   "metadata": {},
   "outputs": [],
   "source": [
    "LReg_Over(df_moda)"
   ]
  },
  {
   "cell_type": "markdown",
   "metadata": {},
   "source": [
    "### Regressão"
   ]
  },
  {
   "cell_type": "code",
   "execution_count": null,
   "metadata": {},
   "outputs": [],
   "source": [
    "df_regressao = pd.read_csv('df_regressao.csv')"
   ]
  },
  {
   "cell_type": "code",
   "execution_count": null,
   "metadata": {},
   "outputs": [],
   "source": [
    "LReg(df_regressao)"
   ]
  },
  {
   "cell_type": "code",
   "execution_count": null,
   "metadata": {},
   "outputs": [],
   "source": [
    "LReg_Over(df_regressao)"
   ]
  },
  {
   "cell_type": "code",
   "execution_count": null,
   "metadata": {},
   "outputs": [],
   "source": []
  }
 ],
 "metadata": {
  "kernelspec": {
   "display_name": "uti",
   "language": "python",
   "name": "python3"
  },
  "language_info": {
   "codemirror_mode": {
    "name": "ipython",
    "version": 3
   },
   "file_extension": ".py",
   "mimetype": "text/x-python",
   "name": "python",
   "nbconvert_exporter": "python",
   "pygments_lexer": "ipython3",
   "version": "3.10.12"
  }
 },
 "nbformat": 4,
 "nbformat_minor": 2
}
