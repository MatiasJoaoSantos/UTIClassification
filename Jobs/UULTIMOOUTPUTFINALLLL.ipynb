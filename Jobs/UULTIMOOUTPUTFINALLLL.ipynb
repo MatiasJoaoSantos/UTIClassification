{
 "cells": [
  {
   "cell_type": "code",
   "execution_count": 1,
   "metadata": {
    "execution": {
     "iopub.execute_input": "2024-08-10T03:28:58.619285Z",
     "iopub.status.busy": "2024-08-10T03:28:58.619102Z",
     "iopub.status.idle": "2024-08-10T03:28:59.454891Z",
     "shell.execute_reply": "2024-08-10T03:28:59.454500Z"
    }
   },
   "outputs": [
    {
     "name": "stderr",
     "output_type": "stream",
     "text": [
      "Matplotlib created a temporary cache directory at /tmp/matplotlib-pofqsh9g because the default path (/home/grad/si/22/aliciachaves/.config/matplotlib) is not a writable directory; it is highly recommended to set the MPLCONFIGDIR environment variable to a writable directory, in particular to speed up the import of Matplotlib and to better support multiprocessing.\n"
     ]
    }
   ],
   "source": [
    "import pandas as pd\n",
    "import matplotlib.pyplot as plt\n",
    "import seaborn as sns\n",
    "import numpy as np\n",
    "from IPython.display import display"
   ]
  },
  {
   "cell_type": "code",
   "execution_count": 2,
   "metadata": {
    "execution": {
     "iopub.execute_input": "2024-08-10T03:28:59.456983Z",
     "iopub.status.busy": "2024-08-10T03:28:59.456604Z",
     "iopub.status.idle": "2024-08-10T03:29:01.214739Z",
     "shell.execute_reply": "2024-08-10T03:29:01.213973Z"
    }
   },
   "outputs": [],
   "source": [
    "df_final = pd.read_csv('df_final.csv')"
   ]
  },
  {
   "cell_type": "code",
   "execution_count": 3,
   "metadata": {
    "execution": {
     "iopub.execute_input": "2024-08-10T03:29:01.218332Z",
     "iopub.status.busy": "2024-08-10T03:29:01.218078Z",
     "iopub.status.idle": "2024-08-10T03:29:01.224747Z",
     "shell.execute_reply": "2024-08-10T03:29:01.224169Z"
    }
   },
   "outputs": [
    {
     "data": {
      "text/plain": [
       "122730"
      ]
     },
     "execution_count": 3,
     "metadata": {},
     "output_type": "execute_result"
    }
   ],
   "source": [
    "len(df_final)"
   ]
  },
  {
   "cell_type": "code",
   "execution_count": 4,
   "metadata": {
    "execution": {
     "iopub.execute_input": "2024-08-10T03:29:01.227398Z",
     "iopub.status.busy": "2024-08-10T03:29:01.227166Z",
     "iopub.status.idle": "2024-08-10T03:29:05.753752Z",
     "shell.execute_reply": "2024-08-10T03:29:05.753304Z"
    }
   },
   "outputs": [],
   "source": [
    "path = \"/home_cerberus/disk2/haniel.botelho/uploads/Downloads/physionet.org/files/eicu-crd/2.0/Base/\"\n",
    "\n",
    "df_patient = pd.read_csv(path + 'patient.csv')"
   ]
  },
  {
   "cell_type": "code",
   "execution_count": 5,
   "metadata": {
    "execution": {
     "iopub.execute_input": "2024-08-10T03:29:05.755701Z",
     "iopub.status.busy": "2024-08-10T03:29:05.755565Z",
     "iopub.status.idle": "2024-08-10T03:29:05.859786Z",
     "shell.execute_reply": "2024-08-10T03:29:05.859351Z"
    }
   },
   "outputs": [],
   "source": [
    "# Filtrar pacientes que possuem \"sepsis\" ou \"septic\" na coluna 'apacheadmissiondx'\n",
    "septics = df_patient[df_patient['apacheadmissiondx'].str.contains('sepsis|septic', case=False, na=False)]\n",
    "\n",
    "# Remover esses pacientes do df_final\n",
    "df_final = df_final[~df_final['patientunitstayid'].isin(septics['patientunitstayid'])]\n"
   ]
  },
  {
   "cell_type": "code",
   "execution_count": 6,
   "metadata": {
    "execution": {
     "iopub.execute_input": "2024-08-10T03:29:05.862010Z",
     "iopub.status.busy": "2024-08-10T03:29:05.861900Z",
     "iopub.status.idle": "2024-08-10T03:29:05.864592Z",
     "shell.execute_reply": "2024-08-10T03:29:05.864316Z"
    }
   },
   "outputs": [
    {
     "data": {
      "text/plain": [
       "106421"
      ]
     },
     "execution_count": 6,
     "metadata": {},
     "output_type": "execute_result"
    }
   ],
   "source": [
    "len(df_final)"
   ]
  },
  {
   "cell_type": "code",
   "execution_count": 7,
   "metadata": {
    "execution": {
     "iopub.execute_input": "2024-08-10T03:29:05.866055Z",
     "iopub.status.busy": "2024-08-10T03:29:05.865951Z",
     "iopub.status.idle": "2024-08-10T03:29:05.870081Z",
     "shell.execute_reply": "2024-08-10T03:29:05.869807Z"
    }
   },
   "outputs": [
    {
     "data": {
      "text/plain": [
       "diagnostico\n",
       "1    1975\n",
       "Name: count, dtype: int64"
      ]
     },
     "execution_count": 7,
     "metadata": {},
     "output_type": "execute_result"
    }
   ],
   "source": [
    "df_final[df_final['diagnostico'] == 1]['diagnostico'].value_counts()"
   ]
  },
  {
   "cell_type": "code",
   "execution_count": 8,
   "metadata": {
    "execution": {
     "iopub.execute_input": "2024-08-10T03:29:05.871532Z",
     "iopub.status.busy": "2024-08-10T03:29:05.871430Z",
     "iopub.status.idle": "2024-08-10T03:29:05.879145Z",
     "shell.execute_reply": "2024-08-10T03:29:05.878823Z"
    }
   },
   "outputs": [
    {
     "data": {
      "text/plain": [
       "diagnostico\n",
       "0    104446\n",
       "Name: count, dtype: int64"
      ]
     },
     "execution_count": 8,
     "metadata": {},
     "output_type": "execute_result"
    }
   ],
   "source": [
    "df_final[df_final['diagnostico'] == 0]['diagnostico'].value_counts()"
   ]
  }
 ],
 "metadata": {
  "language_info": {
   "codemirror_mode": {
    "name": "ipython",
    "version": 3
   },
   "file_extension": ".py",
   "mimetype": "text/x-python",
   "name": "python",
   "nbconvert_exporter": "python",
   "pygments_lexer": "ipython3",
   "version": "3.10.12"
  }
 },
 "nbformat": 4,
 "nbformat_minor": 2
}
