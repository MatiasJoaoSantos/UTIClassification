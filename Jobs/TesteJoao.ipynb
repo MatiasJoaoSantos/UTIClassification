{
 "cells": [
  {
   "cell_type": "code",
   "execution_count": 1,
   "metadata": {},
   "outputs": [],
   "source": [
    "import pandas as pd\n",
    "import numpy as np\n",
    "import matplotlib.pyplot as plt\n",
    "from sklearn.cluster import DBSCAN\n",
    "from sklearn.preprocessing import StandardScaler\n",
    "from sklearn.neighbors import NearestNeighbors\n",
    "from sklearn.cluster import DBSCAN, HDBSCAN\n",
    "from sklearn.datasets import make_blobs\n",
    "import hdbscan"
   ]
  },
  {
   "cell_type": "code",
   "execution_count": 40,
   "metadata": {},
   "outputs": [],
   "source": [
    "import pandas as pd\n",
    "import matplotlib.pyplot as plt\n",
    "from sklearn.preprocessing import StandardScaler\n",
    "from sklearn.decomposition import PCA\n",
    "from sklearn.cluster import DBSCAN\n",
    "from sklearn.impute import SimpleImputer\n",
    "from sklearn.metrics import silhouette_score\n",
    "from mpl_toolkits.mplot3d import Axes3D\n",
    "\n",
    "\n",
    "def plot_sepsis_clusters(dataframe, eps=0.5, min_samples=5, save_path=\"sepsis_plot.png\"):\n",
    "    \"\"\"\n",
    "    Aplica o DBSCAN para identificar clusters de pacientes e compara com o diagnóstico de sepse.\n",
    "\n",
    "    Parameters:\n",
    "    - dataframe (pd.DataFrame): O DataFrame contendo os dados.\n",
    "        - Deve conter a coluna 'diagnostico' indicando sepse (1) ou não (0).\n",
    "    - eps (float): A distância máxima entre dois pontos para serem considerados vizinhos (parâmetro DBSCAN).\n",
    "    - min_samples (int): O número mínimo de pontos necessários para formar um cluster (parâmetro DBSCAN).\n",
    "    - save_path (str): Caminho para salvar a imagem de saída.\n",
    "    \"\"\"\n",
    "\n",
    "    # Verificar se o dataframe possui a coluna 'diagnostico'\n",
    "    if 'diagnostico' not in dataframe.columns:\n",
    "        raise KeyError(\"A coluna 'diagnostico' não está presente no DataFrame.\")\n",
    "\n",
    "    # Separar a coluna 'diagnostico' dos sinais vitais\n",
    "    features = dataframe.drop(columns=['diagnostico'])\n",
    "    labels = dataframe['diagnostico']\n",
    "\n",
    "    # Imputar valores ausentes com a média da coluna\n",
    "    imputer = SimpleImputer(strategy='mean')\n",
    "    imputed_data = imputer.fit_transform(features)\n",
    "\n",
    "    # Normalizar os dados\n",
    "    scaler = StandardScaler()\n",
    "    normalized_data = scaler.fit_transform(imputed_data)\n",
    "\n",
    "    # Redução dimensional para 3D com PCA\n",
    "    pca = PCA(n_components=3)\n",
    "    reduced_data = pca.fit_transform(normalized_data)\n",
    "\n",
    "    # Criar um novo DataFrame com os dados reduzidos\n",
    "    reduced_df = pd.DataFrame(reduced_data, columns=['PC1', 'PC2', 'PC3'])\n",
    "    reduced_df['diagnostico'] = labels.values\n",
    "\n",
    "    # Aplicar DBSCAN ao DataFrame reduzido\n",
    "    dbscan = DBSCAN(eps=eps, min_samples=min_samples)\n",
    "    reduced_df['cluster'] = dbscan.fit_predict(reduced_df[['PC1', 'PC2', 'PC3']])\n",
    "\n",
    "    # Calcular a silhueta média para avaliar a qualidade dos clusters\n",
    "    if len(set(reduced_df['cluster'])) > 1:  # Verifica se há mais de um cluster\n",
    "        silhouette_avg = silhouette_score(reduced_df[['PC1', 'PC2', 'PC3']], reduced_df['cluster'])\n",
    "        print(\"Silhouette Coefficient:\", silhouette_avg)\n",
    "    else:\n",
    "        print(\"Não foi possível calcular o coeficiente de silhueta. Apenas um cluster foi encontrado.\")\n",
    "\n",
    "    # Plotar os resultados em 3D, colorindo os clusters e os pontos sépticos\n",
    "    fig = plt.figure(figsize=(12, 8))\n",
    "    ax = fig.add_subplot(111, projection='3D')\n",
    "\n",
    "    scatter = ax.scatter(reduced_df['PC1'], reduced_df['PC2'], reduced_df['PC3'],\n",
    "               c=reduced_df['cluster'], cmap='Set1', label='Clusters')\n",
    "\n",
    "    # Destacar os pacientes sépticos com um marcador diferente\n",
    "    ax.scatter(reduced_df[reduced_df['diagnostico'] == 1]['PC1'],\n",
    "               reduced_df[reduced_df['diagnostico'] == 1]['PC2'],\n",
    "               reduced_df[reduced_df['diagnostico'] == 1]['PC3'],\n",
    "               marker='x', color='red', label='Pacientes Sépticos')\n",
    "\n",
    "    ax.set_title('Detecção de Sepse com DBSCAN (3D)')\n",
    "    ax.set_xlabel('Principal Component 1')\n",
    "    ax.set_ylabel('Principal Component 2')\n",
    "    ax.set_zlabel('Principal Component 3')\n",
    "    ax.legend()\n",
    "    plt.savefig(save_path)\n",
    "    plt.show()\n",
    "\n",
    "\n",
    "# Exemplo de uso:\n",
    "# df = pd.read_csv('seus_dados.csv')\n",
    "# plot_sepsis_clusters(df)\n"
   ]
  },
  {
   "cell_type": "code",
   "execution_count": 41,
   "metadata": {},
   "outputs": [
    {
     "name": "stdout",
     "output_type": "stream",
     "text": [
      "Silhouette Coefficient: 0.20951154096341212\n"
     ]
    },
    {
     "ename": "ValueError",
     "evalue": "Unknown projection '3D'",
     "output_type": "error",
     "traceback": [
      "\u001b[0;31m---------------------------------------------------------------------------\u001b[0m",
      "\u001b[0;31mKeyError\u001b[0m                                  Traceback (most recent call last)",
      "File \u001b[0;32m~/miniconda3/envs/uti/lib/python3.10/site-packages/matplotlib/projections/__init__.py:120\u001b[0m, in \u001b[0;36mget_projection_class\u001b[0;34m(projection)\u001b[0m\n\u001b[1;32m    119\u001b[0m \u001b[39mtry\u001b[39;00m:\n\u001b[0;32m--> 120\u001b[0m     \u001b[39mreturn\u001b[39;00m projection_registry\u001b[39m.\u001b[39;49mget_projection_class(projection)\n\u001b[1;32m    121\u001b[0m \u001b[39mexcept\u001b[39;00m \u001b[39mKeyError\u001b[39;00m \u001b[39mas\u001b[39;00m err:\n",
      "File \u001b[0;32m~/miniconda3/envs/uti/lib/python3.10/site-packages/matplotlib/projections/__init__.py:83\u001b[0m, in \u001b[0;36mProjectionRegistry.get_projection_class\u001b[0;34m(self, name)\u001b[0m\n\u001b[1;32m     82\u001b[0m \u001b[39m\u001b[39m\u001b[39m\"\"\"Get a projection class from its *name*.\"\"\"\u001b[39;00m\n\u001b[0;32m---> 83\u001b[0m \u001b[39mreturn\u001b[39;00m \u001b[39mself\u001b[39;49m\u001b[39m.\u001b[39;49m_all_projection_types[name]\n",
      "\u001b[0;31mKeyError\u001b[0m: '3D'",
      "\nThe above exception was the direct cause of the following exception:\n",
      "\u001b[0;31mValueError\u001b[0m                                Traceback (most recent call last)",
      "\u001b[1;32m/scratch/Matias/predicao-sepse-speed/Jobs/TesteJoao.ipynb Célula 3\u001b[0m line \u001b[0;36m2\n\u001b[1;32m      <a href='vscode-notebook-cell://ssh-remote%2Bgorgona8/scratch/Matias/predicao-sepse-speed/Jobs/TesteJoao.ipynb#W2sdnNjb2RlLXJlbW90ZQ%3D%3D?line=0'>1</a>\u001b[0m df \u001b[39m=\u001b[39m pd\u001b[39m.\u001b[39mread_csv(\u001b[39m'\u001b[39m\u001b[39mdf_final.csv\u001b[39m\u001b[39m'\u001b[39m)\n\u001b[0;32m----> <a href='vscode-notebook-cell://ssh-remote%2Bgorgona8/scratch/Matias/predicao-sepse-speed/Jobs/TesteJoao.ipynb#W2sdnNjb2RlLXJlbW90ZQ%3D%3D?line=1'>2</a>\u001b[0m plot_sepsis_clusters(df)\n",
      "\u001b[1;32m/scratch/Matias/predicao-sepse-speed/Jobs/TesteJoao.ipynb Célula 3\u001b[0m line \u001b[0;36m6\n\u001b[1;32m     <a href='vscode-notebook-cell://ssh-remote%2Bgorgona8/scratch/Matias/predicao-sepse-speed/Jobs/TesteJoao.ipynb#W2sdnNjb2RlLXJlbW90ZQ%3D%3D?line=57'>58</a>\u001b[0m \u001b[39m# Plotar os resultados em 3D, colorindo os clusters e os pontos sépticos\u001b[39;00m\n\u001b[1;32m     <a href='vscode-notebook-cell://ssh-remote%2Bgorgona8/scratch/Matias/predicao-sepse-speed/Jobs/TesteJoao.ipynb#W2sdnNjb2RlLXJlbW90ZQ%3D%3D?line=58'>59</a>\u001b[0m fig \u001b[39m=\u001b[39m plt\u001b[39m.\u001b[39mfigure(figsize\u001b[39m=\u001b[39m(\u001b[39m12\u001b[39m, \u001b[39m8\u001b[39m))\n\u001b[0;32m---> <a href='vscode-notebook-cell://ssh-remote%2Bgorgona8/scratch/Matias/predicao-sepse-speed/Jobs/TesteJoao.ipynb#W2sdnNjb2RlLXJlbW90ZQ%3D%3D?line=59'>60</a>\u001b[0m ax \u001b[39m=\u001b[39m fig\u001b[39m.\u001b[39;49madd_subplot(\u001b[39m111\u001b[39;49m, projection\u001b[39m=\u001b[39;49m\u001b[39m'\u001b[39;49m\u001b[39m3D\u001b[39;49m\u001b[39m'\u001b[39;49m)\n\u001b[1;32m     <a href='vscode-notebook-cell://ssh-remote%2Bgorgona8/scratch/Matias/predicao-sepse-speed/Jobs/TesteJoao.ipynb#W2sdnNjb2RlLXJlbW90ZQ%3D%3D?line=61'>62</a>\u001b[0m scatter \u001b[39m=\u001b[39m ax\u001b[39m.\u001b[39mscatter(reduced_df[\u001b[39m'\u001b[39m\u001b[39mPC1\u001b[39m\u001b[39m'\u001b[39m], reduced_df[\u001b[39m'\u001b[39m\u001b[39mPC2\u001b[39m\u001b[39m'\u001b[39m], reduced_df[\u001b[39m'\u001b[39m\u001b[39mPC3\u001b[39m\u001b[39m'\u001b[39m],\n\u001b[1;32m     <a href='vscode-notebook-cell://ssh-remote%2Bgorgona8/scratch/Matias/predicao-sepse-speed/Jobs/TesteJoao.ipynb#W2sdnNjb2RlLXJlbW90ZQ%3D%3D?line=62'>63</a>\u001b[0m            c\u001b[39m=\u001b[39mreduced_df[\u001b[39m'\u001b[39m\u001b[39mcluster\u001b[39m\u001b[39m'\u001b[39m], cmap\u001b[39m=\u001b[39m\u001b[39m'\u001b[39m\u001b[39mSet1\u001b[39m\u001b[39m'\u001b[39m, label\u001b[39m=\u001b[39m\u001b[39m'\u001b[39m\u001b[39mClusters\u001b[39m\u001b[39m'\u001b[39m)\n\u001b[1;32m     <a href='vscode-notebook-cell://ssh-remote%2Bgorgona8/scratch/Matias/predicao-sepse-speed/Jobs/TesteJoao.ipynb#W2sdnNjb2RlLXJlbW90ZQ%3D%3D?line=64'>65</a>\u001b[0m \u001b[39m# Destacar os pacientes sépticos com um marcador diferente\u001b[39;00m\n",
      "File \u001b[0;32m~/miniconda3/envs/uti/lib/python3.10/site-packages/matplotlib/figure.py:709\u001b[0m, in \u001b[0;36mFigureBase.add_subplot\u001b[0;34m(self, *args, **kwargs)\u001b[0m\n\u001b[1;32m    706\u001b[0m \u001b[39mif\u001b[39;00m (\u001b[39mlen\u001b[39m(args) \u001b[39m==\u001b[39m \u001b[39m1\u001b[39m \u001b[39mand\u001b[39;00m \u001b[39misinstance\u001b[39m(args[\u001b[39m0\u001b[39m], Integral)\n\u001b[1;32m    707\u001b[0m         \u001b[39mand\u001b[39;00m \u001b[39m100\u001b[39m \u001b[39m<\u001b[39m\u001b[39m=\u001b[39m args[\u001b[39m0\u001b[39m] \u001b[39m<\u001b[39m\u001b[39m=\u001b[39m \u001b[39m999\u001b[39m):\n\u001b[1;32m    708\u001b[0m     args \u001b[39m=\u001b[39m \u001b[39mtuple\u001b[39m(\u001b[39mmap\u001b[39m(\u001b[39mint\u001b[39m, \u001b[39mstr\u001b[39m(args[\u001b[39m0\u001b[39m])))\n\u001b[0;32m--> 709\u001b[0m projection_class, pkw \u001b[39m=\u001b[39m \u001b[39mself\u001b[39;49m\u001b[39m.\u001b[39;49m_process_projection_requirements(\u001b[39m*\u001b[39;49m\u001b[39m*\u001b[39;49mkwargs)\n\u001b[1;32m    710\u001b[0m ax \u001b[39m=\u001b[39m projection_class(\u001b[39mself\u001b[39m, \u001b[39m*\u001b[39margs, \u001b[39m*\u001b[39m\u001b[39m*\u001b[39mpkw)\n\u001b[1;32m    711\u001b[0m key \u001b[39m=\u001b[39m (projection_class, pkw)\n",
      "File \u001b[0;32m~/miniconda3/envs/uti/lib/python3.10/site-packages/matplotlib/figure.py:1717\u001b[0m, in \u001b[0;36mFigureBase._process_projection_requirements\u001b[0;34m(self, axes_class, polar, projection, **kwargs)\u001b[0m\n\u001b[1;32m   1714\u001b[0m     projection \u001b[39m=\u001b[39m \u001b[39m'\u001b[39m\u001b[39mpolar\u001b[39m\u001b[39m'\u001b[39m\n\u001b[1;32m   1716\u001b[0m \u001b[39mif\u001b[39;00m \u001b[39misinstance\u001b[39m(projection, \u001b[39mstr\u001b[39m) \u001b[39mor\u001b[39;00m projection \u001b[39mis\u001b[39;00m \u001b[39mNone\u001b[39;00m:\n\u001b[0;32m-> 1717\u001b[0m     projection_class \u001b[39m=\u001b[39m projections\u001b[39m.\u001b[39;49mget_projection_class(projection)\n\u001b[1;32m   1718\u001b[0m \u001b[39melif\u001b[39;00m \u001b[39mhasattr\u001b[39m(projection, \u001b[39m'\u001b[39m\u001b[39m_as_mpl_axes\u001b[39m\u001b[39m'\u001b[39m):\n\u001b[1;32m   1719\u001b[0m     projection_class, extra_kwargs \u001b[39m=\u001b[39m projection\u001b[39m.\u001b[39m_as_mpl_axes()\n",
      "File \u001b[0;32m~/miniconda3/envs/uti/lib/python3.10/site-packages/matplotlib/projections/__init__.py:122\u001b[0m, in \u001b[0;36mget_projection_class\u001b[0;34m(projection)\u001b[0m\n\u001b[1;32m    120\u001b[0m     \u001b[39mreturn\u001b[39;00m projection_registry\u001b[39m.\u001b[39mget_projection_class(projection)\n\u001b[1;32m    121\u001b[0m \u001b[39mexcept\u001b[39;00m \u001b[39mKeyError\u001b[39;00m \u001b[39mas\u001b[39;00m err:\n\u001b[0;32m--> 122\u001b[0m     \u001b[39mraise\u001b[39;00m \u001b[39mValueError\u001b[39;00m(\u001b[39m\"\u001b[39m\u001b[39mUnknown projection \u001b[39m\u001b[39m%r\u001b[39;00m\u001b[39m\"\u001b[39m \u001b[39m%\u001b[39m projection) \u001b[39mfrom\u001b[39;00m \u001b[39merr\u001b[39;00m\n",
      "\u001b[0;31mValueError\u001b[0m: Unknown projection '3D'"
     ]
    },
    {
     "data": {
      "text/plain": [
       "<Figure size 1200x800 with 0 Axes>"
      ]
     },
     "metadata": {},
     "output_type": "display_data"
    }
   ],
   "source": [
    "\n",
    "df = pd.read_csv('df_final.csv')\n",
    "plot_sepsis_clusters(df)"
   ]
  },
  {
   "cell_type": "code",
   "execution_count": null,
   "metadata": {},
   "outputs": [],
   "source": []
  }
 ],
 "metadata": {
  "kernelspec": {
   "display_name": "uti",
   "language": "python",
   "name": "python3"
  },
  "language_info": {
   "codemirror_mode": {
    "name": "ipython",
    "version": 3
   },
   "file_extension": ".py",
   "mimetype": "text/x-python",
   "name": "python",
   "nbconvert_exporter": "python",
   "pygments_lexer": "ipython3",
   "version": "3.10.12"
  }
 },
 "nbformat": 4,
 "nbformat_minor": 2
}
